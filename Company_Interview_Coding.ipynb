{
  "nbformat": 4,
  "nbformat_minor": 0,
  "metadata": {
    "colab": {
      "provenance": [],
      "authorship_tag": "ABX9TyPtV6ci+LRzP5cN9bWZtKGV",
      "include_colab_link": true
    },
    "kernelspec": {
      "name": "python3",
      "display_name": "Python 3"
    },
    "language_info": {
      "name": "python"
    }
  },
  "cells": [
    {
      "cell_type": "markdown",
      "metadata": {
        "id": "view-in-github",
        "colab_type": "text"
      },
      "source": [
        "<a href=\"https://colab.research.google.com/github/Ishansingh438/AlmaX-Practice-Set/blob/main/Company_Interview_Coding.ipynb\" target=\"_parent\"><img src=\"https://colab.research.google.com/assets/colab-badge.svg\" alt=\"Open In Colab\"/></a>"
      ]
    },
    {
      "cell_type": "markdown",
      "source": [
        "Write a list comprehension for producing a list of numbers between 1 and 1000 that are divisible by 3."
      ],
      "metadata": {
        "id": "wq2bJHKYIr2d"
      }
    },
    {
      "cell_type": "code",
      "execution_count": null,
      "metadata": {
        "colab": {
          "base_uri": "https://localhost:8080/"
        },
        "id": "BuFk8H45IlQn",
        "outputId": "b6bf8432-a3a2-4b58-99cd-ec979d058d4c"
      },
      "outputs": [
        {
          "output_type": "stream",
          "name": "stdout",
          "text": [
            "[3, 6, 9, 12, 15, 18, 21, 24, 27, 30, 33, 36, 39, 42, 45, 48, 51, 54, 57, 60, 63, 66, 69, 72, 75, 78, 81, 84, 87, 90, 93, 96, 99, 102, 105, 108, 111, 114, 117, 120, 123, 126, 129, 132, 135, 138, 141, 144, 147, 150, 153, 156, 159, 162, 165, 168, 171, 174, 177, 180, 183, 186, 189, 192, 195, 198, 201, 204, 207, 210, 213, 216, 219, 222, 225, 228, 231, 234, 237, 240, 243, 246, 249, 252, 255, 258, 261, 264, 267, 270, 273, 276, 279, 282, 285, 288, 291, 294, 297, 300, 303, 306, 309, 312, 315, 318, 321, 324, 327, 330, 333, 336, 339, 342, 345, 348, 351, 354, 357, 360, 363, 366, 369, 372, 375, 378, 381, 384, 387, 390, 393, 396, 399, 402, 405, 408, 411, 414, 417, 420, 423, 426, 429, 432, 435, 438, 441, 444, 447, 450, 453, 456, 459, 462, 465, 468, 471, 474, 477, 480, 483, 486, 489, 492, 495, 498, 501, 504, 507, 510, 513, 516, 519, 522, 525, 528, 531, 534, 537, 540, 543, 546, 549, 552, 555, 558, 561, 564, 567, 570, 573, 576, 579, 582, 585, 588, 591, 594, 597, 600, 603, 606, 609, 612, 615, 618, 621, 624, 627, 630, 633, 636, 639, 642, 645, 648, 651, 654, 657, 660, 663, 666, 669, 672, 675, 678, 681, 684, 687, 690, 693, 696, 699, 702, 705, 708, 711, 714, 717, 720, 723, 726, 729, 732, 735, 738, 741, 744, 747, 750, 753, 756, 759, 762, 765, 768, 771, 774, 777, 780, 783, 786, 789, 792, 795, 798, 801, 804, 807, 810, 813, 816, 819, 822, 825, 828, 831, 834, 837, 840, 843, 846, 849, 852, 855, 858, 861, 864, 867, 870, 873, 876, 879, 882, 885, 888, 891, 894, 897, 900, 903, 906, 909, 912, 915, 918, 921, 924, 927, 930, 933, 936, 939, 942, 945, 948, 951, 954, 957, 960, 963, 966, 969, 972, 975, 978, 981, 984, 987, 990, 993, 996, 999]\n"
          ]
        }
      ],
      "source": [
        "number = [1,1000]\n",
        "\n",
        "def check_divisibility(number):\n",
        "  list1 = []\n",
        "  for i in range(1,1000):\n",
        "    if i%3==0:\n",
        "      list1.append(i)\n",
        "  return list1\n",
        "print(check_divisibility(number))"
      ]
    },
    {
      "cell_type": "code",
      "source": [
        "Number = int(input())\n",
        "def fibonacciSeries(Number):\n",
        "\n",
        "    if Number == 0:\n",
        "        return 0\n",
        "    elif Number == 1:\n",
        "        return 1\n",
        "    else:\n",
        "        return fibonacciSeries(Number - 1) + fibonacciSeries(Number - 2)\n",
        "\n",
        "for i in range(Number):\n",
        "  print(fibonacciSeries(i))\n"
      ],
      "metadata": {
        "colab": {
          "base_uri": "https://localhost:8080/"
        },
        "id": "FkIUxGH_4I7F",
        "outputId": "9adc877d-7aa5-4304-837b-41932aab6637"
      },
      "execution_count": null,
      "outputs": [
        {
          "output_type": "stream",
          "name": "stdout",
          "text": [
            "8\n",
            "0\n",
            "1\n",
            "1\n",
            "2\n",
            "3\n",
            "5\n",
            "8\n",
            "13\n"
          ]
        }
      ]
    },
    {
      "cell_type": "code",
      "source": [
        "#python program to check prime number\n",
        "\n",
        "number = int(input())\n",
        "\n",
        "for i in range(2,number):\n",
        "  if (number%i) == 0:\n",
        "    print(number,'Is Not prime number')\n",
        "    break\n",
        "else:\n",
        "  print(number,'Is prime number')"
      ],
      "metadata": {
        "colab": {
          "base_uri": "https://localhost:8080/"
        },
        "id": "E7C5JbXa3N-2",
        "outputId": "6b2fb064-04ad-4fe5-bcfa-bab09fe26a97"
      },
      "execution_count": null,
      "outputs": [
        {
          "output_type": "stream",
          "name": "stdout",
          "text": [
            "11\n",
            "11 Is prime number\n"
          ]
        }
      ]
    },
    {
      "cell_type": "code",
      "source": [
        "#python program to reverse integer\n",
        "number = 132\n",
        "reversed_int = str(number)[::-1]\n",
        "print('Reversed integer is',reversed_int)"
      ],
      "metadata": {
        "colab": {
          "base_uri": "https://localhost:8080/"
        },
        "id": "Svb7mll3-lPJ",
        "outputId": "d5db48e7-2ad9-4b66-c620-8309c9e037e9"
      },
      "execution_count": null,
      "outputs": [
        {
          "output_type": "stream",
          "name": "stdout",
          "text": [
            "Reversed integer is 231\n"
          ]
        }
      ]
    },
    {
      "cell_type": "code",
      "source": [
        "#python program to check armstrong number\n",
        "\n",
        "number = int(input())\n",
        "\n",
        "order = len(str(number))\n",
        "sum_of_powers = sum(int(digit) ** order for digit in str(number))\n",
        "\n",
        "if sum_of_powers == number:\n",
        "    print(number, 'is an Armstrong number.')\n",
        "else:\n",
        "    print(number, 'is not an Armstrong number.')\n"
      ],
      "metadata": {
        "colab": {
          "base_uri": "https://localhost:8080/"
        },
        "id": "IkVjZoOMFsUs",
        "outputId": "ada65c99-f8b6-4e08-f697-c387d34f823b"
      },
      "execution_count": null,
      "outputs": [
        {
          "output_type": "stream",
          "name": "stdout",
          "text": [
            "1\n",
            "1 is an Armstrong number.\n"
          ]
        }
      ]
    },
    {
      "cell_type": "code",
      "source": [
        "number = int(input())\n",
        "\n",
        "def binary_number(number):\n",
        "    for digit in str(number):\n",
        "        if digit not in ('0', '1'):\n",
        "            return False\n",
        "    else:\n",
        "        return True\n",
        "\n",
        "print(binary_number(number))\n"
      ],
      "metadata": {
        "colab": {
          "base_uri": "https://localhost:8080/"
        },
        "id": "OvDp37Q8mg_v",
        "outputId": "d470c381-076f-4898-8e0b-17bb17cb62d6"
      },
      "execution_count": null,
      "outputs": [
        {
          "output_type": "stream",
          "name": "stdout",
          "text": [
            "12\n",
            "False\n"
          ]
        }
      ]
    },
    {
      "cell_type": "code",
      "source": [
        "string = input(\"\")\n",
        "string1 = input(\"\")\n",
        "\n",
        "for char in string:\n",
        "  if char in string == char in string1 and len(string) == len(string1):\n",
        "    print(\"String is Aanagram\")\n",
        "else:\n",
        "  print(\"String is not Anagram\")"
      ],
      "metadata": {
        "id": "AArNETvG4XFu"
      },
      "execution_count": null,
      "outputs": []
    },
    {
      "cell_type": "code",
      "source": [
        "import array\n",
        "from ctypes import Array\n",
        "arr = [1,0,1,1,1,0,0]\n",
        "size = len(arr)\n",
        "for i in range(size-2):\n",
        "  if arr[i] == arr[i+1] and arr[i+1]==arr[i+2]:\n",
        "    print(arr[i])"
      ],
      "metadata": {
        "id": "wFhzIpuG5q8L",
        "colab": {
          "base_uri": "https://localhost:8080/"
        },
        "outputId": "173e8d40-3a3d-4763-d6ff-56f55d0ad3d8"
      },
      "execution_count": null,
      "outputs": [
        {
          "output_type": "stream",
          "name": "stdout",
          "text": [
            "1\n"
          ]
        }
      ]
    },
    {
      "cell_type": "code",
      "source": [
        "strng = input()\n",
        "dict1 = {}\n",
        "\n",
        "for char in strng:\n",
        "  if char in dict1:\n",
        "    dict1[char] += 1\n",
        "  else:\n",
        "    dict1[char] = 1\n",
        "\n",
        "print((dict1))\n"
      ],
      "metadata": {
        "colab": {
          "base_uri": "https://localhost:8080/"
        },
        "id": "gXuTMoPNPIOM",
        "outputId": "8207c2af-c598-44d9-8f30-b975b9c35bd6"
      },
      "execution_count": null,
      "outputs": [
        {
          "output_type": "stream",
          "name": "stdout",
          "text": [
            "google.com\n",
            "{'g': 2, 'o': 3, 'l': 1, 'e': 1, '.': 1, 'c': 1, 'm': 1}\n"
          ]
        }
      ]
    },
    {
      "cell_type": "code",
      "source": [
        "div = int(input())\n",
        "num = input()\n",
        "\n",
        "def outer_layer(num):\n",
        "    def inner_layer(div):\n",
        "        return num % div == 0\n",
        "    return inner_layer\n",
        "check_divisibility = outer_layer(14)\n",
        "print(check_divisibility(2))\n"
      ],
      "metadata": {
        "colab": {
          "base_uri": "https://localhost:8080/"
        },
        "id": "OedT0rzLYK1r",
        "outputId": "3840659a-0ae4-4b80-ae3e-5b90474fac4f"
      },
      "execution_count": null,
      "outputs": [
        {
          "output_type": "stream",
          "name": "stdout",
          "text": [
            "9\n",
            "8\n",
            "True\n"
          ]
        }
      ]
    },
    {
      "cell_type": "markdown",
      "source": [
        "In a competition, participants were given a number to sum its digits until it was a single-digit number. So, write a Python program to add the digits of a positive integer repeatedly until the result has a single digit.\n",
        "\n",
        "Input:\n",
        "7548\n",
        "\n",
        "Output:\n",
        "Step-1 Sum: 24\n",
        "\n",
        "Step-2 Sum: 6"
      ],
      "metadata": {
        "id": "H26hOP1yeaxd"
      }
    },
    {
      "cell_type": "code",
      "source": [
        "num = int(input())\n",
        "\n",
        "step = 0\n",
        "while num>=10:\n",
        "  step += 1\n",
        "  sum = 0\n",
        "  while num>0:\n",
        "    sum += num%10\n",
        "    num//=10\n",
        "  num = sum\n",
        "  print(f'Step-{step} Sum: {num}')\n",
        "\n"
      ],
      "metadata": {
        "colab": {
          "base_uri": "https://localhost:8080/"
        },
        "id": "dH0aTCEnGwSu",
        "outputId": "495ef79c-24d4-4002-d222-75398511cfa4"
      },
      "execution_count": null,
      "outputs": [
        {
          "output_type": "stream",
          "name": "stdout",
          "text": [
            "987997977978979879879877979799797978797897\n",
            "Step-1 Sum: 335\n",
            "Step-2 Sum: 11\n",
            "Step-3 Sum: 2\n"
          ]
        }
      ]
    },
    {
      "cell_type": "code",
      "source": [
        "nums = [1,0,1,1,1,1,0,0,0,0,1,1,1,1,1,1,1,1,1]\n",
        "def max_consecutive_ones(nums):\n",
        "    max_count = 0\n",
        "    current_count = 0\n",
        "\n",
        "    for num in nums:\n",
        "        if num == 1:\n",
        "            current_count += 1\n",
        "            max_count = max(max_count, current_count)\n",
        "        else:\n",
        "            current_count = 0\n",
        "\n",
        "    return max_count\n",
        "\n",
        "print(max_consecutive_ones(nums))\n"
      ],
      "metadata": {
        "colab": {
          "base_uri": "https://localhost:8080/"
        },
        "id": "oNol5R7M39tA",
        "outputId": "e7436aea-fe83-4ad1-e6c8-e8736f3b4d03"
      },
      "execution_count": null,
      "outputs": [
        {
          "output_type": "stream",
          "name": "stdout",
          "text": [
            "9\n"
          ]
        }
      ]
    },
    {
      "cell_type": "markdown",
      "source": [
        "Write a Python program that accept a list of integers\n",
        "and check the length of the 5th element. Return\n",
        "true if the length of the list is 8 and fifth element occurs thrice,\n",
        "\n",
        "[19, 15, 5, 7, 5, 5, 2]\n",
        "\n",
        "Output:\n",
        "\n",
        "False\n",
        "\n",
        "input:\n",
        "\n",
        "[11, 12, 14, 13, 14, 13, 15, 14]\n",
        "\n",
        "Output:\n",
        "\n",
        "True"
      ],
      "metadata": {
        "id": "NXZw2cnJ6VRP"
      }
    },
    {
      "cell_type": "code",
      "source": [
        "lst = [11, 12, 14, 13, 14, 13, 15, 14]\n",
        "\n",
        "def length_check_occurs_time(lst):\n",
        "  for num in lst:\n",
        "    if lst.count(lst[4]) == 3 and len(lst) == 8:\n",
        "      return True\n",
        "    else:\n",
        "      return False\n",
        "print(length_check_occurs_time(lst))"
      ],
      "metadata": {
        "colab": {
          "base_uri": "https://localhost:8080/"
        },
        "id": "El7_-L4a6_cU",
        "outputId": "7432d2a0-752d-4ce4-a05f-691745f8e1b5"
      },
      "execution_count": null,
      "outputs": [
        {
          "output_type": "stream",
          "name": "stdout",
          "text": [
            "True\n"
          ]
        }
      ]
    },
    {
      "cell_type": "markdown",
      "source": [
        "Write a Python program that accept an integer test\n",
        "whether an integer greater than 4^4 and which is 4 mod34 (4|34|)\n",
        "\n",
        "Input:\n",
        "\n",
        "922\n",
        "\n",
        "Output:\n",
        "True\n",
        "\n",
        "Input:\n",
        "\n",
        "914\n",
        "\n",
        "Output:\n",
        "False"
      ],
      "metadata": {
        "id": "7Un6LwoT7AL9"
      }
    },
    {
      "cell_type": "code",
      "source": [
        "num = int(input())\n",
        "\n",
        "def check_integer(num):\n",
        "  if num> 4*4 and num%34 == 4:\n",
        "    return True\n",
        "  else:\n",
        "    return False\n",
        "print(check_integer(num))\n"
      ],
      "metadata": {
        "colab": {
          "base_uri": "https://localhost:8080/"
        },
        "id": "ZpJA4e-A7Ar-",
        "outputId": "02d572fe-87ec-4d35-b59d-3c551fb881fb"
      },
      "execution_count": null,
      "outputs": [
        {
          "output_type": "stream",
          "name": "stdout",
          "text": [
            "922\n",
            "True\n"
          ]
        }
      ]
    },
    {
      "cell_type": "markdown",
      "source": [
        "Write a Python program find a list of integers with\n",
        "exactly two occurrences of nineteen and at least\n",
        "three occurrences of five,\n",
        "\n",
        "Input:\n",
        "[19, 19, 15, 5, 3, 5, 5, 2]\n",
        "\n",
        "Output\n",
        "True\n",
        "\n",
        "Input:\n",
        "[19, 15, 15, 5, 3, 3, 5, 21]\n",
        "\n",
        "Output:\n",
        "False"
      ],
      "metadata": {
        "id": "tLLI2-yi7ge1"
      }
    },
    {
      "cell_type": "code",
      "source": [
        "lst = [19, 19, 15, 5, 3, 5, 5, 2]\n",
        "\n",
        "def occurence_check(lst):\n",
        "  for num in lst:\n",
        "    if lst.count(19) == 2 and lst.count(5) >=3:\n",
        "      return True\n",
        "  else:\n",
        "    return False\n",
        "print(occurence_check(lst))\n"
      ],
      "metadata": {
        "colab": {
          "base_uri": "https://localhost:8080/"
        },
        "id": "Iuv6aesl8Ezg",
        "outputId": "6b438166-7a89-4a27-ebf3-dec1a8cfdb4f"
      },
      "execution_count": null,
      "outputs": [
        {
          "output_type": "stream",
          "name": "stdout",
          "text": [
            "True\n"
          ]
        }
      ]
    },
    {
      "cell_type": "code",
      "source": [
        "my_list = list(map(int, input('').split()))\n",
        "\n",
        "def count_me(my_list):\n",
        "  if my_list.count(19) == 2 and my_list.count(5) >= 3:\n",
        "    return True\n",
        "  else:\n",
        "    return False\n",
        "print(count_me(my_list))"
      ],
      "metadata": {
        "colab": {
          "base_uri": "https://localhost:8080/"
        },
        "id": "XK4sYPNfn5qX",
        "outputId": "6e7f65d9-d9fa-45e6-a528-c6e27d406a95"
      },
      "execution_count": null,
      "outputs": [
        {
          "output_type": "stream",
          "name": "stdout",
          "text": [
            "19 19 15 5 3 5 5 2\n",
            "True\n"
          ]
        }
      ]
    },
    {
      "cell_type": "markdown",
      "source": [
        "Write a Python program to check a given list of\n",
        "integers where the sum of the first i integers is i.\n",
        "\n",
        "Input:\n",
        "[10, 1, 2, 3, 4, 5]\n",
        "\n",
        "Output:\n",
        "False\n",
        "\n",
        "input:\n",
        "[1, 1, 1, 1, 1, 1]\n",
        "\n",
        "Output: True"
      ],
      "metadata": {
        "id": "im1eWocQ8EbS"
      }
    },
    {
      "cell_type": "code",
      "source": [
        "lst = list(map(int, input('').split()))\n",
        "\n",
        "def sum_check(lst):\n",
        "  for i in lst:\n",
        "    if sum(lst[:i]) == i:\n",
        "      return True\n",
        "  else:\n",
        "    return False\n",
        "print(sum_check(lst))\n"
      ],
      "metadata": {
        "colab": {
          "base_uri": "https://localhost:8080/"
        },
        "id": "M_jsnOHk8oMD",
        "outputId": "b913fe60-8304-4329-df37-9d6332763326"
      },
      "execution_count": null,
      "outputs": [
        {
          "output_type": "stream",
          "name": "stdout",
          "text": [
            "10 1 2 3 4 5\n",
            "False\n"
          ]
        }
      ]
    },
    {
      "cell_type": "markdown",
      "source": [
        "Given a string, the task is to count all palindrome sub string in a given string. Length of palindrome sub string is greater than or equal to 2\n",
        "\n",
        "Input :\n",
        "\n",
        "str = \"abaab\"\n",
        "\n",
        "Output: 3\n",
        "\n",
        "Input :\n",
        "\n",
        "str = \"abbaeae\"\n",
        "\n",
        "Output: 4"
      ],
      "metadata": {
        "id": "y3GuQtTzD2Xg"
      }
    },
    {
      "cell_type": "code",
      "source": [
        "string = input()\n",
        "\n",
        "def palimdrome(string):\n",
        "  count = 0\n",
        "  n = len(string)\n",
        "  for i in range(n):\n",
        "    for j in range(i+2,n+1):\n",
        "      if string[i:j]==string[i:j][::-1]:\n",
        "        count += 1\n",
        "  return count\n",
        "print(palimdrome(string))\n",
        "\n"
      ],
      "metadata": {
        "colab": {
          "base_uri": "https://localhost:8080/"
        },
        "id": "CmLx_Fiv37kp",
        "outputId": "5ce734c4-edbf-407f-d6d6-a9e60af30cbb"
      },
      "execution_count": null,
      "outputs": [
        {
          "output_type": "stream",
          "name": "stdout",
          "text": [
            "abaab\n",
            "3\n"
          ]
        }
      ]
    },
    {
      "cell_type": "markdown",
      "source": [
        "Write a python program to find the longest palindromic substring in a given string.\n",
        "\n",
        "Input : babad\n",
        "\n",
        "Output : bab"
      ],
      "metadata": {
        "id": "V8yISRP_EkOO"
      }
    },
    {
      "cell_type": "code",
      "source": [
        "string = input()\n",
        "\n",
        "def palimdrome(string):\n",
        "  substring =[]\n",
        "  leng = len(string)\n",
        "  for i in range(leng):\n",
        "    for j in range(i+2,leng+1):\n",
        "      if string[i:j] == string[i:j][::-1]:\n",
        "        substring.append(string[i:j])\n",
        "  return max(substring, key =len)\n",
        "print(palimdrome(string))\n",
        "\n"
      ],
      "metadata": {
        "colab": {
          "base_uri": "https://localhost:8080/"
        },
        "id": "LFfpiwlzElR3",
        "outputId": "592f4017-71cf-4e1b-e8af-d52f1f964eb2"
      },
      "execution_count": 80,
      "outputs": [
        {
          "output_type": "stream",
          "name": "stdout",
          "text": [
            "bab\n",
            "bab\n"
          ]
        }
      ]
    },
    {
      "cell_type": "markdown",
      "source": [
        "We are making n stone piles! The first pile has\n",
        "n stones. If n is even, then all piles have an even\n",
        "number of stones. If n is odd, all piles have an odd\n",
        "number of stones. Each pile must more stones than\n",
        "the previous pile but as few as possible. Write a\n",
        "Python program to find the number of stones in each\n",
        "pile.\n",
        "\n",
        "Input: 2\n",
        "\n",
        "Output:\n",
        "[2, 4]\n",
        "\n",
        "Input: 10\n",
        "\n",
        "Output:\n",
        "[10, 12, 14, 16, 18, 20, 22, 24, 26, 28]\n",
        "\n",
        "Input: 3\n",
        "\n",
        "Output:\n",
        "[3, 5, 7]"
      ],
      "metadata": {
        "id": "K4X7MqRx8pAo"
      }
    },
    {
      "cell_type": "code",
      "source": [
        "num = int(input())\n",
        "def stone_piles(num):\n",
        "  piles =[]\n",
        "  for i in range(num):\n",
        "    stone = num+2*i\n",
        "    piles.append(stone)\n",
        "  return piles\n",
        "print(stone_piles(num))\n"
      ],
      "metadata": {
        "id": "wuGZl9rn9HEg",
        "colab": {
          "base_uri": "https://localhost:8080/"
        },
        "outputId": "9a9739e8-eccc-4295-a907-cbb83afd8a40"
      },
      "execution_count": 78,
      "outputs": [
        {
          "output_type": "stream",
          "name": "stdout",
          "text": [
            "7\n",
            "[7, 9, 11, 13, 15, 17, 19]\n"
          ]
        }
      ]
    },
    {
      "cell_type": "markdown",
      "source": [
        "Write a Python program to check the nth-1 string\n",
        "is a proper substring of nth string in a given list of\n",
        "strings.\n",
        "\n",
        "Input:\n",
        "[a', 'abb', sts' 'oo, de', 'side]\n",
        "\n",
        "Output: True\n",
        "\n",
        "Input\n",
        "[a', 'abb', 'sfs', 'oo, ee', 'sfde]\n",
        "\n",
        "Output:\n",
        "False\n"
      ],
      "metadata": {
        "id": "vZ0SDEaP9Hkn"
      }
    },
    {
      "cell_type": "code",
      "source": [
        "string1 = ['a', 'bb', 'sts', 'oo', 'de', 'side']\n",
        "i = int(input())\n",
        "\n",
        "def check_substring(string1):\n",
        "  for i in range(1,len(string1)):\n",
        "    if string1[i - 1] in string1[i] and string1[i-1] != string1[i]:\n",
        "      return True\n",
        "    else:\n",
        "      return False\n",
        "print(check_substring(string1))"
      ],
      "metadata": {
        "id": "FtIHHLwR9i8u",
        "colab": {
          "base_uri": "https://localhost:8080/"
        },
        "outputId": "a9931b45-a71f-4308-b392-3f132d0cbd71"
      },
      "execution_count": 76,
      "outputs": [
        {
          "output_type": "stream",
          "name": "stdout",
          "text": [
            "2\n",
            "False\n"
          ]
        }
      ]
    },
    {
      "cell_type": "markdown",
      "source": [
        "Write a Python program to check whether the given\n",
        "strings are palindromes or not. Return True, False.\n",
        "\n",
        "Input:\n",
        "['palindrome', 'madamimadam, \" Too, 'eyes]\n",
        "\n",
        "Output:\n",
        "\n",
        "False. True. True. False"
      ],
      "metadata": {
        "id": "EGmz582w9jcv"
      }
    },
    {
      "cell_type": "code",
      "source": [
        "string1 = ['palindrome', 'madam','TooT', 'eye']\n",
        "\n",
        "def palindrome(string1):\n",
        "  result = []\n",
        "  for string2 in string1:\n",
        "    if string2 == string2[::-1]:\n",
        "      result.append(True)\n",
        "    else:\n",
        "      result.append(False)\n",
        "  return result\n",
        "print(palindrome(string1))"
      ],
      "metadata": {
        "id": "QjO-8dF398BL",
        "colab": {
          "base_uri": "https://localhost:8080/"
        },
        "outputId": "c7588d10-e5ca-47d2-d565-8f87059d1355"
      },
      "execution_count": 28,
      "outputs": [
        {
          "output_type": "stream",
          "name": "stdout",
          "text": [
            "[False, True, True, True]\n"
          ]
        }
      ]
    }
  ]
}