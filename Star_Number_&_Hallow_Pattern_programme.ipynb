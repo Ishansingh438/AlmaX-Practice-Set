{
  "nbformat": 4,
  "nbformat_minor": 0,
  "metadata": {
    "colab": {
      "provenance": [],
      "authorship_tag": "ABX9TyPrmQI/+if8X6nRi5KNZTAD",
      "include_colab_link": true
    },
    "kernelspec": {
      "name": "python3",
      "display_name": "Python 3"
    },
    "language_info": {
      "name": "python"
    }
  },
  "cells": [
    {
      "cell_type": "markdown",
      "metadata": {
        "id": "view-in-github",
        "colab_type": "text"
      },
      "source": [
        "<a href=\"https://colab.research.google.com/github/Ishansingh438/AlmaX-Practice-Set/blob/main/Star_Number_%26_Hallow_Pattern_programme.ipynb\" target=\"_parent\"><img src=\"https://colab.research.google.com/assets/colab-badge.svg\" alt=\"Open In Colab\"/></a>"
      ]
    },
    {
      "cell_type": "markdown",
      "source": [
        "# Star Pattern"
      ],
      "metadata": {
        "id": "WhfvVkk0I917"
      }
    },
    {
      "cell_type": "code",
      "source": [
        "#square\n",
        "n=5\n",
        "for i in range(n):\n",
        "    for j in range(n):\n",
        "      print('*',end='  ')\n",
        "    print()"
      ],
      "metadata": {
        "id": "lpATP5QxrbWv",
        "colab": {
          "base_uri": "https://localhost:8080/"
        },
        "outputId": "77c2e5e7-ed92-4f83-abc9-3e4f516dd912"
      },
      "execution_count": null,
      "outputs": [
        {
          "output_type": "stream",
          "name": "stdout",
          "text": [
            "*  *  *  *  *  \n",
            "*  *  *  *  *  \n",
            "*  *  *  *  *  \n",
            "*  *  *  *  *  \n",
            "*  *  *  *  *  \n"
          ]
        }
      ]
    },
    {
      "cell_type": "code",
      "source": [
        "def print_left_alphabet_triangle(rows):\n",
        "    start_char = ord('A')  # Starting alphabet 'A'\n",
        "\n",
        "    for i in range(rows, 0, -1):\n",
        "        for j in range(1, i + 1):\n",
        "            char = chr(start_char + j - 1)\n",
        "            print(char, end=' ')\n",
        "\n",
        "        print()\n",
        "\n",
        "# Example usage:\n",
        "num_rows = int(input(\"Enter the number of rows: \"))\n",
        "print_left_alphabet_triangle(num_rows)\n"
      ],
      "metadata": {
        "colab": {
          "base_uri": "https://localhost:8080/"
        },
        "id": "v-VkvnxaRXXe",
        "outputId": "f2062c21-cdd3-4b9b-b150-2c5302650304"
      },
      "execution_count": null,
      "outputs": [
        {
          "output_type": "stream",
          "name": "stdout",
          "text": [
            "Enter the number of rows: 4\n",
            "A B C D \n",
            "A B C \n",
            "A B \n",
            "A \n"
          ]
        }
      ]
    },
    {
      "cell_type": "code",
      "source": [
        "#right side triangle\n",
        "n=6\n",
        "for i in range(n):\n",
        "    for j in range(i+1):\n",
        "      print('*',end='  ')\n",
        "    print()"
      ],
      "metadata": {
        "colab": {
          "base_uri": "https://localhost:8080/"
        },
        "id": "xIb4H5eB7KdK",
        "outputId": "755644bc-b5fc-450b-f3ae-3e6496a9440f"
      },
      "execution_count": null,
      "outputs": [
        {
          "output_type": "stream",
          "name": "stdout",
          "text": [
            "*  \n",
            "*  *  \n",
            "*  *  *  \n",
            "*  *  *  *  \n",
            "*  *  *  *  *  \n",
            "*  *  *  *  *  *  \n"
          ]
        }
      ]
    },
    {
      "cell_type": "code",
      "source": [
        "#right down triangle\n",
        "n=6\n",
        "for i in range(n):\n",
        "    for j in range(n-1):\n",
        "      print('',end='')\n",
        "    for j in range(i,n):\n",
        "      print('*',end='  ')\n",
        "    print()"
      ],
      "metadata": {
        "colab": {
          "base_uri": "https://localhost:8080/"
        },
        "id": "1RekWtyAMtcG",
        "outputId": "f736e42a-a362-480f-ec25-3c8693ff76b6"
      },
      "execution_count": null,
      "outputs": [
        {
          "output_type": "stream",
          "name": "stdout",
          "text": [
            "*  *  *  *  *  *  \n",
            "*  *  *  *  *  \n",
            "*  *  *  *  \n",
            "*  *  *  \n",
            "*  *  \n",
            "*  \n"
          ]
        }
      ]
    },
    {
      "cell_type": "code",
      "source": [
        "rows = 4\n",
        "# reverse loop\n",
        "for i in range(rows, 0, -1):\n",
        "    num = i\n",
        "    for j in range(0, i):\n",
        "        print(num, end=' ')\n",
        "    print(\"\\r\")"
      ],
      "metadata": {
        "colab": {
          "base_uri": "https://localhost:8080/"
        },
        "id": "m8qeam52bLC9",
        "outputId": "23286666-0bb2-4df4-cb6b-140d655316b8"
      },
      "execution_count": null,
      "outputs": [
        {
          "output_type": "stream",
          "name": "stdout",
          "text": [
            "4 4 4 4 \r\n",
            "3 3 3 \r\n",
            "2 2 \r\n",
            "1 \r\n"
          ]
        }
      ]
    },
    {
      "cell_type": "code",
      "source": [
        "n=int(input())\n",
        "# reverse loop\n",
        "for i in range(n, 0, -1):\n",
        "    num = i\n",
        "    for j in range(0, i):\n",
        "        print(num, end='')\n",
        "    print(\"\\r\")"
      ],
      "metadata": {
        "id": "rzXBwAcZeZk-",
        "outputId": "39464a9b-c018-45c4-a593-767264a54ccc",
        "colab": {
          "base_uri": "https://localhost:8080/"
        }
      },
      "execution_count": null,
      "outputs": [
        {
          "output_type": "stream",
          "name": "stdout",
          "text": [
            "5\n",
            "55555\n",
            "4444\n",
            "333\n",
            "22\n",
            "1\n"
          ]
        }
      ]
    },
    {
      "cell_type": "code",
      "source": [
        "#left side triangle\n",
        "n=6\n",
        "for i in range(n):\n",
        "    for j in range(i,n):\n",
        "      print('',end='   ')\n",
        "    for j in range(i+1):\n",
        "      print('*',end='  ')\n",
        "    print()"
      ],
      "metadata": {
        "colab": {
          "base_uri": "https://localhost:8080/"
        },
        "id": "l9lQMXLC_L73",
        "outputId": "57ded85e-10a0-4b44-a69c-466f3a431ad6"
      },
      "execution_count": null,
      "outputs": [
        {
          "output_type": "stream",
          "name": "stdout",
          "text": [
            "                  *  \n",
            "               *  *  \n",
            "            *  *  *  \n",
            "         *  *  *  *  \n",
            "      *  *  *  *  *  \n",
            "   *  *  *  *  *  *  \n"
          ]
        }
      ]
    },
    {
      "cell_type": "code",
      "source": [
        "#left down triangle\n",
        "n=6\n",
        "for i in range(n):\n",
        "    for j in range(i+1):\n",
        "      print('',end='   ')\n",
        "    for j in range(i,n):\n",
        "      print('*',end='  ')\n",
        "    print()"
      ],
      "metadata": {
        "colab": {
          "base_uri": "https://localhost:8080/"
        },
        "id": "hvwW6QzF7fek",
        "outputId": "5df7713f-7d41-4ddd-d6c3-a28e88fb4f26"
      },
      "execution_count": null,
      "outputs": [
        {
          "output_type": "stream",
          "name": "stdout",
          "text": [
            "   *  *  *  *  *  *  \n",
            "      *  *  *  *  *  \n",
            "         *  *  *  *  \n",
            "            *  *  *  \n",
            "               *  *  \n",
            "                  *  \n"
          ]
        }
      ]
    },
    {
      "cell_type": "code",
      "source": [
        "#left down triangle\n",
        "n=6\n",
        "for i in range(n):\n",
        "    for j in range(i+1):\n",
        "      print('',end='   ')\n",
        "    for j in range(i,n):\n",
        "      print('*',end='  ')\n",
        "    print()\n",
        "\n"
      ],
      "metadata": {
        "id": "kdcnGglwijSC"
      },
      "execution_count": null,
      "outputs": []
    },
    {
      "cell_type": "code",
      "source": [
        "#right pascals triangle\n",
        "n=6\n",
        "for i in range(n-1):\n",
        "    for j in range(i,n):\n",
        "      print('',end='   ')\n",
        "    for j in range(i+1):\n",
        "      print('*',end='  ')\n",
        "    print()\n",
        "for i in range(n):\n",
        "    for j in range(i+1):\n",
        "      print('',end='   ')\n",
        "    for j in range(i,n):\n",
        "      print('*',end='  ')\n",
        "    print()"
      ],
      "metadata": {
        "colab": {
          "base_uri": "https://localhost:8080/"
        },
        "id": "qjlFLusLUg6c",
        "outputId": "c1936e8d-1654-45d8-e79b-8cf2efcf9ffa"
      },
      "execution_count": null,
      "outputs": [
        {
          "output_type": "stream",
          "name": "stdout",
          "text": [
            "                  *  \n",
            "               *  *  \n",
            "            *  *  *  \n",
            "         *  *  *  *  \n",
            "      *  *  *  *  *  \n",
            "   *  *  *  *  *  *  \n",
            "      *  *  *  *  *  \n",
            "         *  *  *  *  \n",
            "            *  *  *  \n",
            "               *  *  \n",
            "                  *  \n"
          ]
        }
      ]
    },
    {
      "cell_type": "code",
      "source": [
        "#left pascals triangle\n",
        "n=6\n",
        "for i in range(n):\n",
        "    for j in range(i+1):\n",
        "      print('*',end='  ')\n",
        "    print()\n",
        "for i in range(n):\n",
        "    for j in range(n):\n",
        "      print('',end='')\n",
        "    for j in range(i,n-1):\n",
        "      print('*',end='  ')\n",
        "    print()"
      ],
      "metadata": {
        "colab": {
          "base_uri": "https://localhost:8080/"
        },
        "id": "m2ZTddoFV63I",
        "outputId": "f7eb52de-d7a4-4c98-90d4-420a836d86b8"
      },
      "execution_count": null,
      "outputs": [
        {
          "output_type": "stream",
          "name": "stdout",
          "text": [
            "*  \n",
            "*  *  \n",
            "*  *  *  \n",
            "*  *  *  *  \n",
            "*  *  *  *  *  \n",
            "*  *  *  *  *  *  \n",
            "*  *  *  *  *  \n",
            "*  *  *  *  \n",
            "*  *  *  \n",
            "*  *  \n",
            "*  \n",
            "\n"
          ]
        }
      ]
    },
    {
      "cell_type": "code",
      "source": [
        "#butterfly\n"
      ],
      "metadata": {
        "id": "plEdSrirfSd0"
      },
      "execution_count": null,
      "outputs": []
    },
    {
      "cell_type": "code",
      "source": [
        "#hill pattern\n",
        "n=6\n",
        "for i in range(n):\n",
        "    for j in range(i,n):\n",
        "      print('',end='   ')\n",
        "    for j in range(i):\n",
        "      print('*',end='  ')\n",
        "    for j in range(i+1):\n",
        "      print('*',end='  ')\n",
        "    print()"
      ],
      "metadata": {
        "id": "Uwfv1C9tqMpX",
        "colab": {
          "base_uri": "https://localhost:8080/"
        },
        "outputId": "95b4ee39-b966-4daf-8bb3-a0e097b7ec11"
      },
      "execution_count": null,
      "outputs": [
        {
          "output_type": "stream",
          "name": "stdout",
          "text": [
            "                  *  \n",
            "               *  *  *  \n",
            "            *  *  *  *  *  \n",
            "         *  *  *  *  *  *  *  \n",
            "      *  *  *  *  *  *  *  *  *  \n",
            "   *  *  *  *  *  *  *  *  *  *  *  \n"
          ]
        }
      ]
    },
    {
      "cell_type": "code",
      "source": [
        "#reverse hill pattern\n",
        "n=6\n",
        "for i in range(n):\n",
        "    for j in range(i+1):\n",
        "      print('',end='   ')\n",
        "    for j in range(i,n-1):\n",
        "      print('*',end='  ')\n",
        "    for j in range(i,n):\n",
        "      print('*',end='  ')\n",
        "    print()"
      ],
      "metadata": {
        "colab": {
          "base_uri": "https://localhost:8080/"
        },
        "id": "LiCnS9FpBYQO",
        "outputId": "62a75189-2782-48d3-bbc6-4cc126062151"
      },
      "execution_count": null,
      "outputs": [
        {
          "output_type": "stream",
          "name": "stdout",
          "text": [
            "   *  *  *  *  *  *  *  *  *  *  *  \n",
            "      *  *  *  *  *  *  *  *  *  \n",
            "         *  *  *  *  *  *  *  \n",
            "            *  *  *  *  *  \n",
            "               *  *  *  \n",
            "                  *  \n"
          ]
        }
      ]
    },
    {
      "cell_type": "code",
      "source": [
        "#diamond pattern\n",
        "n=6\n",
        "for i in range(n-1):\n",
        "    for j in range(i,n):\n",
        "      print('',end='   ')\n",
        "    for j in range(i):\n",
        "      print('*',end='  ')\n",
        "    for j in range(i+1):\n",
        "      print('*',end='  ')\n",
        "    print()\n",
        "for i in range(n):\n",
        "    for j in range(i+1):\n",
        "      print('',end='   ')\n",
        "    for j in range(i,n-1):\n",
        "      print('*',end='  ')\n",
        "    for j in range(i,n):\n",
        "      print('*',end='  ')\n",
        "    print()\n"
      ],
      "metadata": {
        "colab": {
          "base_uri": "https://localhost:8080/"
        },
        "id": "WVg8frnrCWXq",
        "outputId": "b2d42950-89f8-404e-9e90-9067d9b3fbf0"
      },
      "execution_count": null,
      "outputs": [
        {
          "output_type": "stream",
          "name": "stdout",
          "text": [
            "                  *  \n",
            "               *  *  *  \n",
            "            *  *  *  *  *  \n",
            "         *  *  *  *  *  *  *  \n",
            "      *  *  *  *  *  *  *  *  *  \n",
            "   *  *  *  *  *  *  *  *  *  *  *  \n",
            "      *  *  *  *  *  *  *  *  *  \n",
            "         *  *  *  *  *  *  *  \n",
            "            *  *  *  *  *  \n",
            "               *  *  *  \n",
            "                  *  \n"
          ]
        }
      ]
    },
    {
      "cell_type": "code",
      "source": [
        "row =5\n",
        "for i in range(row):\n",
        "    for j in range(row-i):\n",
        "        print('', end=' ')\n",
        "\n",
        "    for j in range(2*i+1):\n",
        "        if j==0 or j==2*i or i==row-1:\n",
        "            print('*',end='')\n",
        "        else:\n",
        "            print('', end=' ')\n",
        "    print()"
      ],
      "metadata": {
        "colab": {
          "base_uri": "https://localhost:8080/"
        },
        "id": "bjB7F1KHTipF",
        "outputId": "da78dfa7-aacc-4dde-9108-95c6e078b23d"
      },
      "execution_count": null,
      "outputs": [
        {
          "output_type": "stream",
          "name": "stdout",
          "text": [
            "     *\n",
            "    * *\n",
            "   *   *\n",
            "  *     *\n",
            " *********\n"
          ]
        }
      ]
    },
    {
      "cell_type": "markdown",
      "source": [
        "# Number Pattern"
      ],
      "metadata": {
        "id": "Sd5lRtrEIs4J"
      }
    },
    {
      "cell_type": "code",
      "source": [
        "n=6\n",
        "p=1\n",
        "for i in range(n):\n",
        "    for j in range(i+1):\n",
        "      print(p,end='  ')\n",
        "    p+=1\n",
        "    print()"
      ],
      "metadata": {
        "colab": {
          "base_uri": "https://localhost:8080/"
        },
        "id": "C_WZQJqEI7lt",
        "outputId": "6c11b4c4-ed21-470a-90e9-549f3395f175"
      },
      "execution_count": null,
      "outputs": [
        {
          "output_type": "stream",
          "name": "stdout",
          "text": [
            "1  \n",
            "2  2  \n",
            "3  3  3  \n",
            "4  4  4  4  \n",
            "5  5  5  5  5  \n",
            "6  6  6  6  6  6  \n"
          ]
        }
      ]
    },
    {
      "cell_type": "code",
      "source": [],
      "metadata": {
        "id": "FzLr-Ep9hyhS"
      },
      "execution_count": null,
      "outputs": []
    },
    {
      "cell_type": "code",
      "source": [
        "n=4\n",
        "# reverse loop\n",
        "for i in range(n, 0, -1):\n",
        "    num = i\n",
        "    for j in range(0, i):\n",
        "        print(num, end='')\n",
        "    print()"
      ],
      "metadata": {
        "colab": {
          "base_uri": "https://localhost:8080/"
        },
        "id": "HGL8m6f1HU88",
        "outputId": "a3a01328-5fdc-487d-fdff-d9cb0e8d4f37"
      },
      "execution_count": null,
      "outputs": [
        {
          "output_type": "stream",
          "name": "stdout",
          "text": [
            "4444\n",
            "333\n",
            "22\n",
            "1\n"
          ]
        }
      ]
    },
    {
      "cell_type": "code",
      "source": [
        "# Python3 code for triangular\n",
        "# patterns of alphabets\n",
        "if __name__ == '__main__':\n",
        "\ti, j, n = 0, 0, 5;\n",
        "\tfor i in range(1, n + 1):\n",
        "\t\tfor j in range(n, i - 1, -1):\n",
        "\t\t\tprint(chr(ord('A') - 1 + i), end = \" \");\n",
        "\t\tprint(\"\");\n",
        "\n",
        "# This code is contributed by Princi Singh\n"
      ],
      "metadata": {
        "colab": {
          "base_uri": "https://localhost:8080/"
        },
        "id": "ywxNVD5zCYj5",
        "outputId": "89f0aec9-9461-4350-8018-b7347da251d5"
      },
      "execution_count": null,
      "outputs": [
        {
          "output_type": "stream",
          "name": "stdout",
          "text": [
            "A A A A A \n",
            "B B B B \n",
            "C C C \n",
            "D D \n",
            "E \n"
          ]
        }
      ]
    },
    {
      "cell_type": "code",
      "source": [
        "N=4\n",
        "for i in range(1, N + 1):\n",
        "  for j in range(1, i + 1):\n",
        "    print(j, end=\"\")\n",
        "  print()\n",
        "\n",
        "\n"
      ],
      "metadata": {
        "colab": {
          "base_uri": "https://localhost:8080/"
        },
        "id": "UbSuHpRCIK7U",
        "outputId": "d50f44a8-2a3e-4ac1-dff4-7bcb09e79bca"
      },
      "execution_count": null,
      "outputs": [
        {
          "output_type": "stream",
          "name": "stdout",
          "text": [
            "1\n",
            "12\n",
            "123\n",
            "1234\n"
          ]
        }
      ]
    },
    {
      "cell_type": "code",
      "source": [
        "for i in range (65,68):\n",
        "    # inner loop for jth columns\n",
        "    for j in range(65,i+1):\n",
        "        print(chr(i),end=\"\")\n",
        "    print()"
      ],
      "metadata": {
        "colab": {
          "base_uri": "https://localhost:8080/"
        },
        "id": "4PYKdGOeDwHm",
        "outputId": "31643595-fdcb-42ad-886f-73fccf961108"
      },
      "execution_count": null,
      "outputs": [
        {
          "output_type": "stream",
          "name": "stdout",
          "text": [
            "A\n",
            "BB\n",
            "CCC\n"
          ]
        }
      ]
    },
    {
      "cell_type": "code",
      "source": [
        "initialValue = 65\n",
        "for i in range(0, 7):\n",
        "    for j in range(0, i):\n",
        "     # It will convert the ASCII value to the character\n",
        "         alphabate = chr(initialValue)\n",
        "         # print(alphabate, end=' ')\n",
        "         print(f\"{alphabate}\", end=\"\")\n",
        "         initialValue += 1\n",
        "    print(\"\")"
      ],
      "metadata": {
        "colab": {
          "base_uri": "https://localhost:8080/"
        },
        "id": "H5hkhygIY8ZM",
        "outputId": "ff0afc31-d445-47e9-8d5d-bbd2b973f946"
      },
      "execution_count": null,
      "outputs": [
        {
          "output_type": "stream",
          "name": "stdout",
          "text": [
            "\n",
            "A\n",
            "BC\n",
            "DEF\n",
            "GHIJ\n",
            "KLMNO\n",
            "PQRSTU\n"
          ]
        }
      ]
    },
    {
      "cell_type": "code",
      "source": [],
      "metadata": {
        "id": "sMDLx66LOqyb"
      },
      "execution_count": null,
      "outputs": []
    },
    {
      "cell_type": "code",
      "source": [],
      "metadata": {
        "id": "AVs7WP5CGWu2"
      },
      "execution_count": null,
      "outputs": []
    },
    {
      "cell_type": "code",
      "source": [
        "n=6\n",
        "p=1\n",
        "for i in range(n-1):\n",
        "    for j in range(i,n):\n",
        "      print('',end='   ')\n",
        "    for j in range(i):\n",
        "      print(p,end='  ')\n",
        "    for j in range(i+1):\n",
        "      print(p,end='  ')\n",
        "    p+=1\n",
        "    print()\n",
        "\n",
        "for i in range(n):\n",
        "    for j in range(i+1):\n",
        "      print('',end='   ')\n",
        "    for j in range(i,n-1):\n",
        "      print(p,end='  ')\n",
        "    for j in range(i,n):\n",
        "      print(p,end='  ')\n",
        "    p-=1\n",
        "    print()"
      ],
      "metadata": {
        "colab": {
          "base_uri": "https://localhost:8080/"
        },
        "id": "V1OJ6GlndGYe",
        "outputId": "1d9149ab-a188-4014-bb56-83502c031ac7"
      },
      "execution_count": null,
      "outputs": [
        {
          "output_type": "stream",
          "name": "stdout",
          "text": [
            "                  1  \n",
            "               2  2  2  \n",
            "            3  3  3  3  3  \n",
            "         4  4  4  4  4  4  4  \n",
            "      5  5  5  5  5  5  5  5  5  \n",
            "   6  6  6  6  6  6  6  6  6  6  6  \n",
            "      5  5  5  5  5  5  5  5  5  \n",
            "         4  4  4  4  4  4  4  \n",
            "            3  3  3  3  3  \n",
            "               2  2  2  \n",
            "                  1  \n"
          ]
        }
      ]
    },
    {
      "cell_type": "code",
      "source": [
        "n = 4\n",
        "for i in range(1, n + 1):\n",
        "    for j in range(n, 0, -1):\n",
        "        if j > i:\n",
        "            print(\" \", end=\"\")\n",
        "        else:\n",
        "          print(j, end=\"\")\n",
        "    print()"
      ],
      "metadata": {
        "colab": {
          "base_uri": "https://localhost:8080/"
        },
        "id": "jdH_KbzCJr1R",
        "outputId": "2cc7e809-3d18-4b2c-ab52-2b9dac7d1cb9"
      },
      "execution_count": null,
      "outputs": [
        {
          "output_type": "stream",
          "name": "stdout",
          "text": [
            "   1\n",
            "  21\n",
            " 321\n",
            "4321\n"
          ]
        }
      ]
    },
    {
      "cell_type": "code",
      "source": [
        "N=4\n",
        "for i in range(N):\n",
        "  for j in range(i, i + N):\n",
        "    print(chr(65 + j), end='')\n",
        "  print()"
      ],
      "metadata": {
        "colab": {
          "base_uri": "https://localhost:8080/"
        },
        "id": "evicrRYYKqoB",
        "outputId": "5f6cf14d-7485-42f2-be1b-14aa25b1f6ad"
      },
      "execution_count": null,
      "outputs": [
        {
          "output_type": "stream",
          "name": "stdout",
          "text": [
            "ABCD\n",
            "BCDE\n",
            "CDEF\n",
            "DEFG\n"
          ]
        }
      ]
    },
    {
      "cell_type": "code",
      "source": [
        "def print_pattern(N):\n",
        "    for i in range(N):\n",
        "        row = \"\"\n",
        "        for j in range(i+1):\n",
        "            row += str(i+j)\n",
        "        print(row)\n",
        "\n",
        "# Test the program\n",
        "rows = int(input(\"Enter the number of rows: \"))\n",
        "print_pattern(rows)\n"
      ],
      "metadata": {
        "colab": {
          "base_uri": "https://localhost:8080/"
        },
        "id": "kQlWpQwdMXZj",
        "outputId": "21ae5aba-edf4-4280-f9f1-0c0835db1b26"
      },
      "execution_count": null,
      "outputs": [
        {
          "output_type": "stream",
          "name": "stdout",
          "text": [
            "Enter the number of rows: 4\n",
            "0\n",
            "12\n",
            "234\n",
            "3456\n"
          ]
        }
      ]
    },
    {
      "cell_type": "code",
      "source": [
        "n=4\n",
        "for i in range(n):\n",
        "  if i == 0:\n",
        "    print(1)\n",
        "  else:\n",
        "    for j in range(i+1):\n",
        "      if j == 0:\n",
        "        print(i,end='')\n",
        "      elif j == i:\n",
        "        print(i,end='')\n",
        "      else:\n",
        "        print(0,end='')\n",
        "    print('')"
      ],
      "metadata": {
        "colab": {
          "base_uri": "https://localhost:8080/"
        },
        "id": "Mi83VjmCQp-a",
        "outputId": "6d99f57f-4040-4aab-e35b-0f9cbc48ade8"
      },
      "execution_count": null,
      "outputs": [
        {
          "output_type": "stream",
          "name": "stdout",
          "text": [
            "1\n",
            "11\n",
            "202\n",
            "3003\n"
          ]
        }
      ]
    },
    {
      "cell_type": "code",
      "source": [
        "rows = 6\n",
        "\n",
        "for row in range(1, rows):\n",
        "\n",
        "    num = 1\n",
        "\n",
        "    for j in range(rows, 0, -1):\n",
        "\n",
        "        if j > row:\n",
        "\n",
        "            print(\" \", end=\"\")\n",
        "\n",
        "        else:\n",
        "\n",
        "            print(num, end=\"\")\n",
        "\n",
        "            num += 1\n",
        "\n",
        "    print()"
      ],
      "metadata": {
        "colab": {
          "base_uri": "https://localhost:8080/"
        },
        "id": "v6gb2htijk3e",
        "outputId": "57d607fa-cb91-4023-dfba-4e5c3cfd0233"
      },
      "execution_count": 1,
      "outputs": [
        {
          "output_type": "stream",
          "name": "stdout",
          "text": [
            "     1\n",
            "    12\n",
            "   123\n",
            "  1234\n",
            " 12345\n"
          ]
        }
      ]
    },
    {
      "cell_type": "code",
      "source": [
        "N=5\n",
        "for i in range(-N + 1, N):\n",
        "  line = \"\"\n",
        "  for j in range(1, N + 1):\n",
        "    if abs(j) <= abs(i) + 1:\n",
        "      line += str(j)\n",
        "    else:\n",
        "      line += \" \"\n",
        "  print(line)"
      ],
      "metadata": {
        "colab": {
          "base_uri": "https://localhost:8080/"
        },
        "id": "KAIapIXXk0SD",
        "outputId": "c093d273-1100-4ef6-bc5a-c43dc0466e59"
      },
      "execution_count": null,
      "outputs": [
        {
          "output_type": "stream",
          "name": "stdout",
          "text": [
            "12345\n",
            "1234 \n",
            "123  \n",
            "12   \n",
            "1    \n",
            "12   \n",
            "123  \n",
            "1234 \n",
            "12345\n"
          ]
        }
      ]
    },
    {
      "cell_type": "code",
      "source": [
        "row = 5\n",
        "\n",
        "for i in range(row):\n",
        "    for j in range(row - i):\n",
        "        print(' ', end=' ')\n",
        "\n",
        "    for j in range(2 * i + 1):\n",
        "      if j == 0 or j == 2 * i or i == row - 1:\n",
        "        print('*', end=' ')\n",
        "      else:\n",
        "        print(' ', end=' ')\n",
        "    print()"
      ],
      "metadata": {
        "colab": {
          "base_uri": "https://localhost:8080/"
        },
        "id": "KVsmwTrgoBvk",
        "outputId": "2ad1b11c-c79a-494e-946e-b16eacc44ec2"
      },
      "execution_count": null,
      "outputs": [
        {
          "output_type": "stream",
          "name": "stdout",
          "text": [
            "          * \n",
            "        *   * \n",
            "      *       * \n",
            "    *           * \n",
            "  * * * * * * * * * \n"
          ]
        }
      ]
    },
    {
      "cell_type": "code",
      "source": [
        "n=5\n",
        "for i in range(n):\n",
        "  line = \"\"\n",
        "  for j in range(i):\n",
        "    line += \" \"\n",
        "  for k in range(i + 1, n + 1):\n",
        "      line += str(k)\n",
        "  print(line)\n",
        "\n",
        "for i in range(n - 2, -1, -1):\n",
        "  line = \"\"\n",
        "  for j in range(i):\n",
        "    line += \" \"\n",
        "  for k in range(i + 1, n + 1):\n",
        "      line += str(k)\n",
        "  print(line)\n",
        "\n"
      ],
      "metadata": {
        "colab": {
          "base_uri": "https://localhost:8080/"
        },
        "id": "dfaocfWDlwuq",
        "outputId": "f32ee7b4-4319-4f06-b9d2-df2a4fb6718b"
      },
      "execution_count": null,
      "outputs": [
        {
          "output_type": "stream",
          "name": "stdout",
          "text": [
            "12345\n",
            " 2345\n",
            "  345\n",
            "   45\n",
            "    5\n",
            "   45\n",
            "  345\n",
            " 2345\n",
            "12345\n"
          ]
        }
      ]
    },
    {
      "cell_type": "code",
      "source": [
        "def generate_pattern(N):\n",
        "    for i in range(N):\n",
        "        # Determine the value to be printed in each row\n",
        "        value = '1' if i % 2 == 0 else '0'\n",
        "\n",
        "        # Determine the number of repetitions in each row\n",
        "        repetitions = N - i if i % 2 == 0 else N - i - 1\n",
        "        print(value * repetitions)\n",
        "\n",
        "# Get the input for the number of rows from the user\n",
        "N = int(input(\"Enter the number of rows: \"))\n",
        "\n",
        "# Call the function to generate the pattern\n",
        "generate_pattern(N)\n"
      ],
      "metadata": {
        "colab": {
          "base_uri": "https://localhost:8080/"
        },
        "id": "qjLKGOjRvM4H",
        "outputId": "05af52c4-3fc6-4aa9-f9d4-fdebc93ac518"
      },
      "execution_count": null,
      "outputs": [
        {
          "output_type": "stream",
          "name": "stdout",
          "text": [
            "Enter the number of rows: 5\n",
            "11111\n",
            "000\n",
            "111\n",
            "0\n",
            "1\n"
          ]
        }
      ]
    },
    {
      "cell_type": "code",
      "source": [
        "n = int(input())\n",
        "upper = int(n/2)+1\n",
        "lower = n - upper\n",
        "start_i_lower = 0\n",
        "\n",
        "for i in range(0, upper):\n",
        "  if i != 0:\n",
        "    i = i + i\n",
        "  start = n*i + 1\n",
        "  end = start + n\n",
        "\n",
        "  for j in range(start, end):\n",
        "    print(j, end =\" \")\n",
        "  start_i_lower = i\n",
        "  print()\n",
        "\n",
        "start_i_lower -= 1\n",
        "\n",
        "for i in range(0, lower):\n",
        "  if(n%2 == 0):\n",
        "    start_i_lower -= 1\n",
        "\n",
        "  start = n*(start_i_lower-1) + 1\n",
        "  end = start + n\n",
        "\n",
        "  for j in range(1, n+1):\n",
        "        print(j+n, end =\" \")\n",
        "  print()"
      ],
      "metadata": {
        "colab": {
          "base_uri": "https://localhost:8080/"
        },
        "id": "Kzdo7vYiXtm-",
        "outputId": "1b28ba32-38ee-4210-e9d9-0d47e82b2bd6"
      },
      "execution_count": 2,
      "outputs": [
        {
          "output_type": "stream",
          "name": "stdout",
          "text": [
            "5\n",
            "1 2 3 4 5 \n",
            "11 12 13 14 15 \n",
            "21 22 23 24 25 \n",
            "6 7 8 9 10 \n",
            "6 7 8 9 10 \n"
          ]
        }
      ]
    }
  ]
}