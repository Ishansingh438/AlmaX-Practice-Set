{
  "cells": [
    {
      "cell_type": "markdown",
      "metadata": {
        "id": "view-in-github",
        "colab_type": "text"
      },
      "source": [
        "<a href=\"https://colab.research.google.com/github/Ishansingh438/AlmaX-Practice-Set/blob/main/Self_Practice.ipynb\" target=\"_parent\"><img src=\"https://colab.research.google.com/assets/colab-badge.svg\" alt=\"Open In Colab\"/></a>"
      ]
    },
    {
      "cell_type": "markdown",
      "metadata": {
        "id": "WdnSgQrChayi"
      },
      "source": [
        "Search Insert Position: DSA\n",
        "Given a sorted array of distinct integers and a target value, write a python program to return the index if the target is found. If not, return the index where it would be if it were inserted in order"
      ]
    },
    {
      "cell_type": "code",
      "execution_count": 2,
      "metadata": {
        "colab": {
          "base_uri": "https://localhost:8080/"
        },
        "id": "6FT384zihW-w",
        "outputId": "fe38baac-db41-4b2e-dc45-e073870a5c51"
      },
      "outputs": [
        {
          "output_type": "stream",
          "name": "stdout",
          "text": [
            "2\n"
          ]
        }
      ],
      "source": [
        "nums = [1, 3, 5, 6]\n",
        "target = 5\n",
        "\n",
        "def searchInsert(nums, target):\n",
        "\n",
        "  if target in nums:\n",
        "        return nums.index(target)\n",
        "  else:\n",
        "    return len([x for x in nums if x < target])\n",
        "\n",
        "index = searchInsert(nums, target)\n",
        "print(index)\n"
      ]
    },
    {
      "cell_type": "code",
      "execution_count": 3,
      "metadata": {
        "colab": {
          "base_uri": "https://localhost:8080/"
        },
        "id": "--n2owQhm-N0",
        "outputId": "2e43c1cc-f45b-4193-838f-b50a828b0de6"
      },
      "outputs": [
        {
          "output_type": "stream",
          "name": "stdout",
          "text": [
            "Single number: 6\n"
          ]
        }
      ],
      "source": [
        "def findSingleNumber(nums):\n",
        "    result = 0\n",
        "    for num in nums:\n",
        "        result ^= num\n",
        "    return result\n",
        "\n",
        "# Example usage\n",
        "nums = [2, 4, 6, 2, 4]\n",
        "single_number = findSingleNumber(nums)\n",
        "print(\"Single number:\", single_number)\n"
      ]
    },
    {
      "cell_type": "code",
      "execution_count": 4,
      "metadata": {
        "colab": {
          "base_uri": "https://localhost:8080/"
        },
        "id": "iX2B22g4OWh8",
        "outputId": "881764af-7922-45a4-8e3c-a0bda3571074"
      },
      "outputs": [
        {
          "output_type": "stream",
          "name": "stdout",
          "text": [
            "Missing number: 7\n"
          ]
        }
      ],
      "source": [
        "def findMissingNumber(nums):\n",
        "    n = len(nums)\n",
        "    missing_number = n\n",
        "    for i in range(n):\n",
        "        missing_number ^= i ^ nums[i]\n",
        "    return missing_number\n",
        "\n",
        "missing_number = findMissingNumber(nums)\n",
        "print(\"Missing number:\", missing_number)\n",
        "\n"
      ]
    },
    {
      "cell_type": "code",
      "execution_count": 5,
      "metadata": {
        "colab": {
          "base_uri": "https://localhost:8080/"
        },
        "id": "7CInQi5brGUo",
        "outputId": "64639260-c75b-4903-ece9-81d09f4d0eaa"
      },
      "outputs": [
        {
          "output_type": "stream",
          "name": "stdout",
          "text": [
            "first =  856\n",
            "second =  846\n",
            "third =  745\n"
          ]
        }
      ],
      "source": [
        "n=[1,2,3,4,5,45,745,856,846,37,458,47]\n",
        "n.sort()\n",
        "\n",
        "print(f\"first =  {n[-1]}\");\n",
        "print(f\"second =  {n[-2]}\");\n",
        "print(f\"third =  {n[-3]}\");"
      ]
    },
    {
      "cell_type": "code",
      "execution_count": 6,
      "metadata": {
        "colab": {
          "base_uri": "https://localhost:8080/"
        },
        "id": "kVaLVg3QmzPp",
        "outputId": "0326a737-2363-43be-ebc6-7e8a38f5ba11"
      },
      "outputs": [
        {
          "output_type": "stream",
          "name": "stdout",
          "text": [
            "1\n"
          ]
        }
      ],
      "source": [
        "nums= [2,2,1]\n",
        "def singleNumber(nums):\n",
        "    return 2 * sum(set(nums)) - sum(nums)\n",
        "print (int(singleNumber(nums)))"
      ]
    },
    {
      "cell_type": "code",
      "execution_count": 7,
      "metadata": {
        "colab": {
          "base_uri": "https://localhost:8080/"
        },
        "id": "8qdWpfRqiWz0",
        "outputId": "2ff07a49-e560-437b-9ae6-17c7ff3de651"
      },
      "outputs": [
        {
          "output_type": "stream",
          "name": "stdout",
          "text": [
            "Index: 2\n"
          ]
        }
      ],
      "source": [
        "def searchInsert(nums, target):\n",
        "    try:\n",
        "        return nums.index(target)\n",
        "    except ValueError:\n",
        "        return len([x for x in nums if x < target])\n",
        "\n",
        "# Example usage\n",
        "nums = [1, 3, 5, 6]\n",
        "target = 5\n",
        "index = searchInsert(nums, target)\n",
        "print(\"Index:\", index)\n"
      ]
    },
    {
      "cell_type": "code",
      "execution_count": 8,
      "metadata": {
        "id": "L2hlMaELsppo"
      },
      "outputs": [],
      "source": [
        "def find_words_greater_than(string,length):\n",
        "    words = string.split()\n",
        "    result = []\n",
        "    for word in words:\n",
        "      if len(word)> length :\n",
        "        result.append(word)\n",
        "\n",
        "    return result"
      ]
    },
    {
      "cell_type": "code",
      "execution_count": 9,
      "metadata": {
        "colab": {
          "base_uri": "https://localhost:8080/"
        },
        "id": "X3MregKot5Gl",
        "outputId": "5b8aea9a-3248-4bdd-9cd7-8bc638fd39c4"
      },
      "outputs": [
        {
          "output_type": "stream",
          "name": "stdout",
          "text": [
            "['professional', 'analyst']\n"
          ]
        }
      ],
      "source": [
        "input_string = \" i am a professional data analyst\"\n",
        "min_lengths = 4\n",
        "words = find_words_greater_than(input_string, min_lengths)\n",
        "print(words)\n"
      ]
    },
    {
      "cell_type": "code",
      "execution_count": 10,
      "metadata": {
        "colab": {
          "base_uri": "https://localhost:8080/",
          "height": 432
        },
        "id": "07cEqfmgzuYC",
        "outputId": "d9b13ebd-ac15-4518-9444-53ad0a095a02"
      },
      "outputs": [
        {
          "output_type": "stream",
          "name": "stdout",
          "text": [
            "5\n",
            "966\n",
            "It is NOT an ARMSTRONG number\n"
          ]
        },
        {
          "output_type": "error",
          "ename": "KeyboardInterrupt",
          "evalue": "ignored",
          "traceback": [
            "\u001b[0;31m---------------------------------------------------------------------------\u001b[0m",
            "\u001b[0;31mKeyboardInterrupt\u001b[0m                         Traceback (most recent call last)",
            "\u001b[0;32m<ipython-input-10-9eda90237d6b>\u001b[0m in \u001b[0;36m<cell line: 17>\u001b[0;34m()\u001b[0m\n\u001b[1;32m     17\u001b[0m \u001b[0;32mfor\u001b[0m \u001b[0m_\u001b[0m \u001b[0;32min\u001b[0m \u001b[0mrange\u001b[0m\u001b[0;34m(\u001b[0m\u001b[0mt\u001b[0m\u001b[0;34m)\u001b[0m\u001b[0;34m:\u001b[0m\u001b[0;34m\u001b[0m\u001b[0;34m\u001b[0m\u001b[0m\n\u001b[1;32m     18\u001b[0m     \u001b[0;31m# Read the number to check\u001b[0m\u001b[0;34m\u001b[0m\u001b[0;34m\u001b[0m\u001b[0m\n\u001b[0;32m---> 19\u001b[0;31m     \u001b[0mnumber\u001b[0m \u001b[0;34m=\u001b[0m \u001b[0mint\u001b[0m\u001b[0;34m(\u001b[0m\u001b[0minput\u001b[0m\u001b[0;34m(\u001b[0m\u001b[0;34m)\u001b[0m\u001b[0;34m)\u001b[0m\u001b[0;34m\u001b[0m\u001b[0;34m\u001b[0m\u001b[0m\n\u001b[0m\u001b[1;32m     20\u001b[0m     \u001b[0;31m# Check if it is an Armstrong number\u001b[0m\u001b[0;34m\u001b[0m\u001b[0;34m\u001b[0m\u001b[0m\n\u001b[1;32m     21\u001b[0m     \u001b[0;32mif\u001b[0m \u001b[0mis_armstrong_number\u001b[0m\u001b[0;34m(\u001b[0m\u001b[0mnumber\u001b[0m\u001b[0;34m)\u001b[0m\u001b[0;34m:\u001b[0m\u001b[0;34m\u001b[0m\u001b[0;34m\u001b[0m\u001b[0m\n",
            "\u001b[0;32m/usr/local/lib/python3.10/dist-packages/ipykernel/kernelbase.py\u001b[0m in \u001b[0;36mraw_input\u001b[0;34m(self, prompt)\u001b[0m\n\u001b[1;32m    849\u001b[0m                 \u001b[0;34m\"raw_input was called, but this frontend does not support input requests.\"\u001b[0m\u001b[0;34m\u001b[0m\u001b[0;34m\u001b[0m\u001b[0m\n\u001b[1;32m    850\u001b[0m             )\n\u001b[0;32m--> 851\u001b[0;31m         return self._input_request(str(prompt),\n\u001b[0m\u001b[1;32m    852\u001b[0m             \u001b[0mself\u001b[0m\u001b[0;34m.\u001b[0m\u001b[0m_parent_ident\u001b[0m\u001b[0;34m,\u001b[0m\u001b[0;34m\u001b[0m\u001b[0;34m\u001b[0m\u001b[0m\n\u001b[1;32m    853\u001b[0m             \u001b[0mself\u001b[0m\u001b[0;34m.\u001b[0m\u001b[0m_parent_header\u001b[0m\u001b[0;34m,\u001b[0m\u001b[0;34m\u001b[0m\u001b[0;34m\u001b[0m\u001b[0m\n",
            "\u001b[0;32m/usr/local/lib/python3.10/dist-packages/ipykernel/kernelbase.py\u001b[0m in \u001b[0;36m_input_request\u001b[0;34m(self, prompt, ident, parent, password)\u001b[0m\n\u001b[1;32m    893\u001b[0m             \u001b[0;32mexcept\u001b[0m \u001b[0mKeyboardInterrupt\u001b[0m\u001b[0;34m:\u001b[0m\u001b[0;34m\u001b[0m\u001b[0;34m\u001b[0m\u001b[0m\n\u001b[1;32m    894\u001b[0m                 \u001b[0;31m# re-raise KeyboardInterrupt, to truncate traceback\u001b[0m\u001b[0;34m\u001b[0m\u001b[0;34m\u001b[0m\u001b[0m\n\u001b[0;32m--> 895\u001b[0;31m                 \u001b[0;32mraise\u001b[0m \u001b[0mKeyboardInterrupt\u001b[0m\u001b[0;34m(\u001b[0m\u001b[0;34m\"Interrupted by user\"\u001b[0m\u001b[0;34m)\u001b[0m \u001b[0;32mfrom\u001b[0m \u001b[0;32mNone\u001b[0m\u001b[0;34m\u001b[0m\u001b[0;34m\u001b[0m\u001b[0m\n\u001b[0m\u001b[1;32m    896\u001b[0m             \u001b[0;32mexcept\u001b[0m \u001b[0mException\u001b[0m \u001b[0;32mas\u001b[0m \u001b[0me\u001b[0m\u001b[0;34m:\u001b[0m\u001b[0;34m\u001b[0m\u001b[0;34m\u001b[0m\u001b[0m\n\u001b[1;32m    897\u001b[0m                 \u001b[0mself\u001b[0m\u001b[0;34m.\u001b[0m\u001b[0mlog\u001b[0m\u001b[0;34m.\u001b[0m\u001b[0mwarning\u001b[0m\u001b[0;34m(\u001b[0m\u001b[0;34m\"Invalid Message:\"\u001b[0m\u001b[0;34m,\u001b[0m \u001b[0mexc_info\u001b[0m\u001b[0;34m=\u001b[0m\u001b[0;32mTrue\u001b[0m\u001b[0;34m)\u001b[0m\u001b[0;34m\u001b[0m\u001b[0;34m\u001b[0m\u001b[0m\n",
            "\u001b[0;31mKeyboardInterrupt\u001b[0m: Interrupted by user"
          ]
        }
      ],
      "source": [
        "def is_armstrong_number(n):\n",
        "    # Convert the number to a string to iterate over its digits\n",
        "    digits = str(n)\n",
        "    num_digits = len(digits)\n",
        "    # Calculate the sum of the cubes of the digits\n",
        "    armstrong_sum = sum(int(digit) ** num_digits for digit in digits)\n",
        "    # Check if the sum is equal to the original number\n",
        "    if armstrong_sum == n:\n",
        "        return True\n",
        "    else:\n",
        "        return False\n",
        "\n",
        "# Read the number of test cases\n",
        "t = int(input())\n",
        "\n",
        "# Iterate over the test cases\n",
        "for _ in range(t):\n",
        "    # Read the number to check\n",
        "    number = int(input())\n",
        "    # Check if it is an Armstrong number\n",
        "    if is_armstrong_number(number):\n",
        "        print(\"It is an ARMSTRONG number\")\n",
        "    else:\n",
        "        print(\"It is NOT an ARMSTRONG number\")\n"
      ]
    },
    {
      "cell_type": "code",
      "source": [
        "def nextGreaterElement(nums1, nums2):\n",
        "    stack = []\n",
        "    next_greater = {}\n",
        "    result = []\n",
        "\n",
        "    for num in reversed(nums2):\n",
        "        while stack and stack[-1] < num:\n",
        "            stack.pop()\n",
        "\n",
        "        if stack:\n",
        "            next_greater[num] = stack[-1]\n",
        "        stack.append(num)\n",
        "\n",
        "    for num in nums1:\n",
        "        result.append(next_greater.get(num, -1))\n",
        "    return result\n",
        "\n",
        "# Example usage:\n",
        "nums1 = [4, 1, 2]\n",
        "nums2 = [1, 3, 4, 2]\n",
        "print(nextGreaterElement(nums1, nums2))\n"
      ],
      "metadata": {
        "colab": {
          "base_uri": "https://localhost:8080/"
        },
        "id": "Uj1c4GrEk9gI",
        "outputId": "05a0230c-2a32-40b9-c134-4c98af3bcac1"
      },
      "execution_count": 1,
      "outputs": [
        {
          "output_type": "stream",
          "name": "stdout",
          "text": [
            "[-1, 3, -1]\n"
          ]
        }
      ]
    },
    {
      "cell_type": "code",
      "source": [
        "# Function to find the majority element present in a given list\n",
        "def findMajorityElement(nums):\n",
        "\n",
        "    d = {}\n",
        "    for i in nums:\n",
        "        d[i] = d.get(i, 0) + 1\n",
        "\n",
        "    for key, value in d.items():\n",
        "        if value > len(nums) / 2:\n",
        "            return key\n",
        "    return -1\n",
        "\n",
        "nums = [3,2,3]\n",
        "\n",
        "result = findMajorityElement(nums)\n",
        "\n",
        "print(result)"
      ],
      "metadata": {
        "colab": {
          "base_uri": "https://localhost:8080/"
        },
        "id": "AhHKtgpyyatA",
        "outputId": "82783f28-1b66-443d-87d6-5aee54d10a22"
      },
      "execution_count": 4,
      "outputs": [
        {
          "output_type": "stream",
          "name": "stdout",
          "text": [
            "3\n"
          ]
        }
      ]
    },
    {
      "cell_type": "code",
      "source": [
        "nums= [2,1,2]\n",
        "def largestPerimeter(nums):\n",
        "  nums.sort(reverse=True)\n",
        "  for i in range(len(nums)-2):\n",
        "    if nums[i] < nums[i+1] + nums[i+2]:\n",
        "      return nums[i] + nums[i+1] + nums[i+2]\n",
        "      return 0\n",
        "b= largestPerimeter(nums)\n",
        "print(b)"
      ],
      "metadata": {
        "colab": {
          "base_uri": "https://localhost:8080/"
        },
        "id": "Gl9tZFoEN2Et",
        "outputId": "56f11e08-933b-416d-df40-19014d72f4c6"
      },
      "execution_count": 5,
      "outputs": [
        {
          "output_type": "stream",
          "name": "stdout",
          "text": [
            "5\n"
          ]
        }
      ]
    },
    {
      "cell_type": "code",
      "source": [
        "def plusOne(digits):\n",
        "  for i in range(len(digits)-1,-1,-1):\n",
        "    if digits[i]<9:\n",
        "      digits[i]+=1\n",
        "      return digits\n",
        "      digits[i]=0\n",
        "      return [1]+[0]*len(digits)\n",
        "digits = [1,2,3]\n",
        "v =  plusOne(digits)\n",
        "print(v)"
      ],
      "metadata": {
        "colab": {
          "base_uri": "https://localhost:8080/"
        },
        "id": "5jC7hnz7SBPN",
        "outputId": "908e3c31-369c-452c-d177-1426cc044aef"
      },
      "execution_count": 6,
      "outputs": [
        {
          "output_type": "stream",
          "name": "stdout",
          "text": [
            "[1, 2, 4]\n"
          ]
        }
      ]
    },
    {
      "cell_type": "code",
      "source": [
        "\n",
        "class py_solution:\n",
        "   def is_valid_parenthese(self, str1):\n",
        "        stack = []\n",
        "        pchar = {\"(\": \")\", \"{\": \"}\", \"[\": \"]\"}\n",
        "        for parenthese in str1:\n",
        "            if parenthese in pchar:\n",
        "                stack.append(parenthese)\n",
        "            elif len(stack) == 0 or pchar[stack.pop()] != parenthese:\n",
        "                return False\n",
        "        return len(stack) == 0\n",
        "\n",
        "print(py_solution().is_valid_parenthese(\"(){}[]\"))\n",
        "print(py_solution().is_valid_parenthese(\"()[{)}\"))\n",
        "print(py_solution().is_valid_parenthese(\"()\"))\n"
      ],
      "metadata": {
        "colab": {
          "base_uri": "https://localhost:8080/"
        },
        "id": "UQCk3BXXqS_J",
        "outputId": "15c6b153-7421-4e3c-c260-dfa9124c585f"
      },
      "execution_count": 7,
      "outputs": [
        {
          "output_type": "stream",
          "name": "stdout",
          "text": [
            "True\n",
            "False\n",
            "True\n"
          ]
        }
      ]
    },
    {
      "cell_type": "code",
      "source": [
        "def calculate_string_length(string):\n",
        "    length = len(string)\n",
        "    return length\n",
        "\n",
        "# Example usage:\n",
        "input_string = \"Hello, world!\"\n",
        "length = calculate_string_length(input_string)\n",
        "print(\"Length of the string is:\", length)\n"
      ],
      "metadata": {
        "id": "s9NwvtJIyWgT",
        "outputId": "590f6b2a-7db2-463b-c4d0-71dfe6eacd8f",
        "colab": {
          "base_uri": "https://localhost:8080/"
        }
      },
      "execution_count": 8,
      "outputs": [
        {
          "output_type": "stream",
          "name": "stdout",
          "text": [
            "Length of the string is: 13\n"
          ]
        }
      ]
    },
    {
      "cell_type": "code",
      "source": [
        "def integer_to_string(number, base):\n",
        "    if number == 0:\n",
        "        return '0'\n",
        "    elif number < 0:\n",
        "        return '-' + integer_to_string(-number, base)\n",
        "    elif number < base:\n",
        "        return str(number)\n",
        "    else:\n",
        "        return integer_to_string(number // base, base) + str(number % base)\n",
        "\n",
        "# Example usage:\n",
        "number = 2835\n",
        "base = 16\n",
        "result = integer_to_string(number, base)\n",
        "print(\"Number in base\", base, \":\", result)\n"
      ],
      "metadata": {
        "colab": {
          "base_uri": "https://localhost:8080/"
        },
        "id": "iRoF7VJ5pBG4",
        "outputId": "154687af-6dca-4ccf-a74b-c7d557c4f61c"
      },
      "execution_count": 9,
      "outputs": [
        {
          "output_type": "stream",
          "name": "stdout",
          "text": [
            "Number in base 16 : 1113\n"
          ]
        }
      ]
    },
    {
      "cell_type": "code",
      "source": [
        "n= [1,2,3,4]\n",
        "\n",
        "def num_sum(n):\n",
        "  for i in n:\n",
        "    return sum(n)\n",
        "\n",
        "r=num_sum(n)\n",
        "print(r)\n"
      ],
      "metadata": {
        "colab": {
          "base_uri": "https://localhost:8080/"
        },
        "id": "Me1Qr7QcremI",
        "outputId": "5103650d-c2fc-427f-9f47-d9f0fe7f0e4e"
      },
      "execution_count": 10,
      "outputs": [
        {
          "output_type": "stream",
          "name": "stdout",
          "text": [
            "10\n"
          ]
        }
      ]
    },
    {
      "cell_type": "code",
      "source": [
        "n = 7\n",
        "def fibo(n):\n",
        "    if n <= 1:\n",
        "        return n\n",
        "    return fibo(n - 1) + fibo(n - 2)\n",
        "\n",
        "r= fibo(n)\n",
        "print(r)"
      ],
      "metadata": {
        "colab": {
          "base_uri": "https://localhost:8080/"
        },
        "id": "Zn5fCmqpzHMp",
        "outputId": "895ea65d-b20e-4bee-9239-6e42efad0595"
      },
      "execution_count": 11,
      "outputs": [
        {
          "output_type": "stream",
          "name": "stdout",
          "text": [
            "13\n"
          ]
        }
      ]
    },
    {
      "cell_type": "code",
      "source": [
        "year = 2000\n",
        "def leap_year(year):\n",
        "  if year%4 ==0 or year%400 ==0:\n",
        "    return True\n",
        "  else:\n",
        "    return False\n",
        "\n",
        "print(leap_year(year))"
      ],
      "metadata": {
        "colab": {
          "base_uri": "https://localhost:8080/"
        },
        "id": "guBd7AOVhaSU",
        "outputId": "52bd5b9b-3cda-4793-fa0f-7b6455a9c87f"
      },
      "execution_count": 12,
      "outputs": [
        {
          "output_type": "stream",
          "name": "stdout",
          "text": [
            "True\n"
          ]
        }
      ]
    },
    {
      "cell_type": "code",
      "source": [
        "import numpy as np\n",
        "\n",
        "my_arr = np.array([1,2,3,4,5,6,7,8,9])\n",
        "new_array = my_arr.reshape(3,3)\n",
        "\n",
        "print(new_array)"
      ],
      "metadata": {
        "colab": {
          "base_uri": "https://localhost:8080/"
        },
        "id": "Qk2Ig0hQvWRf",
        "outputId": "dd4e4e5f-111e-432b-afba-4b1c6568f19b"
      },
      "execution_count": 13,
      "outputs": [
        {
          "output_type": "stream",
          "name": "stdout",
          "text": [
            "[[1 2 3]\n",
            " [4 5 6]\n",
            " [7 8 9]]\n"
          ]
        }
      ]
    },
    {
      "cell_type": "code",
      "source": [
        "# Write your code here\n",
        "\n",
        "string1= 'Emma25 is Data scientist50 and AI Expert'\n",
        "result = []\n",
        "\n",
        "string = string1.split()\n",
        "\n",
        "for word in string:\n",
        "  if any(char.isalpha() for char in word) and any(char.isdigit() for char in word):\n",
        "        result.append(word)\n",
        "\n",
        "print(str(result))"
      ],
      "metadata": {
        "colab": {
          "base_uri": "https://localhost:8080/"
        },
        "id": "RAw6lOX27ghG",
        "outputId": "ecd453d0-1852-434d-ed04-557f39bbac70"
      },
      "execution_count": 14,
      "outputs": [
        {
          "output_type": "stream",
          "name": "stdout",
          "text": [
            "['Emma25', 'scientist50']\n"
          ]
        }
      ]
    },
    {
      "cell_type": "code",
      "source": [
        "def create_string_with_counts(counts):\n",
        "    return ' '.join([char * count for char, count in counts.items()])\n",
        "\n",
        "# Test the program\n",
        "counts = {\"f\": 1, \"o\": 2}\n",
        "output = create_string_with_counts(counts)\n",
        "print(output)\n"
      ],
      "metadata": {
        "colab": {
          "base_uri": "https://localhost:8080/"
        },
        "id": "Leok4fj3l82T",
        "outputId": "eac51ccc-12ef-432d-ba28-e2c6498c6ab1"
      },
      "execution_count": 15,
      "outputs": [
        {
          "output_type": "stream",
          "name": "stdout",
          "text": [
            "f oo\n"
          ]
        }
      ]
    },
    {
      "cell_type": "code",
      "source": [
        "v = 12321\n",
        "def is_palindrome(v):\n",
        "    num_str = str(v)\n",
        "\n",
        "    if len(num_str) <= 1:\n",
        "        return True\n",
        "    if num_str[0] == num_str[-1]:\n",
        "        return is_palindrome(num_str[1:-1])\n",
        "    else:\n",
        "        return False\n",
        "print(is_palindrome(v))"
      ],
      "metadata": {
        "colab": {
          "base_uri": "https://localhost:8080/"
        },
        "id": "OD2cysDsmODc",
        "outputId": "22a77bdb-81ce-48d8-f6d2-49e6c3273294"
      },
      "execution_count": 16,
      "outputs": [
        {
          "output_type": "stream",
          "name": "stdout",
          "text": [
            "True\n"
          ]
        }
      ]
    },
    {
      "cell_type": "code",
      "source": [
        "rows= 5\n",
        "colms= 5\n",
        "def print_hollow_rectangle(rows, colms):\n",
        "    for i in range(rows):\n",
        "        for j in range(colms):\n",
        "            if i == 0 or i == rows - 1 or j == 0 or j == colms - 1:\n",
        "                print(\"0\", end=\".\")\n",
        "            else:\n",
        "                print(\" \", end=\" \")\n",
        "\n",
        "            if j < colms - 1:\n",
        "                print(\"\", end=\"\")\n",
        "\n",
        "        print()\n",
        "print_hollow_rectangle(rows, colms)"
      ],
      "metadata": {
        "colab": {
          "base_uri": "https://localhost:8080/"
        },
        "id": "hrmM3FcNPYFv",
        "outputId": "78b70354-fc2b-4712-f221-68a49a0cd3e6"
      },
      "execution_count": 17,
      "outputs": [
        {
          "output_type": "stream",
          "name": "stdout",
          "text": [
            "0.0.0.0.0.\n",
            "0.      0.\n",
            "0.      0.\n",
            "0.      0.\n",
            "0.0.0.0.0.\n"
          ]
        }
      ]
    },
    {
      "cell_type": "code",
      "source": [
        "lst = [1,2,3,4,5,6,4,4,2,2,4,4,5,43]\n",
        "def reorder_list(lst, indexes):\n",
        "  ordered_lst = [None] * len(lst)\n",
        "  ordered_indexes = [i for i in range(len(indexes))]\n",
        "  for i, index in enumerate(indexes):\n",
        "    ordered_lst[index] = lst[i]\n",
        "\n",
        "\n",
        "  return ordered_lst, ordered_indexes\n",
        "  ordered_lst, ordered_indexes = reorder_list(lst, indexes)\n",
        "\n",
        "\n",
        "\n",
        "print(\"The given list after reordering according to the given indexes list:\")\n",
        "print(ordered_lst)\n",
        "print()\n",
        "print(\"The Index list after reordering:\")\n",
        "print(ordered_indexes)\n"
      ],
      "metadata": {
        "colab": {
          "base_uri": "https://localhost:8080/",
          "height": 252
        },
        "id": "SSEM1mGRmx4h",
        "outputId": "be549117-8179-409f-f14e-b882c7ead3d7"
      },
      "execution_count": 25,
      "outputs": [
        {
          "output_type": "stream",
          "name": "stdout",
          "text": [
            "The given list after reordering according to the given indexes list:\n"
          ]
        },
        {
          "output_type": "error",
          "ename": "NameError",
          "evalue": "ignored",
          "traceback": [
            "\u001b[0;31m---------------------------------------------------------------------------\u001b[0m",
            "\u001b[0;31mNameError\u001b[0m                                 Traceback (most recent call last)",
            "\u001b[0;32m<ipython-input-25-7a9b9e953742>\u001b[0m in \u001b[0;36m<cell line: 15>\u001b[0;34m()\u001b[0m\n\u001b[1;32m     13\u001b[0m \u001b[0;34m\u001b[0m\u001b[0m\n\u001b[1;32m     14\u001b[0m \u001b[0mprint\u001b[0m\u001b[0;34m(\u001b[0m\u001b[0;34m\"The given list after reordering according to the given indexes list:\"\u001b[0m\u001b[0;34m)\u001b[0m\u001b[0;34m\u001b[0m\u001b[0;34m\u001b[0m\u001b[0m\n\u001b[0;32m---> 15\u001b[0;31m \u001b[0mprint\u001b[0m\u001b[0;34m(\u001b[0m\u001b[0mordered_lst\u001b[0m\u001b[0;34m)\u001b[0m\u001b[0;34m\u001b[0m\u001b[0;34m\u001b[0m\u001b[0m\n\u001b[0m\u001b[1;32m     16\u001b[0m \u001b[0mprint\u001b[0m\u001b[0;34m(\u001b[0m\u001b[0;34m)\u001b[0m\u001b[0;34m\u001b[0m\u001b[0;34m\u001b[0m\u001b[0m\n\u001b[1;32m     17\u001b[0m \u001b[0mprint\u001b[0m\u001b[0;34m(\u001b[0m\u001b[0;34m\"The Index list after reordering:\"\u001b[0m\u001b[0;34m)\u001b[0m\u001b[0;34m\u001b[0m\u001b[0;34m\u001b[0m\u001b[0m\n",
            "\u001b[0;31mNameError\u001b[0m: name 'ordered_lst' is not defined"
          ]
        }
      ]
    },
    {
      "cell_type": "code",
      "source": [
        "import numpy as np\n",
        "\n",
        "def add_border(arr):\n",
        "    # Get the shape of the original array\n",
        "    rows, cols = arr.shape\n",
        "\n",
        "    # Create a new array with increased dimensions\n",
        "    new_rows = rows + 2\n",
        "    new_cols = cols + 2\n",
        "    new_arr = np.zeros((new_rows, new_cols))\n",
        "\n",
        "    # Copy the original array into the center of the new array\n",
        "    new_arr[1:-1, 1:-1] = arr\n",
        "\n",
        "    return new_arr\n",
        "\n",
        "# Test the function\n",
        "arr = np.array([[1., 1., 1., 1.],\n",
        "                [1., 1., 1., 1.],\n",
        "                [1., 1., 1., 1.]])\n",
        "\n",
        "bordered_arr = add_border(arr)\n",
        "print(bordered_arr)\n"
      ],
      "metadata": {
        "id": "18_kATtrIVvm",
        "outputId": "0ccc4f0c-e0a6-490a-98ab-79f84ea92c64",
        "colab": {
          "base_uri": "https://localhost:8080/"
        }
      },
      "execution_count": 26,
      "outputs": [
        {
          "output_type": "stream",
          "name": "stdout",
          "text": [
            "[[0. 0. 0. 0. 0. 0.]\n",
            " [0. 1. 1. 1. 1. 0.]\n",
            " [0. 1. 1. 1. 1. 0.]\n",
            " [0. 1. 1. 1. 1. 0.]\n",
            " [0. 0. 0. 0. 0. 0.]]\n"
          ]
        }
      ]
    }
  ],
  "metadata": {
    "colab": {
      "provenance": [],
      "authorship_tag": "ABX9TyMWFRvbtEpdEbv8A0D2lxXm",
      "include_colab_link": true
    },
    "kernelspec": {
      "display_name": "Python 3",
      "name": "python3"
    },
    "language_info": {
      "name": "python"
    }
  },
  "nbformat": 4,
  "nbformat_minor": 0
}