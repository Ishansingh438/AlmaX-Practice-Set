{
  "nbformat": 4,
  "nbformat_minor": 0,
  "metadata": {
    "colab": {
      "provenance": [],
      "include_colab_link": true
    },
    "kernelspec": {
      "name": "python3",
      "display_name": "Python 3"
    },
    "language_info": {
      "name": "python"
    }
  },
  "cells": [
    {
      "cell_type": "markdown",
      "metadata": {
        "id": "view-in-github",
        "colab_type": "text"
      },
      "source": [
        "<a href=\"https://colab.research.google.com/github/Ishansingh438/AlmaX-Practice-Set/blob/main/Copy_of_Python_Practice_Questions_(AlmaX).ipynb\" target=\"_parent\"><img src=\"https://colab.research.google.com/assets/colab-badge.svg\" alt=\"Open In Colab\"/></a>"
      ]
    },
    {
      "cell_type": "markdown",
      "metadata": {
        "id": "gHbE_vu77ydz"
      },
      "source": [
        "# **Beginner**\n",
        "\n"
      ]
    },
    {
      "cell_type": "markdown",
      "metadata": {
        "id": "DSn6_CweU1fv"
      },
      "source": [
        "1. Python program to print all positive numbers in a range\n",
        "\n",
        "\n",
        "*   Given start and end of a range, write a Python program to print all positive numbers in given range.\n",
        "\n"
      ]
    },
    {
      "cell_type": "code",
      "metadata": {
        "id": "XbpQe_2AUuRp",
        "colab": {
          "base_uri": "https://localhost:8080/"
        },
        "outputId": "7aabcdfb-cc9b-4ac6-edf7-4541db26c789"
      },
      "source": [
        "# Python program to print positive Numbers in given range\n",
        "\n",
        "start, end = -4, 19\n",
        "\n",
        "# iterating each number in list\n",
        "for num in range(start, end + 1):\n",
        "\n",
        "    # checking condition\n",
        "    if num >= 0:\n",
        "        print(num, end = \" \")"
      ],
      "execution_count": null,
      "outputs": [
        {
          "output_type": "stream",
          "name": "stdout",
          "text": [
            "0 1 2 3 4 5 6 7 8 9 10 11 12 13 14 15 16 17 18 19 "
          ]
        }
      ]
    },
    {
      "cell_type": "markdown",
      "metadata": {
        "id": "Rv2RDT2ICByN"
      },
      "source": [
        "2. Python | Remove empty tuples from a list\n",
        "  \n",
        "\n"
      ]
    },
    {
      "cell_type": "code",
      "metadata": {
        "colab": {
          "base_uri": "https://localhost:8080/"
        },
        "id": "jG7YBNnfBtIT",
        "outputId": "c85be5c0-4043-462e-e75d-5ba42cc0a5a5"
      },
      "source": [
        "# Python program to remove empty tuples from a\n",
        "# list of tuples function to remove empty tuples\n",
        "# using list comprehension\n",
        "def Remove(tuples):\n",
        "    tuples = [t for t in tuples if t]\n",
        "    return tuples\n",
        "\n",
        "# Driver Code\n",
        "tuples = [(), ('ram','15','8'), (), ('laxman', 'sita'),\n",
        "          ('krishna', 'akbar', '45'), ('',''),()]\n",
        "print(Remove(tuples))"
      ],
      "execution_count": null,
      "outputs": [
        {
          "output_type": "stream",
          "name": "stdout",
          "text": [
            "[('ram', '15', '8'), ('laxman', 'sita'), ('krishna', 'akbar', '45'), ('', '')]\n"
          ]
        }
      ]
    },
    {
      "cell_type": "markdown",
      "metadata": {
        "id": "YxrcN7JICZNB"
      },
      "source": [
        "3. How to count unique values inside a list using counter"
      ]
    },
    {
      "cell_type": "code",
      "metadata": {
        "colab": {
          "base_uri": "https://localhost:8080/"
        },
        "id": "L2lP_GpCCLEo",
        "outputId": "304703fe-809f-4a9f-d834-735d233a317c"
      },
      "source": [
        "# importing Counter module\n",
        "from collections import Counter\n",
        "\n",
        "\n",
        "input_list = [1, 2, 2, 5, 8, 4, 4, 8]\n",
        "\n",
        "# creating a list with the keys\n",
        "items = Counter(input_list).keys()\n",
        "print(\"No of unique items in the list are:\", len(items))"
      ],
      "execution_count": null,
      "outputs": [
        {
          "output_type": "stream",
          "name": "stdout",
          "text": [
            "No of unique items in the list are: 5\n"
          ]
        }
      ]
    },
    {
      "cell_type": "markdown",
      "metadata": {
        "id": "Ws3frJtvDMy7"
      },
      "source": [
        "4. Extract elements with Frequency greater than K"
      ]
    },
    {
      "cell_type": "code",
      "metadata": {
        "colab": {
          "base_uri": "https://localhost:8080/"
        },
        "id": "7oHji7KBDL3e",
        "outputId": "127a34ed-5fb6-4567-ab59-eef8caba1450"
      },
      "source": [
        "# Python3 code to demonstrate working of\n",
        "# Extract elements with Frequency greater than K\n",
        "# Using count() + loop\n",
        "\n",
        "# initializing list\n",
        "test_list = [4, 6, 4, 3, 3, 4, 3, 7, 8, 8]\n",
        "\n",
        "# printing string\n",
        "print(\"The original list : \" + str(test_list))\n",
        "\n",
        "# initializing K\n",
        "K = 2\n",
        "\n",
        "res = []\n",
        "for i in test_list:\n",
        "\n",
        "    # using count() to get count of elements\n",
        "    freq = test_list.count(i)\n",
        "\n",
        "    # checking if not already entered in results\n",
        "    if freq > K and i not in res:\n",
        "        res.append(i)\n",
        "\n",
        "# printing results\n",
        "print(\"The required elements : \" + str(res))"
      ],
      "execution_count": null,
      "outputs": [
        {
          "output_type": "stream",
          "name": "stdout",
          "text": [
            "The original list : [4, 6, 4, 3, 3, 4, 3, 7, 8, 8]\n",
            "The required elements : [4, 3]\n"
          ]
        }
      ]
    },
    {
      "cell_type": "markdown",
      "metadata": {
        "id": "W8-Ob3RBDhFF"
      },
      "source": [
        "5. Retain records with N occurrences of K\n",
        "\n",
        "*   Sometimes, while working with Python tuples list, we can have a problem in which we need to perform retention of all the records where occurrences of K is N times.\n",
        "\n",
        "\n",
        "\n"
      ]
    },
    {
      "cell_type": "code",
      "metadata": {
        "colab": {
          "base_uri": "https://localhost:8080/"
        },
        "id": "TtV5t7krDe-H",
        "outputId": "159ee86a-d35d-49d3-ff96-9c7c7b9b3588"
      },
      "source": [
        "# Python3 code to demonstrate working of\n",
        "# Retain records with N occurrences of K\n",
        "# Using count() + list comprehension\n",
        "\n",
        "# initializing list\n",
        "test_list = [(4, 5, 6, 4, 4), (4, 4, 3), (4, 4, 4), (3, 4, 9)]\n",
        "\n",
        "# printing original list\n",
        "print(\"The original list is : \" + str(test_list))\n",
        "\n",
        "# initializing K\n",
        "K = 4\n",
        "\n",
        "# initializing N\n",
        "N = 3\n",
        "\n",
        "# Retain records with N occurrences of K\n",
        "# Using count() + list comprehension\n",
        "res = [ele for ele in test_list if ele.count(K) == N]\n",
        "\n",
        "# printing result\n",
        "print(\"Filtered tuples : \" + str(res))"
      ],
      "execution_count": null,
      "outputs": [
        {
          "output_type": "stream",
          "name": "stdout",
          "text": [
            "The original list is : [(4, 5, 6, 4, 4), (4, 4, 3), (4, 4, 4), (3, 4, 9)]\n",
            "Filtered tuples : [(4, 5, 6, 4, 4), (4, 4, 4)]\n"
          ]
        }
      ]
    },
    {
      "cell_type": "markdown",
      "metadata": {
        "id": "GsmGyL4EEKKI"
      },
      "source": [
        "6. Ways to remove multiple empty spaces from string List"
      ]
    },
    {
      "cell_type": "code",
      "metadata": {
        "colab": {
          "base_uri": "https://localhost:8080/"
        },
        "id": "7MiImcblD27L",
        "outputId": "3fc397d7-32ad-4877-f569-a0323c02b438"
      },
      "source": [
        "# Python3 code to demonstrate working of\n",
        "# Remove multiple empty spaces from string List\n",
        "# Using list comprehension + strip()\n",
        "\n",
        "# initializing list\n",
        "test_list = ['gfg', '   ', ' ', 'is', '            ', 'best']\n",
        "\n",
        "# printing original list\n",
        "print(\"The original list is : \" + str(test_list))\n",
        "\n",
        "# Remove multiple empty spaces from string List\n",
        "# Using list comprehension + strip()\n",
        "res = [ele for ele in test_list if ele.strip()]\n",
        "\n",
        "# printing result\n",
        "print(\"List after filtering non-empty strings : \" + str(res))"
      ],
      "execution_count": null,
      "outputs": [
        {
          "output_type": "stream",
          "name": "stdout",
          "text": [
            "The original list is : ['gfg', '   ', ' ', 'is', '            ', 'best']\n",
            "List after filtering non-empty strings : ['gfg', 'is', 'best']\n"
          ]
        }
      ]
    },
    {
      "cell_type": "markdown",
      "metadata": {
        "id": "g2zt7U--EUpU"
      },
      "source": [
        "7. How to create a dictionary where a key is formed using inputs?"
      ]
    },
    {
      "cell_type": "code",
      "metadata": {
        "colab": {
          "base_uri": "https://localhost:8080/"
        },
        "id": "LBzMNT0pETaW",
        "outputId": "cd2dd7e6-5ccd-4b5d-f701-06bda844aad1"
      },
      "source": [
        "# Python code to demonstrate a dictionary\n",
        "# with multiple inputs in a key.\n",
        "import random as rn\n",
        "\n",
        "# creating an empty dictionary\n",
        "dict = {}\n",
        "\n",
        "# Insert first triplet in dictionary\n",
        "x, y, z = 10, 20, 30\n",
        "dict[x, y, z] = x + y - z;\n",
        "\n",
        "# Insert second triplet in dictionary\n",
        "x, y, z = 5, 2, 4\n",
        "dict[x, y, z] = x + y - z;\n",
        "\n",
        "# print the dictionary\n",
        "print(dict)"
      ],
      "execution_count": null,
      "outputs": [
        {
          "output_type": "stream",
          "name": "stdout",
          "text": [
            "{(10, 20, 30): 0, (5, 2, 4): 3}\n"
          ]
        }
      ]
    },
    {
      "cell_type": "markdown",
      "metadata": {
        "id": "spAiVhKBElF2"
      },
      "source": [
        "8. Create Nested Dictionary using given List"
      ]
    },
    {
      "cell_type": "code",
      "metadata": {
        "colab": {
          "base_uri": "https://localhost:8080/"
        },
        "id": "RKQaqhBVFPca",
        "outputId": "c0021a35-5507-40d1-e5c4-9a76f430ecf7"
      },
      "source": [
        "# Python3 code to demonstrate working of\n",
        "# Nested Dictionary with List\n",
        "# Using dictionary comprehension + zip()\n",
        "\n",
        "# initializing dictionary and list\n",
        "test_dict = {'Gfg' : 4, 'is' : 5, 'best' : 9}\n",
        "test_list = [8, 3, 2]\n",
        "\n",
        "# printing original dictionary and list\n",
        "print(\"The original dictionary is : \" + str(test_dict))\n",
        "print(\"The original list is : \" + str(test_list))\n",
        "\n",
        "# zip() and dictionary comprehension mapped in one liner to solve\n",
        "res = {idx: {key : test_dict[key]} for idx, key in zip(test_list, test_dict)}\n",
        "\n",
        "# printing result\n",
        "print(\"The mapped dictionary : \" + str(res))"
      ],
      "execution_count": null,
      "outputs": [
        {
          "output_type": "stream",
          "name": "stdout",
          "text": [
            "The original dictionary is : {'Gfg': 4, 'is': 5, 'best': 9}\n",
            "The original list is : [8, 3, 2]\n",
            "The mapped dictionary : {8: {'Gfg': 4}, 3: {'is': 5}, 2: {'best': 9}}\n"
          ]
        }
      ]
    },
    {
      "cell_type": "markdown",
      "metadata": {
        "id": "6DP891bRGPZS"
      },
      "source": [
        "9. Print anagrams together in Python using List and Dictionary"
      ]
    },
    {
      "cell_type": "code",
      "metadata": {
        "colab": {
          "base_uri": "https://localhost:8080/"
        },
        "id": "u9lxsF5iGd14",
        "outputId": "bc039000-4941-49fd-bd57-8f658b13e96d"
      },
      "source": [
        "# Function to return all anagrams together\n",
        "def allAnagram(input):\n",
        "\n",
        "    # empty dictionary which holds subsets\n",
        "    # of all anagrams together\n",
        "    dict = {}\n",
        "\n",
        "    # traverse list of strings\n",
        "    for strVal in input:\n",
        "\n",
        "        # sorted(iterable) method accepts any\n",
        "        # iterable and rerturns list of items\n",
        "        # in ascending order\n",
        "        key = ''.join(sorted(strVal))\n",
        "\n",
        "        # now check if key exist in dictionary\n",
        "        # or not. If yes then simply append the\n",
        "        # strVal into the list of it's corresponding\n",
        "        # key. If not then map empty list onto\n",
        "        # key and then start appending values\n",
        "        if key in dict.keys():\n",
        "            dict[key].append(strVal)\n",
        "        else:\n",
        "            dict[key] = []\n",
        "            dict[key].append(strVal)\n",
        "\n",
        "    # traverse dictionary and concatenate values\n",
        "    # of keys together\n",
        "    output = \"\"\n",
        "    for key,value in dict.items():\n",
        "        output = output + ' '.join(value) + ' '\n",
        "\n",
        "    return output\n",
        "\n",
        "# Driver function\n",
        "if __name__ == \"__main__\":\n",
        "    input=['cat', 'dog', 'tac', 'god', 'act']\n",
        "    print (allAnagram(input))"
      ],
      "execution_count": null,
      "outputs": [
        {
          "output_type": "stream",
          "name": "stdout",
          "text": [
            "cat tac act dog god \n"
          ]
        }
      ]
    },
    {
      "cell_type": "markdown",
      "metadata": {
        "id": "xfwdjPOlHKoq"
      },
      "source": [
        "10. Dictionary with maximum count of pairs"
      ]
    },
    {
      "cell_type": "code",
      "metadata": {
        "colab": {
          "base_uri": "https://localhost:8080/"
        },
        "id": "C9iXm1sZGu6D",
        "outputId": "1c3aab3a-af13-4dba-e7b0-6964f6c9b40e"
      },
      "source": [
        "# Python3 code to demonstrate working of\n",
        "# Dictionary with maximum keys\n",
        "# Using max() + key = len\n",
        "\n",
        "# initializing list\n",
        "test_list = [{\"gfg\": 2, \"best\" : 4},\n",
        "             {\"gfg\": 2, \"is\" : 3, \"best\" : 4},\n",
        "             {\"gfg\": 2}]\n",
        "\n",
        "# printing original list\n",
        "print(\"The original list is : \" + str(test_list))\n",
        "\n",
        "# maximum length dict using len param\n",
        "res = max(test_list, key = len)\n",
        "\n",
        "# printing results\n",
        "print(\"Maximum keys Dictionary : \" + str(res))"
      ],
      "execution_count": null,
      "outputs": [
        {
          "output_type": "stream",
          "name": "stdout",
          "text": [
            "The original list is : [{'gfg': 2, 'best': 4}, {'gfg': 2, 'is': 3, 'best': 4}, {'gfg': 2}]\n",
            "Maximum keys Dictionary : {'gfg': 2, 'is': 3, 'best': 4}\n"
          ]
        }
      ]
    },
    {
      "cell_type": "markdown",
      "metadata": {
        "id": "-BQmQnp7HYdR"
      },
      "source": [
        "11. Convert Nested dictionary to Mapped Tuple"
      ]
    },
    {
      "cell_type": "code",
      "metadata": {
        "colab": {
          "base_uri": "https://localhost:8080/"
        },
        "id": "zI0lcRVeHW7d",
        "outputId": "c193efd2-8168-49c5-e2e8-0e98c0acdc5d"
      },
      "source": [
        "# Python3 code to demonstrate working of\n",
        "# Convert Nested dictionary to Mapped Tuple\n",
        "# Using defaultdict() + loop\n",
        "from collections import defaultdict\n",
        "\n",
        "# initializing dictionary\n",
        "test_dict = {'gfg' : {'x' : 5, 'y' : 6}, 'is' : {'x' : 1, 'y' : 4},\n",
        "                                      'best' : {'x' : 8, 'y' : 3}}\n",
        "\n",
        "# printing original dictionary\n",
        "print(\"The original dictionary is : \" + str(test_dict))\n",
        "\n",
        "# Convert Nested dictionary to Mapped Tuple\n",
        "# Using defaultdict() + loop\n",
        "res = defaultdict(tuple)\n",
        "for key, val in test_dict.items():\n",
        "    for ele in val:\n",
        "        res[ele] += (val[ele], )\n",
        "\n",
        "# printing result\n",
        "print(\"The grouped dictionary : \" + str(list(res.items())))"
      ],
      "execution_count": null,
      "outputs": [
        {
          "output_type": "stream",
          "name": "stdout",
          "text": [
            "The original dictionary is : {'gfg': {'x': 5, 'y': 6}, 'is': {'x': 1, 'y': 4}, 'best': {'x': 8, 'y': 3}}\n",
            "The grouped dictionary : [('x', (5, 1, 8)), ('y', (6, 4, 3))]\n"
          ]
        }
      ]
    },
    {
      "cell_type": "markdown",
      "metadata": {
        "id": "E6xjXFr-H27p"
      },
      "source": [
        "12. Convert Matrix to dictionary"
      ]
    },
    {
      "cell_type": "code",
      "metadata": {
        "colab": {
          "base_uri": "https://localhost:8080/"
        },
        "id": "qiJwuSX8Hoo2",
        "outputId": "03865da8-7f31-42e4-81fd-6f8a76fee021"
      },
      "source": [
        "# Python3 code to demonstrate working of\n",
        "# Convert Matrix to dictionary\n",
        "# Using dictionary comprehension + range()\n",
        "\n",
        "# initializing list\n",
        "test_list = [[5, 6, 7], [8, 3, 2], [8, 2, 1]]\n",
        "\n",
        "# printing original list\n",
        "print(\"The original list is : \" + str(test_list))\n",
        "\n",
        "# using dictionary comprehension for iteration\n",
        "res = {idx + 1 : test_list[idx] for idx in range(len(test_list))}\n",
        "\n",
        "# printing result\n",
        "print(\"The constructed dictionary : \" + str(res))"
      ],
      "execution_count": null,
      "outputs": [
        {
          "output_type": "stream",
          "name": "stdout",
          "text": [
            "The original list is : [[5, 6, 7], [8, 3, 2], [8, 2, 1]]\n",
            "The constructed dictionary : {1: [5, 6, 7], 2: [8, 3, 2], 3: [8, 2, 1]}\n"
          ]
        }
      ]
    },
    {
      "cell_type": "markdown",
      "metadata": {
        "id": "A4EcTDtxH7V-"
      },
      "source": [
        "13. Extract Unique values dictionary values"
      ]
    },
    {
      "cell_type": "code",
      "metadata": {
        "colab": {
          "base_uri": "https://localhost:8080/"
        },
        "id": "wYBHAA_QH6aW",
        "outputId": "0c006d18-b940-4d2c-9fb5-a72f0709fb03"
      },
      "source": [
        "# Python3 code to demonstrate working of\n",
        "# Extract Unique values dictionary values\n",
        "# Using set comprehension + values() + sorted()\n",
        "\n",
        "# initializing dictionary\n",
        "test_dict = {'gfg' : [5, 6, 7, 8],\n",
        "             'is' : [10, 11, 7, 5],\n",
        "             'best' : [6, 12, 10, 8],\n",
        "             'for' : [1, 2, 5]}\n",
        "\n",
        "# printing original dictionary\n",
        "print(\"The original dictionary is : \" + str(test_dict))\n",
        "\n",
        "# Extract Unique values dictionary values\n",
        "# Using set comprehension + values() + sorted()\n",
        "res = list(sorted({ele for val in test_dict.values() for ele in val}))\n",
        "\n",
        "# printing result\n",
        "print(\"The unique values list is : \" + str(res))"
      ],
      "execution_count": null,
      "outputs": [
        {
          "output_type": "stream",
          "name": "stdout",
          "text": [
            "The original dictionary is : {'gfg': [5, 6, 7, 8], 'is': [10, 11, 7, 5], 'best': [6, 12, 10, 8], 'for': [1, 2, 5]}\n",
            "The unique values list is : [1, 2, 5, 6, 7, 8, 10, 11, 12]\n"
          ]
        }
      ]
    },
    {
      "cell_type": "markdown",
      "metadata": {
        "id": "wnjSaeb-IFk_"
      },
      "source": [
        "14. Write a Python function to find the Max of three numbers."
      ]
    },
    {
      "cell_type": "code",
      "metadata": {
        "colab": {
          "base_uri": "https://localhost:8080/"
        },
        "id": "s5qrqCFaIEgu",
        "outputId": "3b4970dd-9db5-4ecf-f851-fee415301cd3"
      },
      "source": [
        "def max_of_two( x, y ):\n",
        "    if x > y:\n",
        "        return x\n",
        "    return y\n",
        "def max_of_three( x, y, z ):\n",
        "    return max_of_two( x, max_of_two( y, z ) )\n",
        "print(max_of_three(3, 6, -5))"
      ],
      "execution_count": null,
      "outputs": [
        {
          "output_type": "stream",
          "name": "stdout",
          "text": [
            "6\n"
          ]
        }
      ]
    },
    {
      "cell_type": "markdown",
      "metadata": {
        "id": "YA83lBQyJSGI"
      },
      "source": [
        "15. Find the most frequent value in a NumPy array"
      ]
    },
    {
      "cell_type": "code",
      "metadata": {
        "colab": {
          "base_uri": "https://localhost:8080/"
        },
        "id": "7NbG41XwJQ0P",
        "outputId": "a4bc53a9-2198-44ec-b33b-8bc1c5da6604"
      },
      "source": [
        "import numpy as np\n",
        "\n",
        "\n",
        "# create array\n",
        "x = np.array([1,2,3,4,5,1,2,1,1,1])\n",
        "print(\"Original array:\")\n",
        "print(x)\n",
        "\n",
        "print(\"Most frequent value in the above array:\")\n",
        "print(np.bincount(x).argmax())"
      ],
      "execution_count": null,
      "outputs": [
        {
          "output_type": "stream",
          "name": "stdout",
          "text": [
            "Original array:\n",
            "[1 2 3 4 5 1 2 1 1 1]\n",
            "Most frequent value in the above array:\n",
            "1\n"
          ]
        }
      ]
    },
    {
      "cell_type": "markdown",
      "metadata": {
        "id": "o0UjEjjCTXbs"
      },
      "source": [
        "16. How to check whether specified values are present in NumPy array?"
      ]
    },
    {
      "cell_type": "code",
      "metadata": {
        "colab": {
          "base_uri": "https://localhost:8080/"
        },
        "id": "JfzKX-rVTV8r",
        "outputId": "f81344fe-ae2d-4c87-ae73-89c8c1ce189e"
      },
      "source": [
        "# importing Numpy package\n",
        "import numpy as np\n",
        "\n",
        "# creating a Numpy array\n",
        "n_array = np.array([[2, 3, 0],\n",
        "                    [4, 1, 6]])\n",
        "\n",
        "print(\"Given array:\")\n",
        "print(n_array)\n",
        "\n",
        "# Checking whether specific values\n",
        "# are present in \"n_array\" or not\n",
        "print(2 in n_array)\n",
        "print(0 in n_array)\n",
        "print(6 in n_array)\n",
        "print(50 in n_array)\n",
        "print(10 in n_array)"
      ],
      "execution_count": null,
      "outputs": [
        {
          "output_type": "stream",
          "name": "stdout",
          "text": [
            "Given array:\n",
            "[[2 3 0]\n",
            " [4 1 6]]\n",
            "True\n",
            "True\n",
            "True\n",
            "False\n",
            "False\n"
          ]
        }
      ]
    },
    {
      "cell_type": "markdown",
      "metadata": {
        "id": "bfkppePoTlR1"
      },
      "source": [
        "17. How to build an array of all combinations of two NumPy arrays?"
      ]
    },
    {
      "cell_type": "code",
      "metadata": {
        "colab": {
          "base_uri": "https://localhost:8080/"
        },
        "id": "F4og375yTiUc",
        "outputId": "c3331f16-9366-4585-e96c-c88eb465f423"
      },
      "source": [
        "# importing Numpy package\n",
        "import numpy as np\n",
        "\n",
        "# creating 2 numpy arrays\n",
        "array_1 = np.array([1, 2])\n",
        "array_2 = np.array([4, 6])\n",
        "\n",
        "print(\"Array-1\")\n",
        "print(array_1)\n",
        "\n",
        "print(\"\\nArray-2\")\n",
        "print(array_2)\n",
        "\n",
        "# combination of elements of array_1 and array_2\n",
        "# using numpy.meshgrid().T.reshape()\n",
        "comb_array = np.array(np.meshgrid(array_1, array_2)).T.reshape(-1, 2)\n",
        "\n",
        "print(\"\\nCombine array:\")\n",
        "print(comb_array)"
      ],
      "execution_count": null,
      "outputs": [
        {
          "output_type": "stream",
          "name": "stdout",
          "text": [
            "Array-1\n",
            "[1 2]\n",
            "\n",
            "Array-2\n",
            "[4 6]\n",
            "\n",
            "Combine array:\n",
            "[[1 4]\n",
            " [1 6]\n",
            " [2 4]\n",
            " [2 6]]\n"
          ]
        }
      ]
    },
    {
      "cell_type": "markdown",
      "metadata": {
        "id": "f6O95JV1Tv81"
      },
      "source": [
        "18. numpy.swapaxes() function | Python"
      ]
    },
    {
      "cell_type": "code",
      "metadata": {
        "colab": {
          "base_uri": "https://localhost:8080/"
        },
        "id": "e928bmbeTuzW",
        "outputId": "1898e8d6-ef01-4e5d-e8b2-996a763aa0e3"
      },
      "source": [
        "# Python program explaining\n",
        "# numpy.swapaxes() function\n",
        "\n",
        "# importing numpy as geek\n",
        "import numpy as geek\n",
        "\n",
        "arr = geek.array([[2, 4, 6]])\n",
        "\n",
        "gfg = geek.swapaxes(arr, 0, 1)\n",
        "\n",
        "print (gfg)"
      ],
      "execution_count": null,
      "outputs": [
        {
          "output_type": "stream",
          "name": "stdout",
          "text": [
            "[[2]\n",
            " [4]\n",
            " [6]]\n"
          ]
        }
      ]
    },
    {
      "cell_type": "markdown",
      "metadata": {
        "id": "CUlXT6asUPQ0"
      },
      "source": [
        "19. In this example we can see that by using np.eigvals() method, we are able to get the eigen values of a matrix by using this method.\n",
        "\n"
      ]
    },
    {
      "cell_type": "code",
      "metadata": {
        "colab": {
          "base_uri": "https://localhost:8080/"
        },
        "id": "uBPsw7DwUNSh",
        "outputId": "a03f54ec-bc00-4521-a41d-edfae1cb4c39"
      },
      "source": [
        "from numpy import linalg as LA\n",
        "\n",
        "# using np.eigvals() method\n",
        "gfg = LA.eigvals([[1, 2], [3, 4]])\n",
        "\n",
        "print(gfg)"
      ],
      "execution_count": null,
      "outputs": [
        {
          "output_type": "stream",
          "name": "stdout",
          "text": [
            "[-0.37228132  5.37228132]\n"
          ]
        }
      ]
    },
    {
      "cell_type": "markdown",
      "metadata": {
        "id": "_KH8xHDcU6we"
      },
      "source": [
        "20. How to inverse a matrix using NumPy"
      ]
    },
    {
      "cell_type": "code",
      "metadata": {
        "colab": {
          "base_uri": "https://localhost:8080/"
        },
        "id": "7l5Jg5fCUjaL",
        "outputId": "afcac2d2-21f4-4a1b-dc69-3968a5927c73"
      },
      "source": [
        "# Python program to inverse\n",
        "# a matrix using numpy\n",
        "\n",
        "# Import required package\n",
        "import numpy as np\n",
        "\n",
        "# Taking a 3 * 3 matrix\n",
        "A = np.array([[6, 1, 1],\n",
        "              [4, -2, 5],\n",
        "              [2, 8, 7]])\n",
        "\n",
        "# Calculating the inverse of the matrix\n",
        "print(np.linalg.inv(A))"
      ],
      "execution_count": null,
      "outputs": [
        {
          "output_type": "stream",
          "name": "stdout",
          "text": [
            "[[ 0.17647059 -0.00326797 -0.02287582]\n",
            " [ 0.05882353 -0.13071895  0.08496732]\n",
            " [-0.11764706  0.1503268   0.05228758]]\n"
          ]
        }
      ]
    },
    {
      "cell_type": "markdown",
      "metadata": {
        "id": "ojzody_oU_wo"
      },
      "source": [
        "21. How to count the frequency of unique values in NumPy array?"
      ]
    },
    {
      "cell_type": "code",
      "metadata": {
        "colab": {
          "base_uri": "https://localhost:8080/"
        },
        "id": "Q9JOYvoWU-sR",
        "outputId": "9ecfa57f-e209-47fb-be68-5c94100cd932"
      },
      "source": [
        "# import library\n",
        "import numpy as np\n",
        "\n",
        "ini_array = np.array([10, 20, 5,\n",
        "                      10, 8, 20,\n",
        "                      8, 9])\n",
        "\n",
        "# Get a tuple of unique values\n",
        "# and their frequency in\n",
        "# numpy array\n",
        "unique, frequency = np.unique(ini_array,\n",
        "                              return_counts = True)\n",
        "# print unique values array\n",
        "print(\"Unique Values:\",\n",
        "      unique)\n",
        "\n",
        "# print frequency array\n",
        "print(\"Frequency Values:\",\n",
        "      frequency)"
      ],
      "execution_count": null,
      "outputs": [
        {
          "output_type": "stream",
          "name": "stdout",
          "text": [
            "Unique Values: [ 5  8  9 10 20]\n",
            "Frequency Values: [1 2 1 2 2]\n"
          ]
        }
      ]
    },
    {
      "cell_type": "markdown",
      "metadata": {
        "id": "U0amR1WlVKi1"
      },
      "source": [
        "22. Compute the outer product of two given vectors using NumPy in Python"
      ]
    },
    {
      "cell_type": "code",
      "metadata": {
        "colab": {
          "base_uri": "https://localhost:8080/"
        },
        "id": "Zdl5juJ3VGce",
        "outputId": "f6ea7701-d6e6-48df-cbc9-fb73fd37eb2c"
      },
      "source": [
        "# Importing library\n",
        "import numpy as np\n",
        "\n",
        "# Creating two 1-D arrays\n",
        "array1 = np.array([6,2])\n",
        "array2 = np.array([2,5])\n",
        "print(\"Original 1-D arrays:\")\n",
        "print(array1)\n",
        "print(array2)\n",
        "\n",
        "# Output\n",
        "print(\"Outer Product of the two array is:\")\n",
        "result = np.outer(array1, array2)\n",
        "print(result)"
      ],
      "execution_count": null,
      "outputs": [
        {
          "output_type": "stream",
          "name": "stdout",
          "text": [
            "Original 1-D arrays:\n",
            "[6 2]\n",
            "[2 5]\n",
            "Outer Product of the two array is:\n",
            "[[12 30]\n",
            " [ 4 10]]\n"
          ]
        }
      ]
    },
    {
      "cell_type": "markdown",
      "metadata": {
        "id": "zyLJPqnMVPjv"
      },
      "source": [
        "23. Compute the covariance matrix of two given NumPy arrays"
      ]
    },
    {
      "cell_type": "code",
      "metadata": {
        "colab": {
          "base_uri": "https://localhost:8080/"
        },
        "id": "RoQFg3OzVOd-",
        "outputId": "febddc6b-b6bc-49a6-e28c-7f41b7e7a74e"
      },
      "source": [
        "import numpy as np\n",
        "\n",
        "\n",
        "array1 = np.array([2, 1, 1, 4])\n",
        "array2 = np.array([2, 2, 1, 1])\n",
        "\n",
        "# Original array1\n",
        "print(array1)\n",
        "\n",
        "# Original array2\n",
        "print(array2)\n",
        "\n",
        "# Covariance matrix\n",
        "print(\"\\nCovariance matrix of the said arrays:\\n\",\n",
        "      np.cov(array1, array2))"
      ],
      "execution_count": null,
      "outputs": [
        {
          "output_type": "stream",
          "name": "stdout",
          "text": [
            "[2 1 1 4]\n",
            "[2 2 1 1]\n",
            "\n",
            "Covariance matrix of the said arrays:\n",
            " [[ 2.         -0.33333333]\n",
            " [-0.33333333  0.33333333]]\n"
          ]
        }
      ]
    },
    {
      "cell_type": "markdown",
      "metadata": {
        "id": "dVXwYveRVZkr"
      },
      "source": [
        "24. Calculate inner, outer, and cross products of matrices and vectors using NumPy"
      ]
    },
    {
      "cell_type": "code",
      "metadata": {
        "colab": {
          "base_uri": "https://localhost:8080/"
        },
        "id": "e7OHhmHGVYe4",
        "outputId": "fb81000f-f358-44e3-c283-7f334fefe839"
      },
      "source": [
        "# Python Program illustrating\n",
        "# numpy.inner() method\n",
        "import numpy as np\n",
        "\n",
        "# Vectors\n",
        "a = np.array([2, 6])\n",
        "b = np.array([3, 10])\n",
        "print(\"Vectors :\")\n",
        "print(\"a = \", a)\n",
        "print(\"\\nb = \", b)\n",
        "\n",
        "# Inner Product of Vectors\n",
        "print(\"\\nInner product of vectors a and b =\")\n",
        "print(np.inner(a, b))\n",
        "\n",
        "print(\"---------------------------------------\")\n",
        "\n",
        "# Matrices\n",
        "x = np.array([[2, 3, 4], [3, 2, 9]])\n",
        "y = np.array([[1, 5, 0], [5, 10, 3]])\n",
        "print(\"\\nMatrices :\")\n",
        "print(\"x =\", x)\n",
        "print(\"\\ny =\", y)\n",
        "\n",
        "# Inner product of matrices\n",
        "print(\"\\nInner product of matrices x and y =\")\n",
        "print(np.inner(x, y))"
      ],
      "execution_count": null,
      "outputs": [
        {
          "output_type": "stream",
          "name": "stdout",
          "text": [
            "Vectors :\n",
            "a =  [2 6]\n",
            "\n",
            "b =  [ 3 10]\n",
            "\n",
            "Inner product of vectors a and b =\n",
            "66\n",
            "---------------------------------------\n",
            "\n",
            "Matrices :\n",
            "x = [[2 3 4]\n",
            " [3 2 9]]\n",
            "\n",
            "y = [[ 1  5  0]\n",
            " [ 5 10  3]]\n",
            "\n",
            "Inner product of matrices x and y =\n",
            "[[17 52]\n",
            " [13 62]]\n"
          ]
        }
      ]
    },
    {
      "cell_type": "markdown",
      "metadata": {
        "id": "lek26VR0WGf0"
      },
      "source": [
        "25. Replace NumPy array elements that doesn’t satisfy the given condition"
      ]
    },
    {
      "cell_type": "code",
      "metadata": {
        "colab": {
          "base_uri": "https://localhost:8080/"
        },
        "id": "mODHxDGwVvg_",
        "outputId": "e4e3d4b4-bd92-498a-ec34-200a2bda2084"
      },
      "source": [
        "# Importing Numpy module\n",
        "import numpy as np\n",
        "\n",
        "# Creating a 1-D Numpy array\n",
        "n_arr = np.array([75.42436315, 42.48558583, 60.32924763])\n",
        "print(\"Given array:\")\n",
        "print(n_arr)\n",
        "\n",
        "print(\"\\nReplace all elements of array which are greater than 50. to 15.50\")\n",
        "n_arr[n_arr > 50.] = 15.50\n",
        "\n",
        "print(\"New array :\\n\")\n",
        "print(n_arr)"
      ],
      "execution_count": null,
      "outputs": [
        {
          "output_type": "stream",
          "name": "stdout",
          "text": [
            "Given array:\n",
            "[75.42436315 42.48558583 60.32924763]\n",
            "\n",
            "Replace all elements of array which are greater than 50. to 15.50\n",
            "New array :\n",
            "\n",
            "[15.5        42.48558583 15.5       ]\n"
          ]
        }
      ]
    },
    {
      "cell_type": "markdown",
      "metadata": {
        "id": "o7CV_DC9WTpV"
      },
      "source": [
        "26. Replace NaN values with average of columns"
      ]
    },
    {
      "cell_type": "code",
      "metadata": {
        "colab": {
          "base_uri": "https://localhost:8080/"
        },
        "id": "ECqnDEJWWSfa",
        "outputId": "a45aaea8-bc94-4fdc-e3be-1bf68379efa7"
      },
      "source": [
        "# Python code to demonstrate\n",
        "# to replace nan values\n",
        "# with an average of columns\n",
        "\n",
        "import numpy as np\n",
        "\n",
        "# Initialising numpy array\n",
        "ini_array = np.array([[1.3, 2.5, 3.6, np.nan],\n",
        "                      [2.6, 3.3, np.nan, 5.5],\n",
        "                      [2.1, 3.2, 5.4, 6.5]])\n",
        "\n",
        "# printing initial array\n",
        "print (\"initial array\", ini_array)\n",
        "\n",
        "# column mean\n",
        "col_mean = np.nanmean(ini_array, axis = 0)\n",
        "\n",
        "# printing column mean\n",
        "print (\"columns mean\", str(col_mean))\n",
        "\n",
        "# find indices where nan value is present\n",
        "inds = np.where(np.isnan(ini_array))\n",
        "\n",
        "# replace inds with avg of column\n",
        "ini_array[inds] = np.take(col_mean, inds[1])\n",
        "\n",
        "# printing final array\n",
        "print (\"final array\", ini_array)"
      ],
      "execution_count": null,
      "outputs": [
        {
          "output_type": "stream",
          "name": "stdout",
          "text": [
            "initial array [[1.3 2.5 3.6 nan]\n",
            " [2.6 3.3 nan 5.5]\n",
            " [2.1 3.2 5.4 6.5]]\n",
            "columns mean [2.  3.  4.5 6. ]\n",
            "final array [[1.3 2.5 3.6 6. ]\n",
            " [2.6 3.3 4.5 5.5]\n",
            " [2.1 3.2 5.4 6.5]]\n"
          ]
        }
      ]
    },
    {
      "cell_type": "markdown",
      "metadata": {
        "id": "y9Du90aBWevR"
      },
      "source": [
        "27. Replace negative value with zero in numpy array"
      ]
    },
    {
      "cell_type": "code",
      "metadata": {
        "colab": {
          "base_uri": "https://localhost:8080/"
        },
        "id": "ZbwooortWd2-",
        "outputId": "0781580d-3691-431f-9f25-4f767f464218"
      },
      "source": [
        "# Python code to demonstrate\n",
        "# to replace negative value with 0\n",
        "import numpy as np\n",
        "\n",
        "ini_array1 = np.array([1, 2, -3, 4, -5, -6])\n",
        "\n",
        "# printing initial arrays\n",
        "print(\"initial array\", ini_array1)\n",
        "\n",
        "# code to replace all negative value with 0\n",
        "ini_array1[ini_array1<0] = 0\n",
        "\n",
        "# printing result\n",
        "print(\"New resulting array: \", ini_array1)"
      ],
      "execution_count": null,
      "outputs": [
        {
          "output_type": "stream",
          "name": "stdout",
          "text": [
            "initial array [ 1  2 -3  4 -5 -6]\n",
            "New resulting array:  [1 2 0 4 0 0]\n"
          ]
        }
      ]
    },
    {
      "cell_type": "markdown",
      "metadata": {
        "id": "Zq6aSMPgWmlC"
      },
      "source": [
        "28. How to access different rows of a multidimensional NumPy array?"
      ]
    },
    {
      "cell_type": "code",
      "metadata": {
        "colab": {
          "base_uri": "https://localhost:8080/"
        },
        "id": "KwWYcJkWWlRo",
        "outputId": "67af8095-1b8d-44de-84b2-731b45385819"
      },
      "source": [
        "# Importing Numpy module\n",
        "import numpy as np\n",
        "\n",
        "# Creating a 3X3 2-D Numpy array\n",
        "arr = np.array([[10, 20, 30],\n",
        "                [40, 5, 66],\n",
        "                [70, 88, 94]])\n",
        "\n",
        "print(\"Given Array :\")\n",
        "print(arr)\n",
        "\n",
        "# Access the First and Last rows of array\n",
        "res_arr = arr[[0,2]]\n",
        "print(\"\\nAccessed Rows :\")\n",
        "print(res_arr)"
      ],
      "execution_count": null,
      "outputs": [
        {
          "output_type": "stream",
          "name": "stdout",
          "text": [
            "Given Array :\n",
            "[[10 20 30]\n",
            " [40  5 66]\n",
            " [70 88 94]]\n",
            "\n",
            "Accessed Rows :\n",
            "[[10 20 30]\n",
            " [70 88 94]]\n"
          ]
        }
      ]
    },
    {
      "cell_type": "markdown",
      "metadata": {
        "id": "fS9rEU-nWuTW"
      },
      "source": [
        "29. Python | numpy.fill_diagonal() method"
      ]
    },
    {
      "cell_type": "code",
      "metadata": {
        "colab": {
          "base_uri": "https://localhost:8080/"
        },
        "id": "EQCvSLNLWtdf",
        "outputId": "15342d17-0ceb-4b79-de2b-f220742cece8"
      },
      "source": [
        "# import numpy\n",
        "import numpy as np\n",
        "\n",
        "# using numpy.fill_diagonal() method\n",
        "array = np.zeros((3, 3), int)\n",
        "np.fill_diagonal(array, 1)\n",
        "\n",
        "print(array)"
      ],
      "execution_count": null,
      "outputs": [
        {
          "output_type": "stream",
          "name": "stdout",
          "text": [
            "[[1 0 0]\n",
            " [0 1 0]\n",
            " [0 0 1]]\n"
          ]
        }
      ]
    },
    {
      "cell_type": "markdown",
      "metadata": {
        "id": "lJM2BVLaW3mH"
      },
      "source": [
        "30. Calculate the QR decomposition of a given matrix using NumPy"
      ]
    },
    {
      "cell_type": "code",
      "metadata": {
        "colab": {
          "base_uri": "https://localhost:8080/"
        },
        "id": "vCLVExPsW2Ys",
        "outputId": "93ba80c1-46ea-4382-d291-4df09b65f0cd"
      },
      "source": [
        "import numpy as np\n",
        "\n",
        "\n",
        "# Original matrix\n",
        "matrix1 = np.array([[1, 2, 3], [3, 4, 5]])\n",
        "print(matrix1)\n",
        "\n",
        "# Decomposition of the said matrix\n",
        "q, r = np.linalg.qr(matrix1)\n",
        "print('\\nQ:\\n', q)\n",
        "print('\\nR:\\n', r)"
      ],
      "execution_count": null,
      "outputs": [
        {
          "output_type": "stream",
          "name": "stdout",
          "text": [
            "[[1 2 3]\n",
            " [3 4 5]]\n",
            "\n",
            "Q:\n",
            " [[-0.31622777 -0.9486833 ]\n",
            " [-0.9486833   0.31622777]]\n",
            "\n",
            "R:\n",
            " [[-3.16227766 -4.42718872 -5.69209979]\n",
            " [ 0.         -0.63245553 -1.26491106]]\n"
          ]
        }
      ]
    },
    {
      "cell_type": "markdown",
      "metadata": {
        "id": "9cMSxA63XMHU"
      },
      "source": [
        "31. Get Random elements from a geometric distribution"
      ]
    },
    {
      "cell_type": "code",
      "metadata": {
        "colab": {
          "base_uri": "https://localhost:8080/",
          "height": 430
        },
        "id": "ieZ86T1OXKLH",
        "outputId": "3203b7ea-f984-4447-db27-1bc99e148a4f"
      },
      "source": [
        "# import numpy and geometric\n",
        "import numpy as np\n",
        "import matplotlib.pyplot as plt\n",
        "\n",
        "# Using geometric() method\n",
        "gfg = np.random.geometric(0.65, 1000)\n",
        "\n",
        "count, bins, ignored = plt.hist(gfg, 40, density = True)\n",
        "plt.show()"
      ],
      "execution_count": null,
      "outputs": [
        {
          "output_type": "display_data",
          "data": {
            "text/plain": [
              "<Figure size 640x480 with 1 Axes>"
            ],
            "image/png": "[encoded data removed]"
          },
          "metadata": {}
        }
      ]
    },
    {
      "cell_type": "markdown",
      "metadata": {
        "id": "6ukhg4AtXelg"
      },
      "source": [
        "32. Return a matrix of random values from a uniform distribution"
      ]
    },
    {
      "cell_type": "code",
      "metadata": {
        "colab": {
          "base_uri": "https://localhost:8080/"
        },
        "id": "edbuTaPyXdRm",
        "outputId": "84204294-7293-4e09-82e9-b0b2b8735bd9"
      },
      "source": [
        "# Python program explaining\n",
        "# numpy.matlib.rand() function\n",
        "\n",
        "# importing numpy and matrix library\n",
        "import numpy as geek\n",
        "import numpy.matlib\n",
        "\n",
        "# desired 1 x 5 random output matrix\n",
        "out_mat = geek.matlib.rand(5)\n",
        "print (\"Output matrix : \", out_mat)"
      ],
      "execution_count": null,
      "outputs": [
        {
          "output_type": "stream",
          "name": "stdout",
          "text": [
            "Output matrix :  [[0.92922633 0.82865009 0.9542894  0.8542466  0.00429114]]\n"
          ]
        }
      ]
    },
    {
      "cell_type": "markdown",
      "metadata": {
        "id": "8YIScp3sXrJK"
      },
      "source": [
        "33. How to get weighted random choice in Python?"
      ]
    },
    {
      "cell_type": "code",
      "metadata": {
        "colab": {
          "base_uri": "https://localhost:8080/"
        },
        "id": "t4yFTUoyXqT5",
        "outputId": "9ecf1156-5823-4b52-a719-465dd01d28a1"
      },
      "source": [
        "import random\n",
        "\n",
        "\n",
        "sampleList = [100, 200, 300, 400, 500]\n",
        "\n",
        "randomList = random.choices(\n",
        "  sampleList, weights=(10, 20, 30, 40, 50), k=5)\n",
        "\n",
        "print(randomList)"
      ],
      "execution_count": null,
      "outputs": [
        {
          "output_type": "stream",
          "name": "stdout",
          "text": [
            "[100, 400, 300, 500, 500]\n"
          ]
        }
      ]
    },
    {
      "cell_type": "markdown",
      "metadata": {
        "id": "hNN8FsbWX0q_"
      },
      "source": [
        "34. Get Random elemts from laplace distribution"
      ]
    },
    {
      "cell_type": "code",
      "metadata": {
        "colab": {
          "base_uri": "https://localhost:8080/",
          "height": 431
        },
        "id": "_pAPks-KXz0q",
        "outputId": "ca9a534a-93d2-498c-b845-2cbb2b224f81"
      },
      "source": [
        "# import numpy\n",
        "import numpy as np\n",
        "import matplotlib.pyplot as plt\n",
        "\n",
        "# Using numpy.random.laplace() method\n",
        "gfg = np.random.laplace(1.45, 15, 1000)\n",
        "\n",
        "count, bins, ignored = plt.hist(gfg, 30, density = True)\n",
        "plt.show()"
      ],
      "execution_count": null,
      "outputs": [
        {
          "output_type": "display_data",
          "data": {
            "text/plain": [
              "<Figure size 640x480 with 1 Axes>"
            ],
            "image/png": "[encoded data removed]"
          },
          "metadata": {}
        }
      ]
    },
    {
      "cell_type": "markdown",
      "metadata": {
        "id": "rWzuGoNzYD59"
      },
      "source": [
        "35. Generate Random Numbers From The Uniform Distribution using NumPy"
      ]
    },
    {
      "cell_type": "code",
      "metadata": {
        "colab": {
          "base_uri": "https://localhost:8080/"
        },
        "id": "pr7ezvOpYCv2",
        "outputId": "9330a21a-9466-4a0a-ca1c-12e23ddd1731"
      },
      "source": [
        "# importing module\n",
        "import numpy as np\n",
        "\n",
        "\n",
        "# numpy.random.uniform() method\n",
        "random_array = np.random.uniform(0.0, 1.0, 5)\n",
        "\n",
        "# printing 1D array with random numbers\n",
        "print(\"1D Array with random values : \\n\", random_array)"
      ],
      "execution_count": null,
      "outputs": [
        {
          "output_type": "stream",
          "name": "stdout",
          "text": [
            "1D Array with random values : \n",
            " [0.15041696 0.70334824 0.1453343  0.67930306 0.42524424]\n"
          ]
        }
      ]
    },
    {
      "cell_type": "markdown",
      "metadata": {
        "id": "KtNE3f7mYQDi"
      },
      "source": [
        "36. Determine the positive square root of an array"
      ]
    },
    {
      "cell_type": "code",
      "metadata": {
        "colab": {
          "base_uri": "https://localhost:8080/"
        },
        "id": "3nbJ42zPYPTk",
        "outputId": "c6ea5aae-1350-4660-c8b4-046f87ba6622"
      },
      "source": [
        "# Python program explaining\n",
        "# numpy.sqrt() method\n",
        "\n",
        "# importing numpy\n",
        "import numpy as geek\n",
        "\n",
        "# applying sqrt() method on integer numbers\n",
        "arr1 = geek.sqrt([1, 4, 9, 16])\n",
        "arr2 = geek.sqrt([6, 10, 18])\n",
        "\n",
        "print(\"square-root of an array1  : \", arr1)\n",
        "print(\"square-root of an array2  : \", arr2)"
      ],
      "execution_count": null,
      "outputs": [
        {
          "output_type": "stream",
          "name": "stdout",
          "text": [
            "square-root of an array1  :  [1. 2. 3. 4.]\n",
            "square-root of an array2  :  [2.44948974 3.16227766 4.24264069]\n"
          ]
        }
      ]
    },
    {
      "cell_type": "markdown",
      "metadata": {
        "id": "pzaxYkZlYqW8"
      },
      "source": [
        "37. Evaluate Einstein’s summation convention of two multidimensional NumPy arrays"
      ]
    },
    {
      "cell_type": "code",
      "metadata": {
        "colab": {
          "base_uri": "https://localhost:8080/"
        },
        "id": "2sjichKnYpnI",
        "outputId": "5babf2a5-f130-400d-92c6-d1c0584692cb"
      },
      "source": [
        "# Importing library\n",
        "import numpy as np\n",
        "\n",
        "# Creating two 2X2 matrix\n",
        "matrix1 = np.array([[1, 2], [0, 2]])\n",
        "matrix2 = np.array([[0, 1], [3, 4]])\n",
        "\n",
        "print(\"Original matrix:\")\n",
        "print(matrix1)\n",
        "print(matrix2)\n",
        "\n",
        "# Output\n",
        "result = np.einsum(\"mk,kn\", matrix1, matrix2)\n",
        "\n",
        "print(\"Einstein’s summation convention of the two matrix:\")\n",
        "print(result)"
      ],
      "execution_count": null,
      "outputs": [
        {
          "output_type": "stream",
          "name": "stdout",
          "text": [
            "Original matrix:\n",
            "[[1 2]\n",
            " [0 2]]\n",
            "[[0 1]\n",
            " [3 4]]\n",
            "Einstein’s summation convention of the two matrix:\n",
            "[[6 9]\n",
            " [6 8]]\n"
          ]
        }
      ]
    },
    {
      "cell_type": "markdown",
      "metadata": {
        "id": "TdYUEMqGYzBr"
      },
      "source": [
        "38. How to calculate the element-wise absolute value of NumPy array?"
      ]
    },
    {
      "cell_type": "code",
      "metadata": {
        "colab": {
          "base_uri": "https://localhost:8080/"
        },
        "id": "MKOlxCPvYxx4",
        "outputId": "e24e9899-930e-44af-8915-d234a38b9b42"
      },
      "source": [
        "# import library\n",
        "import numpy as np\n",
        "\n",
        "# create a numpy 1d-array\n",
        "array = np.array([1, -2, 3])\n",
        "\n",
        "print(\"Given array:\\n\", array)\n",
        "\n",
        "# find element-wise\n",
        "# absolute value\n",
        "rslt = np.absolute(array)\n",
        "\n",
        "print(\"Absolute array:\\n\", rslt)"
      ],
      "execution_count": null,
      "outputs": [
        {
          "output_type": "stream",
          "name": "stdout",
          "text": [
            "Given array:\n",
            " [ 1 -2  3]\n",
            "Absolute array:\n",
            " [1 2 3]\n"
          ]
        }
      ]
    },
    {
      "cell_type": "markdown",
      "metadata": {
        "id": "84QdjdG7Y-qd"
      },
      "source": [
        "39. Compute pearson product-moment correlation coefficients of two given NumPy arrays"
      ]
    },
    {
      "cell_type": "code",
      "metadata": {
        "colab": {
          "base_uri": "https://localhost:8080/"
        },
        "id": "nvRCoYFqY99Z",
        "outputId": "725cdc98-234b-4a7d-8854-c168018aa1bf"
      },
      "source": [
        "# import library\n",
        "import numpy as np\n",
        "\n",
        "# create numpy 1d-array\n",
        "array1 = np.array([0, 1, 2])\n",
        "array2 = np.array([3, 4, 5])\n",
        "\n",
        "# pearson product-moment correlation\n",
        "# coefficients of the arrays\n",
        "rslt = np.corrcoef(array1, array2)\n",
        "\n",
        "print(rslt)"
      ],
      "execution_count": null,
      "outputs": [
        {
          "output_type": "stream",
          "name": "stdout",
          "text": [
            "[[1. 1.]\n",
            " [1. 1.]]\n"
          ]
        }
      ]
    },
    {
      "cell_type": "markdown",
      "metadata": {
        "id": "ogoH4aC1ZGzu"
      },
      "source": [
        "40. Compute the median of the flattened NumPy array"
      ]
    },
    {
      "cell_type": "code",
      "metadata": {
        "colab": {
          "base_uri": "https://localhost:8080/"
        },
        "id": "pQslVxS-ZFnR",
        "outputId": "35b5d7ae-328a-42ef-8e3e-5a3b0e6f86fc"
      },
      "source": [
        "# importing numpy as library\n",
        "import numpy as np\n",
        "\n",
        "\n",
        "# creating 1 D array with odd no of\n",
        "# elements\n",
        "x_odd = np.array([1, 2, 3, 4, 5, 6, 7])\n",
        "print(\"\\nPrinting the Original array:\")\n",
        "print(x_odd)\n",
        "\n",
        "# calculating median\n",
        "med_odd = np.median(x_odd)\n",
        "print(\"\\nMedian of the array that contains \\\n",
        "odd no of elements:\")\n",
        "print(med_odd)"
      ],
      "execution_count": null,
      "outputs": [
        {
          "output_type": "stream",
          "name": "stdout",
          "text": [
            "\n",
            "Printing the Original array:\n",
            "[1 2 3 4 5 6 7]\n",
            "\n",
            "Median of the array that contains odd no of elements:\n",
            "4.0\n"
          ]
        }
      ]
    },
    {
      "cell_type": "markdown",
      "metadata": {
        "id": "4SAeNdlNZNyj"
      },
      "source": [
        "41. Calculate the average, variance and standard deviation in Python using NumPy"
      ]
    },
    {
      "cell_type": "code",
      "metadata": {
        "colab": {
          "base_uri": "https://localhost:8080/"
        },
        "id": "90LkuTwFZM0_",
        "outputId": "2cfb4f61-5abe-4453-abfd-24a929073c95"
      },
      "source": [
        "# Python program to get average of a list\n",
        "\n",
        "# Importing the NumPy module\n",
        "import numpy as np\n",
        "\n",
        "# Taking a list of elements\n",
        "list = [2, 40, 2, 502, 177, 7, 9]\n",
        "\n",
        "# Calculating average using average()\n",
        "print(np.average(list))"
      ],
      "execution_count": null,
      "outputs": [
        {
          "output_type": "stream",
          "name": "stdout",
          "text": [
            "105.57142857142857\n"
          ]
        }
      ]
    },
    {
      "cell_type": "markdown",
      "metadata": {
        "id": "QkD5rUdN8HWR"
      },
      "source": [
        "# **Intermediate**"
      ]
    },
    {
      "cell_type": "markdown",
      "metadata": {
        "id": "ysJjh0wc-YRd"
      },
      "source": [
        "1. Write a program to reverse the integer"
      ]
    },
    {
      "cell_type": "code",
      "metadata": {
        "colab": {
          "base_uri": "https://localhost:8080/"
        },
        "id": "puM2lefR-NNP",
        "outputId": "74bd6c95-fa79-4763-dbb2-efed7dee1fcd"
      },
      "source": [
        "# Python program to reverse a number\n",
        "\n",
        "n = 4562\n",
        "rev = 0\n",
        "\n",
        "while(n > 0):\n",
        "\ta = n % 10\n",
        "\trev = rev * 10 + a\n",
        "\tn = n // 10\n",
        "\n",
        "print(rev)\n"
      ],
      "execution_count": null,
      "outputs": [
        {
          "output_type": "stream",
          "name": "stdout",
          "text": [
            "2654\n"
          ]
        }
      ]
    },
    {
      "cell_type": "markdown",
      "metadata": {
        "id": "bwSeHcV6-g2q"
      },
      "source": [
        "2. Write a program to reverse an array or string"
      ]
    },
    {
      "cell_type": "code",
      "metadata": {
        "colab": {
          "base_uri": "https://localhost:8080/"
        },
        "id": "ngRE3ect-rku",
        "outputId": "c11cd017-a769-4aa0-a103-e921d3833473"
      },
      "source": [
        "# Iterative python program to reverse an array\n",
        "\n",
        "# Function to reverse A[] from start to end\n",
        "def reverseList(A, start, end):\n",
        "\twhile start < end:\n",
        "\t\tA[start], A[end] = A[end], A[start]\n",
        "\t\tstart += 1\n",
        "\t\tend -= 1\n",
        "\n",
        "# Driver function to test above function\n",
        "A = [1, 2, 3, 4, 5, 6]\n",
        "print(A)\n",
        "reverseList(A, 0, 5)\n",
        "print(\"Reversed list is\")\n",
        "print(A)"
      ],
      "execution_count": null,
      "outputs": [
        {
          "output_type": "stream",
          "name": "stdout",
          "text": [
            "[1, 2, 3, 4, 5, 6]\n",
            "Reversed list is\n",
            "[6, 5, 4, 3, 2, 1]\n"
          ]
        }
      ]
    },
    {
      "cell_type": "markdown",
      "metadata": {
        "id": "Tr_rWkyD-5Dl"
      },
      "source": [
        "3. Ask the user for a number. Depending on whether the number is even or odd, print out an appropriate message to the user.\n",
        "\n",
        "Hint: how does an even / odd number react differently when divided by 2?\n",
        "\n",
        "Extras:\n",
        "\n",
        "If the number is a multiple of 4, print out a different message.\n",
        "Ask the user for two numbers: one number to check (call it num) and one number to divide by (check). If check divides evenly into num, tell that to the user. If not, print a different appropriate message."
      ]
    },
    {
      "cell_type": "code",
      "metadata": {
        "colab": {
          "base_uri": "https://localhost:8080/",
          "height": 235
        },
        "id": "2sgaY1Cb_600",
        "outputId": "76d8910a-1689-4778-ad70-542b560354fc"
      },
      "source": [
        "num = int(input(\"give me a number to check: \"))\n",
        "check = int(input(\"give me a number to divide by: \"))\n",
        "\n",
        "if num % 4 == 0:\n",
        "    print(num, \"is a multiple of 4\")\n",
        "elif num % 2 == 0:\n",
        "    print(num, \"is an even number\")\n",
        "else:\n",
        "    print(num, \"is an odd number\")\n",
        "\n",
        "if num % check == 0:\n",
        "    print(num, \"divides evenly by\", check)\n",
        "else:\n",
        "    print(num, \"does not divide evenly by\", check)"
      ],
      "execution_count": null,
      "outputs": [
        {
          "output_type": "error",
          "ename": "TypeError",
          "evalue": "ignored",
          "traceback": [
            "\u001b[0;31m---------------------------------------------------------------------------\u001b[0m",
            "\u001b[0;31mTypeError\u001b[0m                                 Traceback (most recent call last)",
            "\u001b[0;32m<ipython-input-44-c4af58c92947>\u001b[0m in \u001b[0;36m<cell line: 1>\u001b[0;34m()\u001b[0m\n\u001b[0;32m----> 1\u001b[0;31m \u001b[0mnum\u001b[0m \u001b[0;34m=\u001b[0m \u001b[0mint\u001b[0m\u001b[0;34m(\u001b[0m\u001b[0minput\u001b[0m\u001b[0;34m(\u001b[0m\u001b[0;34m\"give me a number to check: \"\u001b[0m\u001b[0;34m)\u001b[0m\u001b[0;34m)\u001b[0m\u001b[0;34m\u001b[0m\u001b[0;34m\u001b[0m\u001b[0m\n\u001b[0m\u001b[1;32m      2\u001b[0m \u001b[0mcheck\u001b[0m \u001b[0;34m=\u001b[0m \u001b[0mint\u001b[0m\u001b[0;34m(\u001b[0m\u001b[0minput\u001b[0m\u001b[0;34m(\u001b[0m\u001b[0;34m\"give me a number to divide by: \"\u001b[0m\u001b[0;34m)\u001b[0m\u001b[0;34m)\u001b[0m\u001b[0;34m\u001b[0m\u001b[0;34m\u001b[0m\u001b[0m\n\u001b[1;32m      3\u001b[0m \u001b[0;34m\u001b[0m\u001b[0m\n\u001b[1;32m      4\u001b[0m \u001b[0;32mif\u001b[0m \u001b[0mnum\u001b[0m \u001b[0;34m%\u001b[0m \u001b[0;36m4\u001b[0m \u001b[0;34m==\u001b[0m \u001b[0;36m0\u001b[0m\u001b[0;34m:\u001b[0m\u001b[0;34m\u001b[0m\u001b[0;34m\u001b[0m\u001b[0m\n\u001b[1;32m      5\u001b[0m     \u001b[0mprint\u001b[0m\u001b[0;34m(\u001b[0m\u001b[0mnum\u001b[0m\u001b[0;34m,\u001b[0m \u001b[0;34m\"is a multiple of 4\"\u001b[0m\u001b[0;34m)\u001b[0m\u001b[0;34m\u001b[0m\u001b[0;34m\u001b[0m\u001b[0m\n",
            "\u001b[0;31mTypeError\u001b[0m: 'list' object is not callable"
          ]
        }
      ]
    },
    {
      "cell_type": "markdown",
      "metadata": {
        "id": "t3oC3BHBAG6I"
      },
      "source": [
        "4. ake a list, say for example this one:\n",
        "\n",
        "  a = [1, 1, 2, 3, 5, 8, 13, 21, 34, 55, 89]\n",
        "and write a program that prints out all the elements of the list that are less than 5.\n",
        "\n",
        "Extras:\n",
        "\n",
        "1. Instead of printing the elements one by one, make a new list that has all the elements less than 5 from this list in it and print out this new list.\n",
        "2. Write this in one line of Python.\n",
        "3. Ask the user for a number and return a list that contains only elements from the original list a that are smaller than that number given by the user."
      ]
    },
    {
      "cell_type": "code",
      "metadata": {
        "colab": {
          "base_uri": "https://localhost:8080/",
          "height": 269
        },
        "id": "VgIhqzbDAJth",
        "outputId": "355eb77e-6191-447e-ea79-de37da492f53"
      },
      "source": [
        "#Create lists\n",
        "numbers = [7,3,13,6,8,5,1,2,4,15,9,10,12,14,11]\n",
        "lessFnums = []\n",
        "lessNnums =[]\n",
        "#Instead of printing the elements one by one, make a new list that has all the elements less than 5 from this list in it and print out this new list.\n",
        "for num in numbers:\n",
        "    if num < 5: #Compare numbers in list against 5\n",
        "        lessFnums.append(num) #Add numbers that are less than 5 to our list\n",
        "        lessFnums.sort() # Sort list\n",
        "#Print the List\n",
        "print(lessFnums)\n",
        "print()\n",
        "\n",
        "# Ask the user for a number and return a list that contains only elements from the original list a that are smaller than that number given by the user.\n",
        "num = int(input(\"Enter a number: \")) #Get a number from user\n",
        "for n in numbers:\n",
        "    if n < num: #Compare user number against numbers in list\n",
        "        lessNnums.append(n) #Add numbers that are less than user name to our list\n",
        "        lessNnums.sort() # Sort list\n",
        "#Print the list\n",
        "print(lessNnums)"
      ],
      "execution_count": null,
      "outputs": [
        {
          "output_type": "stream",
          "name": "stdout",
          "text": [
            "[1, 2, 3, 4]\n",
            "\n"
          ]
        },
        {
          "output_type": "error",
          "ename": "TypeError",
          "evalue": "ignored",
          "traceback": [
            "\u001b[0;31m---------------------------------------------------------------------------\u001b[0m",
            "\u001b[0;31mTypeError\u001b[0m                                 Traceback (most recent call last)",
            "\u001b[0;32m<ipython-input-45-8b470dc42462>\u001b[0m in \u001b[0;36m<cell line: 15>\u001b[0;34m()\u001b[0m\n\u001b[1;32m     13\u001b[0m \u001b[0;34m\u001b[0m\u001b[0m\n\u001b[1;32m     14\u001b[0m \u001b[0;31m# Ask the user for a number and return a list that contains only elements from the original list a that are smaller than that number given by the user.\u001b[0m\u001b[0;34m\u001b[0m\u001b[0;34m\u001b[0m\u001b[0m\n\u001b[0;32m---> 15\u001b[0;31m \u001b[0mnum\u001b[0m \u001b[0;34m=\u001b[0m \u001b[0mint\u001b[0m\u001b[0;34m(\u001b[0m\u001b[0minput\u001b[0m\u001b[0;34m(\u001b[0m\u001b[0;34m\"Enter a number: \"\u001b[0m\u001b[0;34m)\u001b[0m\u001b[0;34m)\u001b[0m \u001b[0;31m#Get a number from user\u001b[0m\u001b[0;34m\u001b[0m\u001b[0;34m\u001b[0m\u001b[0m\n\u001b[0m\u001b[1;32m     16\u001b[0m \u001b[0;32mfor\u001b[0m \u001b[0mn\u001b[0m \u001b[0;32min\u001b[0m \u001b[0mnumbers\u001b[0m\u001b[0;34m:\u001b[0m\u001b[0;34m\u001b[0m\u001b[0;34m\u001b[0m\u001b[0m\n\u001b[1;32m     17\u001b[0m     \u001b[0;32mif\u001b[0m \u001b[0mn\u001b[0m \u001b[0;34m<\u001b[0m \u001b[0mnum\u001b[0m\u001b[0;34m:\u001b[0m \u001b[0;31m#Compare user number against numbers in list\u001b[0m\u001b[0;34m\u001b[0m\u001b[0;34m\u001b[0m\u001b[0m\n",
            "\u001b[0;31mTypeError\u001b[0m: 'list' object is not callable"
          ]
        }
      ]
    },
    {
      "cell_type": "markdown",
      "metadata": {
        "id": "cdQhqX6iAjYu"
      },
      "source": [
        "5. Create a program that asks the user for a number and then prints out a list of all the divisors of that number. (If you don’t know what a divisor is, it is a number that divides evenly into another number. For example, 13 is a divisor of 26 because 26 / 13 has no remainder.)"
      ]
    },
    {
      "cell_type": "code",
      "metadata": {
        "colab": {
          "base_uri": "https://localhost:8080/",
          "height": 235
        },
        "id": "4xLTvqsUAwF7",
        "outputId": "5ec457cc-f0fe-4db7-8ebb-7ea5ae1e7518"
      },
      "source": [
        "__author__ = 'jeffreyhunt'\n",
        "\n",
        "num = int(input(\"Please choose a number to divide: \"))\n",
        "\n",
        "listRange = list(range(1,num+1))\n",
        "\n",
        "divisorList = []\n",
        "\n",
        "for number in listRange:\n",
        "    if num % number == 0:\n",
        "        divisorList.append(number)\n",
        "\n",
        "print(divisorList)"
      ],
      "execution_count": null,
      "outputs": [
        {
          "output_type": "error",
          "ename": "TypeError",
          "evalue": "ignored",
          "traceback": [
            "\u001b[0;31m---------------------------------------------------------------------------\u001b[0m",
            "\u001b[0;31mTypeError\u001b[0m                                 Traceback (most recent call last)",
            "\u001b[0;32m<ipython-input-46-66c0526dc711>\u001b[0m in \u001b[0;36m<cell line: 3>\u001b[0;34m()\u001b[0m\n\u001b[1;32m      1\u001b[0m \u001b[0m__author__\u001b[0m \u001b[0;34m=\u001b[0m \u001b[0;34m'jeffreyhunt'\u001b[0m\u001b[0;34m\u001b[0m\u001b[0;34m\u001b[0m\u001b[0m\n\u001b[1;32m      2\u001b[0m \u001b[0;34m\u001b[0m\u001b[0m\n\u001b[0;32m----> 3\u001b[0;31m \u001b[0mnum\u001b[0m \u001b[0;34m=\u001b[0m \u001b[0mint\u001b[0m\u001b[0;34m(\u001b[0m\u001b[0minput\u001b[0m\u001b[0;34m(\u001b[0m\u001b[0;34m\"Please choose a number to divide: \"\u001b[0m\u001b[0;34m)\u001b[0m\u001b[0;34m)\u001b[0m\u001b[0;34m\u001b[0m\u001b[0;34m\u001b[0m\u001b[0m\n\u001b[0m\u001b[1;32m      4\u001b[0m \u001b[0;34m\u001b[0m\u001b[0m\n\u001b[1;32m      5\u001b[0m \u001b[0mlistRange\u001b[0m \u001b[0;34m=\u001b[0m \u001b[0mlist\u001b[0m\u001b[0;34m(\u001b[0m\u001b[0mrange\u001b[0m\u001b[0;34m(\u001b[0m\u001b[0;36m1\u001b[0m\u001b[0;34m,\u001b[0m\u001b[0mnum\u001b[0m\u001b[0;34m+\u001b[0m\u001b[0;36m1\u001b[0m\u001b[0;34m)\u001b[0m\u001b[0;34m)\u001b[0m\u001b[0;34m\u001b[0m\u001b[0;34m\u001b[0m\u001b[0m\n",
            "\u001b[0;31mTypeError\u001b[0m: 'list' object is not callable"
          ]
        }
      ]
    },
    {
      "cell_type": "markdown",
      "metadata": {
        "id": "ZM6e69aHA6Fq"
      },
      "source": [
        "6. Ask the user for a string and print out whether this string is a palindrome or not. (A palindrome is a string that reads the same forwards and backwards.)\n"
      ]
    },
    {
      "cell_type": "code",
      "metadata": {
        "id": "qmh8ulhtBJrf"
      },
      "source": [
        "wrd=input(\"Please enter a word\")\n",
        "wrd=str(wrd)\n",
        "rvs=wrd[::-1]\n",
        "print(rvs)\n",
        "if wrd == rvs:\n",
        "    print(\"This word is a palindrome\")\n",
        "else:\n",
        "    print(\"This word is not a palindrome\")"
      ],
      "execution_count": null,
      "outputs": []
    },
    {
      "cell_type": "markdown",
      "metadata": {
        "id": "JWJdILVPBRce"
      },
      "source": [
        "7. Let’s say I give you a list saved in a variable: a = [1, 4, 9, 16, 25, 36, 49, 64, 81, 100]. Write one line of Python that takes this list a and makes a new list that has only the even elements of this list in it."
      ]
    },
    {
      "cell_type": "code",
      "metadata": {
        "id": "QrKGvtb0BXvp"
      },
      "source": [
        "__author__ = 'jhunt'\n",
        "\n",
        "a = [1, 4, 9, 16, 25, 36, 49, 64, 81, 100]\n",
        "b = [number for number in a if number % 2 == 0]\n",
        "\n",
        "print(b)"
      ],
      "execution_count": null,
      "outputs": []
    },
    {
      "cell_type": "markdown",
      "metadata": {
        "id": "BitUiSONBe7r"
      },
      "source": [
        "8. Generate a random number between 1 and 9 (including 1 and 9). Ask the user to guess the number, then tell them whether they guessed too low, too high, or exactly right.\n",
        "\n",
        "Extras:\n",
        "\n",
        "*  Keep the game going until the user types “exit”\n",
        "*  Keep track of how many guesses the user has taken, and when the game ends, print this out."
      ]
    },
    {
      "cell_type": "code",
      "metadata": {
        "id": "23xXG77mCS6l"
      },
      "source": [
        "import random\n",
        "\n",
        "rd = random.randint(1,9)\n",
        "guess = 0\n",
        "c = 0\n",
        "while guess != rd and guess != \"exit\":\n",
        "    guess = input(\"Enter a guess between 1 to 9\")\n",
        "\n",
        "    if guess == \"exit\":\n",
        "        break\n",
        "\n",
        "    guess = int(guess)\n",
        "    c += 1\n",
        "\n",
        "    if guess < rd:\n",
        "        print(\"Too low\")\n",
        "    elif guess > rd:\n",
        "        print(\"Too high\")\n",
        "    else:\n",
        "        print(\"Right!\")\n",
        "        print(\"You took only\", c, \"tries!\")\n",
        "input()"
      ],
      "execution_count": null,
      "outputs": []
    },
    {
      "cell_type": "markdown",
      "metadata": {
        "id": "TAW1TELrDKp2"
      },
      "source": [
        "9. This week’s exercise is going to be revisiting an old exercise (see Exercise 5), except require the solution in a different way.\n",
        "\n",
        "Take two lists, say for example these two:\n",
        "\n",
        "\ta = [1, 1, 2, 3, 5, 8, 13, 21, 34, 55, 89]\n",
        "\tb = [1, 2, 3, 4, 5, 6, 7, 8, 9, 10, 11, 12, 13]\n",
        "and write a program that returns a list that contains only the elements that are common between the lists (without duplicates). Make sure your program works on two lists of different sizes. Write this using at least one list comprehension."
      ]
    },
    {
      "cell_type": "code",
      "metadata": {
        "id": "O_aOmgiBDQ_a"
      },
      "source": [
        "import random\n",
        "a = random.sample(range(1,30), 12)\n",
        "b = random.sample(range(1,30), 16)\n",
        "result_overlap = [i for i in set(a) if i in b]\n",
        "result = []\n",
        "for element in result_overlap:\n",
        "  if element not in result:\n",
        "    result.append(element)"
      ],
      "execution_count": null,
      "outputs": []
    },
    {
      "cell_type": "markdown",
      "metadata": {
        "id": "1YqUn927D4Y2"
      },
      "source": [
        "10. Ask the user for a number and determine whether the number is prime or not. (For those who have forgotten, a prime number is a number that has no divisors.)."
      ]
    },
    {
      "cell_type": "code",
      "metadata": {
        "colab": {
          "base_uri": "https://localhost:8080/",
          "height": 235
        },
        "id": "4bvRsve5D6-u",
        "outputId": "e4675f73-bbb8-4faa-881a-2c466217c932"
      },
      "source": [
        "num = int(input('Insert a number: '))\n",
        "a = [x for x in range(2, num) if num % x == 0]\n",
        "\n",
        "def is_prime(n):\n",
        "\tif num > 1:\n",
        "\t\tif len(a) == 0:\n",
        "\t\t\tprint ('prime')\n",
        "\t\telse:\n",
        "\t\t\tprint ('NOT prime')\n",
        "\telse:\n",
        "\t\tprint ('NOT prime')\n",
        "\n",
        "is_prime(num)"
      ],
      "execution_count": null,
      "outputs": [
        {
          "output_type": "error",
          "ename": "TypeError",
          "evalue": "ignored",
          "traceback": [
            "\u001b[0;31m---------------------------------------------------------------------------\u001b[0m",
            "\u001b[0;31mTypeError\u001b[0m                                 Traceback (most recent call last)",
            "\u001b[0;32m<ipython-input-47-682a019dbf22>\u001b[0m in \u001b[0;36m<cell line: 1>\u001b[0;34m()\u001b[0m\n\u001b[0;32m----> 1\u001b[0;31m \u001b[0mnum\u001b[0m \u001b[0;34m=\u001b[0m \u001b[0mint\u001b[0m\u001b[0;34m(\u001b[0m\u001b[0minput\u001b[0m\u001b[0;34m(\u001b[0m\u001b[0;34m'Insert a number: '\u001b[0m\u001b[0;34m)\u001b[0m\u001b[0;34m)\u001b[0m\u001b[0;34m\u001b[0m\u001b[0;34m\u001b[0m\u001b[0m\n\u001b[0m\u001b[1;32m      2\u001b[0m \u001b[0ma\u001b[0m \u001b[0;34m=\u001b[0m \u001b[0;34m[\u001b[0m\u001b[0mx\u001b[0m \u001b[0;32mfor\u001b[0m \u001b[0mx\u001b[0m \u001b[0;32min\u001b[0m \u001b[0mrange\u001b[0m\u001b[0;34m(\u001b[0m\u001b[0;36m2\u001b[0m\u001b[0;34m,\u001b[0m \u001b[0mnum\u001b[0m\u001b[0;34m)\u001b[0m \u001b[0;32mif\u001b[0m \u001b[0mnum\u001b[0m \u001b[0;34m%\u001b[0m \u001b[0mx\u001b[0m \u001b[0;34m==\u001b[0m \u001b[0;36m0\u001b[0m\u001b[0;34m]\u001b[0m\u001b[0;34m\u001b[0m\u001b[0;34m\u001b[0m\u001b[0m\n\u001b[1;32m      3\u001b[0m \u001b[0;34m\u001b[0m\u001b[0m\n\u001b[1;32m      4\u001b[0m \u001b[0;32mdef\u001b[0m \u001b[0mis_prime\u001b[0m\u001b[0;34m(\u001b[0m\u001b[0mn\u001b[0m\u001b[0;34m)\u001b[0m\u001b[0;34m:\u001b[0m\u001b[0;34m\u001b[0m\u001b[0;34m\u001b[0m\u001b[0m\n\u001b[1;32m      5\u001b[0m         \u001b[0;32mif\u001b[0m \u001b[0mnum\u001b[0m \u001b[0;34m>\u001b[0m \u001b[0;36m1\u001b[0m\u001b[0;34m:\u001b[0m\u001b[0;34m\u001b[0m\u001b[0;34m\u001b[0m\u001b[0m\n",
            "\u001b[0;31mTypeError\u001b[0m: 'list' object is not callable"
          ]
        }
      ]
    },
    {
      "cell_type": "markdown",
      "metadata": {
        "id": "qY94_YpMEYg5"
      },
      "source": [
        "11. Write a program that takes a list of numbers (for example, a = [5, 10, 15, 20, 25]) and makes a new list of only the first and last elements of the given list. For practice, write this code inside a function."
      ]
    },
    {
      "cell_type": "code",
      "metadata": {
        "id": "qwB9JCoAEa9V"
      },
      "source": [
        "def list_ends(a_list):\n",
        "    return [a_list[0], a_list[len(a_list)-1]]"
      ],
      "execution_count": null,
      "outputs": []
    },
    {
      "cell_type": "markdown",
      "metadata": {
        "id": "c8aWuE7oEhCt"
      },
      "source": [
        "12. Write a program that asks the user how many Fibonacci numbers to generate and then generates them. Take this opportunity to think about how you can use functions. Make sure to ask the user to enter the number of numbers in the sequence to generate.(Hint: The Fibonacci seqence is a sequence of numbers where the next number in the sequence is the sum of the previous two numbers in the sequence. The sequence looks like this: 1, 1, 2, 3, 5, 8, 13, …)"
      ]
    },
    {
      "cell_type": "code",
      "metadata": {
        "id": "qCo7MX_rEi2o"
      },
      "source": [
        "def gen_fib():\n",
        "    count = int(input(\"How many fibonacci numbers would you like to generate? \"))\n",
        "    i = 1\n",
        "    if count == 0:\n",
        "        fib = []\n",
        "    elif count == 1:\n",
        "        fib = [1]\n",
        "    elif count == 2:\n",
        "        fib = [1,1]\n",
        "    elif count > 2:\n",
        "        fib = [1,1]\n",
        "        while i < (count - 1):\n",
        "            fib.append(fib[i] + fib[i-1])\n",
        "            i += 1\n",
        "\n",
        "    return fib"
      ],
      "execution_count": null,
      "outputs": []
    },
    {
      "cell_type": "markdown",
      "metadata": {
        "id": "XfjB1DQlFkOv"
      },
      "source": [
        "13. Write a program (using functions!) that asks the user for a long string containing multiple words. Print back to the user the same string, except with the words in backwards order. For example, say I type the string:\n",
        "\n",
        "  My name is Michele\n",
        "Then I would see the string:\n",
        "\n",
        "  Michele is name My\n",
        "shown back to me."
      ]
    },
    {
      "cell_type": "code",
      "metadata": {
        "id": "j6YC1pp8B8aq"
      },
      "source": [
        "def reverseWord(w):\n",
        "  return ' '.join(w.split()[::-1])\n",
        "reverseWord('Gana is my name')"
      ],
      "execution_count": null,
      "outputs": []
    },
    {
      "cell_type": "markdown",
      "metadata": {
        "id": "5NO9kM7iGOtE"
      },
      "source": [
        "14. Password Generator\n",
        "Write a password generator in Python. Be creative with how you generate passwords - strong passwords have a mix of lowercase letters, uppercase letters, numbers, and symbols. The passwords should be random, generating a new password every time the user asks for a new password. Include your code in a main method.\n",
        "\n",
        "Extra:\n",
        "\n",
        "Ask the user how strong they want their password to be. For weak passwords, pick a word or two from a list."
      ]
    },
    {
      "cell_type": "code",
      "metadata": {
        "id": "Ploo40GnGdlt"
      },
      "source": [
        "import string\n",
        "import random\n",
        "\n",
        "def pw_gen(size = 8, chars=string.ascii_letters + string.digits + string.punctuation):\n",
        "\treturn ''.join(random.choice(chars) for _ in range(size))\n",
        "\n",
        "print(pw_gen(int(input('How many characters in your password?'))))"
      ],
      "execution_count": null,
      "outputs": []
    },
    {
      "cell_type": "markdown",
      "metadata": {
        "id": "_XvzaYo-NSkA"
      },
      "source": [
        "15. Pyramid pattern program"
      ]
    },
    {
      "cell_type": "code",
      "metadata": {
        "id": "X5UEnRcZHXeK"
      },
      "source": [
        "def pattern(n):\n",
        "      k = 2 * n - 2\n",
        "      for i in range(0,n):\n",
        "           for j in range(0,k):\n",
        "               print(end=\" \")\n",
        "           k = k - 1\n",
        "           for j in range(0, i+1):\n",
        "                print(\"*\", end=\" \")\n",
        "           print(\"\\r\")\n",
        "\n",
        "pattern(5)"
      ],
      "execution_count": null,
      "outputs": []
    },
    {
      "cell_type": "markdown",
      "metadata": {
        "id": "9drLjjoINhwc"
      },
      "source": [
        "16. Reverse Pyramid Pattern Program"
      ]
    },
    {
      "cell_type": "code",
      "metadata": {
        "id": "tjErfvHANmyF"
      },
      "source": [
        "def pattern(n):\n",
        "      k = 2*n -2\n",
        "      for i in range(n,-1,-1):\n",
        "           for j in range(k,0,-1):\n",
        "                print(end=\" \")\n",
        "           k = k +1\n",
        "           for j in range(0, i+1):\n",
        "                print(\"*\", end=\" \")\n",
        "           print(\"\\r\")\n",
        "\n",
        "pattern(5)"
      ],
      "execution_count": null,
      "outputs": []
    },
    {
      "cell_type": "markdown",
      "metadata": {
        "id": "GNUsZyCNNqEF"
      },
      "source": [
        "17. Left Start Pattern Program"
      ]
    },
    {
      "cell_type": "code",
      "metadata": {
        "id": "pkVkttejNtIz"
      },
      "source": [
        "def pattern(n):\n",
        "    k = 2 * n - 2\n",
        "    for i in range(0, n-1):\n",
        "        for j in range(0, k):\n",
        "            print(end=\" \")\n",
        "        k = k - 2\n",
        "        for j in range(0, i + 1):\n",
        "            print(\"* \", end=\"\")\n",
        "        print(\"\\r\")\n",
        "    k = -1\n",
        "    for i in range(n-1,-1,-1):\n",
        "        for j in range(k,-1,-1):\n",
        "            print(end=\" \")\n",
        "        k = k + 2\n",
        "        for j in range(0, i + 1):\n",
        "            print(\"* \", end=\"\")\n",
        "        print(\"\\r\")\n",
        "\n",
        "\n",
        "pattern(5)"
      ],
      "execution_count": null,
      "outputs": []
    },
    {
      "cell_type": "markdown",
      "metadata": {
        "id": "nNLH58uMN5ZN"
      },
      "source": [
        "18. Half-Pyramid Pattern Program"
      ]
    },
    {
      "cell_type": "code",
      "metadata": {
        "id": "JFT9rSVyN99o"
      },
      "source": [
        "def pattern(n):\n",
        "     for i in range(0,n):\n",
        "         for j in range(0, i+1):\n",
        "              print(\"* \" , end=\"\")\n",
        "         print(\"\\r\")\n",
        "\n",
        "pattern(5)"
      ],
      "execution_count": null,
      "outputs": []
    },
    {
      "cell_type": "markdown",
      "metadata": {
        "id": "LmybjxZLOwls"
      },
      "source": [
        "19. Left Half-Pyramid Pattern Program\n"
      ]
    },
    {
      "cell_type": "code",
      "metadata": {
        "id": "9x3Z3hgsOyfI"
      },
      "source": [
        "def pattern(n):\n",
        "     k = 2 * n - 2\n",
        "     for i in range(0, n):\n",
        "          for j in range(0, k):\n",
        "               print(end=\" \")\n",
        "          k = k - 2\n",
        "          for j in range(0, i + 1):\n",
        "              print(\"* \", end=\"\")\n",
        "          print(\"\\r\")\n",
        "\n",
        "pattern(5)"
      ],
      "execution_count": null,
      "outputs": []
    },
    {
      "cell_type": "markdown",
      "metadata": {
        "id": "FW58xaAUO1ku"
      },
      "source": [
        "20. Downward Half-Pyramid Pattern Program"
      ]
    },
    {
      "cell_type": "code",
      "metadata": {
        "id": "pQMmycq3O6Fj"
      },
      "source": [
        "def pattern(n):\n",
        "      for i in range(n, -1, -1):\n",
        "           for j in range(0, i + 1):\n",
        "               print(\"* \", end=\"\")\n",
        "           print(\"\\r\")\n",
        "\n",
        "pattern(5)"
      ],
      "execution_count": null,
      "outputs": []
    },
    {
      "cell_type": "markdown",
      "metadata": {
        "id": "GROxDRTkO816"
      },
      "source": [
        "21. Diamond Shaped Pattern Program"
      ]
    },
    {
      "cell_type": "code",
      "metadata": {
        "id": "L5TNSIzqPBEW"
      },
      "source": [
        "def pattern(n):\n",
        "     k = 2 * n - 2\n",
        "     for i in range(0, n):\n",
        "          for j in range(0 , k):\n",
        "               print(end=\" \")\n",
        "          k = k - 1\n",
        "          for j in range(0 , i + 1 ):\n",
        "               print(\"* \", end=\"\")\n",
        "          print(\"\\r\")\n",
        "     k = n - 2\n",
        "     for i in range(n , -1, -1):\n",
        "          for j in range(k , 0 , -1):\n",
        "               print(end=\" \")\n",
        "          k = k + 1\n",
        "          for j in range(0 , i + 1):\n",
        "               print(\"* \", end=\"\")\n",
        "          print(\"\\r\")\n",
        "\n",
        "pattern(5)"
      ],
      "execution_count": null,
      "outputs": []
    },
    {
      "cell_type": "markdown",
      "metadata": {
        "id": "yGCZjGnYPJ9Q"
      },
      "source": [
        "22. Diamond Star Pattern Program"
      ]
    },
    {
      "cell_type": "code",
      "metadata": {
        "id": "mUEb4TyWPNrR"
      },
      "source": [
        "for i in range(5):\n",
        "    for j in range(5):\n",
        "        if i + j == 2 or i - j == 2 or i + j == 6 or j - i == 2:\n",
        "            print(\"*\", end=\"\")\n",
        "        else:\n",
        "            print(end=\" \")\n",
        "    print()"
      ],
      "execution_count": null,
      "outputs": []
    },
    {
      "cell_type": "markdown",
      "metadata": {
        "id": "oASv_E1xPT3j"
      },
      "source": [
        "23. Number Pattern Programs"
      ]
    },
    {
      "cell_type": "code",
      "metadata": {
        "id": "VIRXqxMVPXkI"
      },
      "source": [
        "def pattern(n):\n",
        "    x = 0\n",
        "    for i in range(0 , n):\n",
        "        x += 1\n",
        "        for j in range(0, i + 1):\n",
        "            print(x , end=\" \")\n",
        "        print(\"\\r\")\n",
        "pattern(5)"
      ],
      "execution_count": null,
      "outputs": []
    },
    {
      "cell_type": "markdown",
      "metadata": {
        "id": "ZukQKwltPawz"
      },
      "source": [
        "24. Pascal’s Triangle Program"
      ]
    },
    {
      "cell_type": "code",
      "metadata": {
        "id": "o31MqJdpPfzQ"
      },
      "source": [
        "def pascal(n):\n",
        "    for i in range(0, n):\n",
        "        for j in range(0, i + 1):\n",
        "            print(function(i, j),\" \", end=\"\")\n",
        "        print()\n",
        "\n",
        "def function(n, k):\n",
        "    res = 1\n",
        "    if (k > n - k):\n",
        "        k = n - k\n",
        "    for i in range(0, k):\n",
        "        res = res * (n - i)\n",
        "        res = res // (i + 1)\n",
        "\n",
        "    return res\n",
        "\n",
        "pascal(7)"
      ],
      "execution_count": null,
      "outputs": []
    },
    {
      "cell_type": "markdown",
      "metadata": {
        "id": "rcfsi6ihPh-g"
      },
      "source": [
        "25. Half-Pyramid Pattern With Numbers"
      ]
    },
    {
      "cell_type": "code",
      "metadata": {
        "id": "wRUy8s8KPmd8"
      },
      "source": [
        "def pattern(n):\n",
        "     for i in range(1, n):\n",
        "         for j in range(1, i + 1):\n",
        "             print(j, end= \" \")\n",
        "         print(\"\\r\")\n",
        "pattern(5)"
      ],
      "execution_count": null,
      "outputs": []
    },
    {
      "cell_type": "markdown",
      "metadata": {
        "id": "SDcYOI0JPqyn"
      },
      "source": [
        "26. Diamond Pattern With Numbers"
      ]
    },
    {
      "cell_type": "code",
      "metadata": {
        "id": "o8in8AIjPsUO"
      },
      "source": [
        "def pattern(n):\n",
        "    k = 2 * n - 2\n",
        "    x = 0\n",
        "    for i in range(0, n):\n",
        "        x += 1\n",
        "        for j in range(0, k):\n",
        "            print(end=\" \")\n",
        "        k = k - 1\n",
        "        for j in range(0, i + 1):\n",
        "            print(x, end=\" \")\n",
        "        print(\"\\r\")\n",
        "    k = n - 2\n",
        "    x = n + 2\n",
        "    for i in range(n, -1, -1):\n",
        "        x -= 1\n",
        "        for j in range(k, 0, -1):\n",
        "            print(end=\" \")\n",
        "        k = k + 1\n",
        "        for j in range(0, i + 1):\n",
        "            print(x, end=\" \")\n",
        "        print(\"\\r\")\n",
        "\n",
        "pattern(5)"
      ],
      "execution_count": null,
      "outputs": []
    },
    {
      "cell_type": "markdown",
      "metadata": {
        "id": "6hLzLNdxPv0p"
      },
      "source": [
        "27. Descending Order Pattern Program"
      ]
    },
    {
      "cell_type": "code",
      "metadata": {
        "id": "em45qnR_Pz49"
      },
      "source": [
        "def pattern(n):\n",
        "    for i in range(n, 0, -1):\n",
        "        for j in range(1, i + 1):\n",
        "            print(j, end=\" \")\n",
        "\n",
        "        print(\"\\r\")\n",
        "\n",
        "pattern(5)"
      ],
      "execution_count": null,
      "outputs": []
    },
    {
      "cell_type": "markdown",
      "metadata": {
        "id": "MuQWAx39P20b"
      },
      "source": [
        "28. Binary Numbers Pattern Program"
      ]
    },
    {
      "cell_type": "code",
      "metadata": {
        "id": "NGAun2nwP6c3"
      },
      "source": [
        "def pattern(n):\n",
        "    k = 2 * n - 2\n",
        "    for i in range(0, n):\n",
        "        for j in range(0, k):\n",
        "            print(end=\" \")\n",
        "        k = k - 1\n",
        "        for j in range(0, i + 1):\n",
        "            print('10', end=\"\")\n",
        "\n",
        "        print(\"\\r\")\n",
        "\n",
        "pattern(5)"
      ],
      "execution_count": null,
      "outputs": []
    },
    {
      "cell_type": "markdown",
      "metadata": {
        "id": "TiOIwLdVP9pI"
      },
      "source": [
        "29. Right Alphabetical Triangle\n"
      ]
    },
    {
      "cell_type": "code",
      "metadata": {
        "id": "Yof1gv26QGBZ"
      },
      "source": [
        "def pattern(n):\n",
        "    x = 65\n",
        "    for i in range(0, n):\n",
        "        ch = chr(x)\n",
        "        x += 1\n",
        "        for j in range(0, i + 1):\n",
        "            print(ch, end=\" \")\n",
        "        print(\"\\r\")\n",
        "\n",
        "pattern(5)"
      ],
      "execution_count": null,
      "outputs": []
    },
    {
      "cell_type": "markdown",
      "metadata": {
        "id": "zxss8twSQHn8"
      },
      "source": [
        "30. Character Pattern Program"
      ]
    },
    {
      "cell_type": "code",
      "metadata": {
        "id": "1WuWpQY3QLNs"
      },
      "source": [
        "def pattern(n):\n",
        "    k = 2 * n - 2\n",
        "    x = 65\n",
        "    for i in range(0, n):\n",
        "        for j in range(0, k):\n",
        "            print(end=\" \")\n",
        "        k = k - 1\n",
        "        for j in range(0, i + 1):\n",
        "            ch = chr(x)\n",
        "            print(ch, end=\" \")\n",
        "            x += 1\n",
        "        print(\"\\r\")\n",
        "\n",
        "\n",
        "pattern(7)"
      ],
      "execution_count": null,
      "outputs": []
    },
    {
      "cell_type": "markdown",
      "metadata": {
        "id": "g_VuhomQQOp4"
      },
      "source": [
        "31. K Shape Character Program\n"
      ]
    },
    {
      "cell_type": "code",
      "metadata": {
        "id": "uCeK625UQSjX"
      },
      "source": [
        "for i in range(7):\n",
        "    for j in range(7):\n",
        "        if j == 0 or i - j == 3 or i + j == 3:\n",
        "            print(\"*\", end=\"\")\n",
        "        else:\n",
        "            print(end=\" \")\n",
        "    print()"
      ],
      "execution_count": null,
      "outputs": []
    },
    {
      "cell_type": "markdown",
      "metadata": {
        "id": "vsW2ldPTQWQF"
      },
      "source": [
        "32. Triangle Character Pattern Program\n"
      ]
    },
    {
      "cell_type": "code",
      "metadata": {
        "id": "ARCW24qTQZTY"
      },
      "source": [
        "def pattern(n):\n",
        "    k = 2 * n - 2\n",
        "    x = 65\n",
        "    for i in range(0, n):\n",
        "        ch = chr(x)\n",
        "        x += 1\n",
        "        for j in range(0, k):\n",
        "            print(end=\" \")\n",
        "        k = k - 1\n",
        "        for j in range(0, i + 1):\n",
        "            print(ch, end=\" \")\n",
        "        print(\"\\r\")\n",
        "\n",
        "\n",
        "pattern(5)"
      ],
      "execution_count": null,
      "outputs": []
    },
    {
      "cell_type": "markdown",
      "metadata": {
        "id": "lbf7x4s9QcYo"
      },
      "source": [
        "33. Diamond Shaped Character Pattern Program"
      ]
    },
    {
      "cell_type": "code",
      "metadata": {
        "id": "4djOVqpRQglQ"
      },
      "source": [
        "def pattern(n):\n",
        "    k = 2 * n - 2\n",
        "    for i in range(0, n):\n",
        "        for j in range(0, k):\n",
        "            print(end=\" \")\n",
        "        k = k - 1\n",
        "        x = 65\n",
        "        for j in range(0, i + 1):\n",
        "            ch = chr(x)\n",
        "            print(ch, end=\" \")\n",
        "            x += 1\n",
        "        print(\"\\r\")\n",
        "    k = n - 2\n",
        "    x = 65\n",
        "    for i in range(n, -1, -1):\n",
        "        for j in range(k, 0, -1):\n",
        "            print(end=\" \")\n",
        "        k = k + 1\n",
        "        for j in range(0, i + 1):\n",
        "            ch = chr(x)\n",
        "            print(ch, end=\" \")\n",
        "            x += 1\n",
        "        print(\"\\r\")\n",
        "\n",
        "\n",
        "pattern(5)"
      ],
      "execution_count": null,
      "outputs": []
    },
    {
      "cell_type": "markdown",
      "metadata": {
        "id": "s1hfE8j2QkXR"
      },
      "source": [
        "34. Python dictionary sorting in descending order based on values"
      ]
    },
    {
      "cell_type": "code",
      "metadata": {
        "id": "5x_zWIcwQ_n_"
      },
      "source": [
        "dict1 = {'Nikhil': {'English': 5, 'Maths': 2, 'Science': 14},\n",
        "         'Akash': {'English': 15, 'Maths': 7, 'Science': 2},\n",
        "         'Akshat': {'English': 5, 'Maths': 50, 'Science': 20}}\n",
        "\n",
        "def asc(dic):\n",
        "    dict2 = {}\n",
        "    for key, val in dic.items():\n",
        "        dict3 = {}\n",
        "        sort_val = dict(sorted(val.items(), key=lambda item: item[1], reverse=False))\n",
        "        dict3.update(sort_val)\n",
        "        dict2.update({key: dict3})\n",
        "    return dict2\n",
        "\n",
        "print(asc(dict1))"
      ],
      "execution_count": null,
      "outputs": []
    },
    {
      "cell_type": "markdown",
      "metadata": {
        "id": "MqQ2kkrIRCx8"
      },
      "source": [
        "35. Get repeated item count from list Python"
      ]
    },
    {
      "cell_type": "code",
      "metadata": {
        "colab": {
          "base_uri": "https://localhost:8080/",
          "height": 235
        },
        "id": "GFxvj1QyRSiJ",
        "outputId": "77024a4b-60dd-4643-d5b8-31fa902fea09"
      },
      "source": [
        "from collections import Counter\n",
        "mylist = [1,1,1,8,7,8,1,2,9,2]\n",
        "result = dict(Counter(mylist))\n",
        "result={k:mylist.count(k) for k in mylist}\n",
        "print (result)"
      ],
      "execution_count": null,
      "outputs": [
        {
          "output_type": "error",
          "ename": "TypeError",
          "evalue": "ignored",
          "traceback": [
            "\u001b[0;31m---------------------------------------------------------------------------\u001b[0m",
            "\u001b[0;31mTypeError\u001b[0m                                 Traceback (most recent call last)",
            "\u001b[0;32m<ipython-input-48-26c351505ce2>\u001b[0m in \u001b[0;36m<cell line: 3>\u001b[0;34m()\u001b[0m\n\u001b[1;32m      1\u001b[0m \u001b[0;32mfrom\u001b[0m \u001b[0mcollections\u001b[0m \u001b[0;32mimport\u001b[0m \u001b[0mCounter\u001b[0m\u001b[0;34m\u001b[0m\u001b[0;34m\u001b[0m\u001b[0m\n\u001b[1;32m      2\u001b[0m \u001b[0mmylist\u001b[0m \u001b[0;34m=\u001b[0m \u001b[0;34m[\u001b[0m\u001b[0;36m1\u001b[0m\u001b[0;34m,\u001b[0m\u001b[0;36m1\u001b[0m\u001b[0;34m,\u001b[0m\u001b[0;36m1\u001b[0m\u001b[0;34m,\u001b[0m\u001b[0;36m8\u001b[0m\u001b[0;34m,\u001b[0m\u001b[0;36m7\u001b[0m\u001b[0;34m,\u001b[0m\u001b[0;36m8\u001b[0m\u001b[0;34m,\u001b[0m\u001b[0;36m1\u001b[0m\u001b[0;34m,\u001b[0m\u001b[0;36m2\u001b[0m\u001b[0;34m,\u001b[0m\u001b[0;36m9\u001b[0m\u001b[0;34m,\u001b[0m\u001b[0;36m2\u001b[0m\u001b[0;34m]\u001b[0m\u001b[0;34m\u001b[0m\u001b[0;34m\u001b[0m\u001b[0m\n\u001b[0;32m----> 3\u001b[0;31m \u001b[0mresult\u001b[0m \u001b[0;34m=\u001b[0m \u001b[0mdict\u001b[0m\u001b[0;34m(\u001b[0m\u001b[0mCounter\u001b[0m\u001b[0;34m(\u001b[0m\u001b[0mmylist\u001b[0m\u001b[0;34m)\u001b[0m\u001b[0;34m)\u001b[0m\u001b[0;34m\u001b[0m\u001b[0;34m\u001b[0m\u001b[0m\n\u001b[0m\u001b[1;32m      4\u001b[0m \u001b[0mresult\u001b[0m\u001b[0;34m=\u001b[0m\u001b[0;34m{\u001b[0m\u001b[0mk\u001b[0m\u001b[0;34m:\u001b[0m\u001b[0mmylist\u001b[0m\u001b[0;34m.\u001b[0m\u001b[0mcount\u001b[0m\u001b[0;34m(\u001b[0m\u001b[0mk\u001b[0m\u001b[0;34m)\u001b[0m \u001b[0;32mfor\u001b[0m \u001b[0mk\u001b[0m \u001b[0;32min\u001b[0m \u001b[0mmylist\u001b[0m\u001b[0;34m}\u001b[0m\u001b[0;34m\u001b[0m\u001b[0;34m\u001b[0m\u001b[0m\n\u001b[1;32m      5\u001b[0m \u001b[0mprint\u001b[0m \u001b[0;34m(\u001b[0m\u001b[0mresult\u001b[0m\u001b[0;34m)\u001b[0m\u001b[0;34m\u001b[0m\u001b[0;34m\u001b[0m\u001b[0m\n",
            "\u001b[0;31mTypeError\u001b[0m: 'dict' object is not callable"
          ]
        }
      ]
    },
    {
      "cell_type": "markdown",
      "metadata": {
        "id": "N2aCPwigRdhf"
      },
      "source": [
        "36. How do you swap two variables without using a third variable in Python?"
      ]
    },
    {
      "cell_type": "code",
      "metadata": {
        "id": "vsfFf1LQRflI"
      },
      "source": [
        "a = 10\n",
        "b = 20\n",
        "print(\"Before swapping value of a is\", a , \"and b is\", b)\n",
        "\n",
        "#code to swap a & b\n",
        "a, b = b, a\n",
        "print(\"After swapping value of a is\", a , \"and b is\", b)"
      ],
      "execution_count": null,
      "outputs": []
    },
    {
      "cell_type": "markdown",
      "metadata": {
        "id": "ZqPP2e-tRiuD"
      },
      "source": [
        "37. Get count of all elements from the list using oops concept"
      ]
    },
    {
      "cell_type": "code",
      "metadata": {
        "id": "JmuZ1p7fRnnX"
      },
      "source": [
        "a = ['a', 'b', 'a', 'aaa', 1, 2, 1, 1]\n",
        "\n",
        "\n",
        "class CheckCount(object):\n",
        "\n",
        "    def __init__(self, data_list):\n",
        "        self.data_list = data_list\n",
        "\n",
        "    def get_count_keys(self):\n",
        "        count_dict = {}\n",
        "        for i in self.data_list:\n",
        "            if i not in count_dict:\n",
        "                count_dict[i] = 0\n",
        "            count_dict[i] = count_dict[i] + 1\n",
        "        return count_dict\n",
        "\n",
        "    @staticmethod\n",
        "    def print_count_values(count_dict):\n",
        "        for key in count_dict:\n",
        "            print(key, \" - \", count_dict.get(key))\n",
        "\n",
        "\n",
        "chk_count = CheckCount(a)\n",
        "new_dict = chk_count.get_count_keys()\n",
        "chk_count.print_count_values(new_dict)"
      ],
      "execution_count": null,
      "outputs": []
    },
    {
      "cell_type": "markdown",
      "metadata": {
        "id": "6k8uOm6LRtV2"
      },
      "source": [
        "38. Find the largest combination from given list"
      ]
    },
    {
      "cell_type": "code",
      "metadata": {
        "id": "QlZifzg1Rv5n"
      },
      "source": [
        "from itertools import permutations\n",
        "num_list = [99, 89, 992, 743, 9]\n",
        "latest_largest_num = \"0\"\n",
        "new_list = []\n",
        "for per in permutations(str(number) for number in num_list):\n",
        "  new_list.append(''.join(per))\n",
        "latest_largest_num = max(new_list, key=int)\n",
        "print(latest_largest_num)"
      ],
      "execution_count": null,
      "outputs": []
    },
    {
      "cell_type": "markdown",
      "metadata": {
        "id": "QjlzUwjVSRT5"
      },
      "source": [
        "39. Write a Python Program for Sum of squares of first n natural numbers"
      ]
    },
    {
      "cell_type": "code",
      "metadata": {
        "id": "4rjXfnoSrgnu"
      },
      "source": [
        "# Python3 Program to\n",
        "# find sum of square\n",
        "# of first n natural\n",
        "# numbers\n",
        "\n",
        "\n",
        "# Return the sum of\n",
        "# square of first n\n",
        "# natural numbers\n",
        "def squaresum(n) :\n",
        "\n",
        "    # Iterate i from 1\n",
        "    # and n finding\n",
        "    # square of i and\n",
        "    # add to sum.\n",
        "    sm = 0\n",
        "    for i in range(1, n+1) :\n",
        "        sm = sm + (i * i)\n",
        "\n",
        "    return sm\n",
        "\n",
        "# Driven Program\n",
        "n = 4\n",
        "print(squaresum(n))"
      ],
      "execution_count": null,
      "outputs": []
    },
    {
      "cell_type": "markdown",
      "metadata": {
        "id": "75x-hTkn8LuU"
      },
      "source": [
        "# **Advanced**\n",
        "\n"
      ]
    },
    {
      "cell_type": "markdown",
      "metadata": {
        "id": "9z7e90fk8TgI"
      },
      "source": [
        "1. Reverse digits of an integer with overflow handled"
      ]
    },
    {
      "cell_type": "code",
      "metadata": {
        "id": "ikGP6VTv8Sid"
      },
      "source": [
        "# Python program to reverse a number\n",
        "\n",
        "n = 4562;\n",
        "rev = 0\n",
        "\n",
        "while(n > 0):\n",
        "\ta = n % 10\n",
        "\trev = rev * 10 + a\n",
        "\tn = n / 10\n",
        "\n",
        "print(rev)\n"
      ],
      "execution_count": null,
      "outputs": []
    },
    {
      "cell_type": "markdown",
      "metadata": {
        "id": "iv_qHW2x8r0c"
      },
      "source": [
        "How to handle overflow?\n",
        "The idea is to store previous value of the sum can be stored in a variable which can be checked every time to see if the reverse overflowed or not.\n",
        "Below is the implementation to deal with such a situation."
      ]
    },
    {
      "cell_type": "code",
      "metadata": {
        "id": "hhu8sWxw9wy_"
      },
      "source": [
        "# Python program to reverse digits\n",
        "# of a number\n",
        "\n",
        "\"\"\" Iterative function to reverse\n",
        "digits of num\"\"\"\n",
        "def reversDigits(num):\n",
        "\n",
        "\t# Handling negative numbers\n",
        "\tnegativeFlag = False\n",
        "\tif (num < 0):\n",
        "\n",
        "\t\tnegativeFlag = True\n",
        "\t\tnum = -num\n",
        "\n",
        "\n",
        "\tprev_rev_num = 0\n",
        "\trev_num = 0\n",
        "\twhile (num != 0):\n",
        "\n",
        "\t\tcurr_digit = num % 10\n",
        "\n",
        "\t\trev_num = (rev_num * 10) + curr_digit\n",
        "\n",
        "\t\t# checking if the reverse overflowed or not.\n",
        "\t\t# The values of (rev_num - curr_digit)/10 and\n",
        "\t\t# prev_rev_num must be same if there was no\n",
        "\t\t# problem.\n",
        "\t\tif (rev_num >= 2147483647 or\n",
        "\t\t\trev_num <= -2147483648):\n",
        "\t\t\trev_num = 0\n",
        "\t\tif ((rev_num - curr_digit) // 10 != prev_rev_num):\n",
        "\n",
        "\t\t\tprint(\"WARNING OVERFLOWED!!!\")\n",
        "\t\t\treturn 0\n",
        "\n",
        "\n",
        "\t\tprev_rev_num = rev_num\n",
        "\t\tnum = num //10\n",
        "\n",
        "\n",
        "\treturn -rev_num if (negativeFlag == True) else rev_num\n",
        "\n",
        "\n",
        "\n",
        "\n",
        "\n",
        "num = 12345\n",
        "print(\"Reverse of no. is \",reversDigits(num))\n",
        "\n",
        "num = 1000000045\n",
        "print(\"Reverse of no. is \",reversDigits(num))\n"
      ],
      "execution_count": null,
      "outputs": []
    },
    {
      "cell_type": "markdown",
      "metadata": {
        "id": "xokDjZik_PWx"
      },
      "source": [
        "2. Move all zeroes to end of array\n",
        "\n",
        "Given an array of random numbers, Push all the zero’s of a given array to the end of the array. For example, if the given arrays is {1, 9, 8, 4, 0, 0, 2, 7, 0, 6, 0}, it should be changed to {1, 9, 8, 4, 2, 7, 6, 0, 0, 0, 0}. The order of all other elements should be same. Expected time complexity is O(n) and extra space is O(1).\n",
        "Example:\n",
        "\n",
        "\n",
        "Input :  arr[] = {1, 2, 0, 4, 3, 0, 5, 0};\n",
        "\n",
        "Output : arr[] = {1, 2, 4, 3, 5, 0, 0, 0};\n",
        "\n",
        "Input : arr[]  = {1, 2, 0, 0, 0, 3, 6};\n",
        "\n",
        "Output : arr[] = {1, 2, 3, 6, 0, 0, 0};"
      ]
    },
    {
      "cell_type": "code",
      "metadata": {
        "id": "HPmp_VNQ_TV3"
      },
      "source": [
        "# Python3 code to move all zeroes\n",
        "# at the end of array\n",
        "\n",
        "# Function which pushes all\n",
        "# zeros to end of an array.\n",
        "def pushZerosToEnd(arr, n):\n",
        "\tcount = 0 # Count of non-zero elements\n",
        "\n",
        "\t# Traverse the array. If element\n",
        "\t# encountered is non-zero, then\n",
        "\t# replace the element at index\n",
        "\t# 'count' with this element\n",
        "\tfor i in range(n):\n",
        "\t\tif arr[i] != 0:\n",
        "\n",
        "\t\t\t# here count is incremented\n",
        "\t\t\tarr[count] = arr[i]\n",
        "\t\t\tcount+=1\n",
        "\n",
        "\t# Now all non-zero elements have been\n",
        "\t# shifted to front and 'count' is set\n",
        "\t# as index of first 0. Make all\n",
        "\t# elements 0 from count to end.\n",
        "\twhile count < n:\n",
        "\t\tarr[count] = 0\n",
        "\t\tcount += 1\n",
        "\n",
        "# Driver code\n",
        "arr = [1, 9, 8, 4, 0, 0, 2, 7, 0, 6, 0, 9]\n",
        "n = len(arr)\n",
        "pushZerosToEnd(arr, n)\n",
        "print(\"Array after pushing all zeros to end of array:\")\n",
        "print(arr)\n"
      ],
      "execution_count": null,
      "outputs": []
    },
    {
      "cell_type": "markdown",
      "metadata": {
        "id": "yqFinjGzBnaL"
      },
      "source": [
        "3. Make a two-player Rock-Paper-Scissors game. (Hint: Ask for player plays (using input), compare them, print out a message of congratulations to the winner, and ask if the players want to start a new game)\n",
        "\n",
        "Remember the rules:\n",
        "\n",
        "\n",
        "\n",
        "*   Rock beats scissors\n",
        "*   Scissors beats paper\n",
        "*   Paper beats rock\n"
      ]
    },
    {
      "cell_type": "code",
      "metadata": {
        "id": "IebcKYTx_cC-"
      },
      "source": [
        "print('''Please pick one:\n",
        "            rock\n",
        "            scissors\n",
        "            paper''')\n",
        "\n",
        "while True:\n",
        "    game_dict = {'rock': 1, 'scissors': 2, 'paper': 3}\n",
        "    player_a = str(input(\"Player a: \"))\n",
        "    player_b = str(input(\"Player b: \"))\n",
        "    a = game_dict.get(player_a)\n",
        "    b = game_dict.get(player_b)\n",
        "    dif = a - b\n",
        "\n",
        "    if dif in [-1, 2]:\n",
        "        print('player a wins.')\n",
        "        if str(input('Do you want to play another game, yes or no?\\n')) == 'yes':\n",
        "            continue\n",
        "        else:\n",
        "            print('game over.')\n",
        "            break\n",
        "    elif dif in [-2, 1]:\n",
        "        print('player b wins.')\n",
        "        if str(input('Do you want to play another game, yes or no?\\n')) == 'yes':\n",
        "            continue\n",
        "        else:\n",
        "            print('game over.')\n",
        "            break\n",
        "    else:\n",
        "        print('Draw.Please continue.')\n",
        "        print('')"
      ],
      "execution_count": null,
      "outputs": []
    },
    {
      "cell_type": "code",
      "metadata": {
        "id": "ZmnhtVL6FyEd"
      },
      "source": [],
      "execution_count": null,
      "outputs": []
    },
    {
      "cell_type": "code",
      "metadata": {
        "id": "u037BvvkF7Ta"
      },
      "source": [],
      "execution_count": null,
      "outputs": []
    },
    {
      "cell_type": "markdown",
      "metadata": {
        "id": "ezSKe5D-GshM"
      },
      "source": [
        "4. Cows and Bulls\n",
        "\n",
        "Create a program that will play the “cows and bulls” game with the user. The game works like this:\n",
        "\n",
        "Randomly generate a 4-digit number. Ask the user to guess a 4-digit number. For every digit that the user guessed correctly in the correct place, they have a “cow”. For every digit the user guessed correctly in the wrong place is a “bull.” Every time the user makes a guess, tell them how many “cows” and “bulls” they have. Once the user guesses the correct number, the game is over. Keep track of the number of guesses the user makes throughout teh game and tell the user at the end.\n",
        "\n",
        "![image.png](data:image/png;base64,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)"
      ]
    },
    {
      "cell_type": "code",
      "metadata": {
        "id": "gkYkePVPH3gy"
      },
      "source": [
        "\"\"\"\n",
        "Create a program that will play the “cows and bulls” game with the user. The game works like this:\n",
        "Randomly generate a 4-digit number. Ask the user to guess a 4-digit number. For every digit that the\n",
        "user guessed correctly in the correct place, they have a “cow”. For every digit the user guessed\n",
        "correctly in the wrong place is a “bull.” Every time the user makes a guess, tell them how many\n",
        "“cows” and “bulls” they have. Once the user guesses the correct number, the game is over. Keep track\n",
        "of the number of guesses the user makes throughout teh game and tell the user at the end.\n",
        "Say the number generated by the computer is 1038. An example interaction could look like this:\n",
        "  Welcome to the Cows and Bulls Game!\n",
        "  Enter a number:\n",
        "  >>> 1234\n",
        "  2 cows, 0 bulls\n",
        "  >>> 1256\n",
        "  1 cow, 1 bull\n",
        "  ...\n",
        "\"\"\"\n",
        "\n",
        "import random\n",
        "\n",
        "def compare_numbers(number, user_guess):\n",
        "    cowbull = [0,0] #cows, then bulls\n",
        "    for i in range(len(number)):\n",
        "        if number[i] == user_guess[i]:\n",
        "            cowbull[1]+=1\n",
        "        else:\n",
        "            cowbull[0]+=1\n",
        "    return cowbull\n",
        "\n",
        "if __name__==\"__main__\":\n",
        "    playing = True #gotta play the game\n",
        "    number = str(random.randint(0,9999)) #random 4 digit number\n",
        "    guesses = 0\n",
        "\n",
        "    print(\"Let's play a game of Cowbull!\") #explanation\n",
        "    print(\"I will generate a number, and you have to guess the numbers one digit at a time.\")\n",
        "    print(\"For every number in the wrong place, you get a cow. For every one in the right place, you get a bull.\")\n",
        "    print(\"The game ends when you get 4 bulls!\")\n",
        "    print(\"Type exit at any prompt to exit.\")\n",
        "\n",
        "    while playing:\n",
        "        user_guess = input(\"Give me your best guess!\")\n",
        "        if user_guess == \"exit\":\n",
        "            break\n",
        "        cowbullcount = compare_numbers(number,user_guess)\n",
        "        guesses+=1\n",
        "\n",
        "        print(\"You have \"+ str(cowbullcount[0]) + \" cows, and \" + str(cowbullcount[1]) + \" bulls.\")\n",
        "\n",
        "        if cowbullcount[1]==4:\n",
        "            playing = False\n",
        "            print(\"You win the game after \" + str(guesses) + \"! The number was \"+str(number))\n",
        "            break #redundant exit\n",
        "        else:\n",
        "            print(\"Your guess isn't quite right, try again.\")"
      ],
      "execution_count": null,
      "outputs": []
    },
    {
      "cell_type": "markdown",
      "metadata": {
        "id": "WuNgPJipK4Fb"
      },
      "source": [
        "5. Write a function that takes an ordered list of numbers (a list where the elements are in order from smallest to largest) and another number. The function decides whether or not the given number is inside the list and returns (then prints) an appropriate boolean."
      ]
    },
    {
      "cell_type": "code",
      "metadata": {
        "id": "YAKjUodqIPii"
      },
      "source": [
        "# The exercise can be found at: http://www.practicepython.org/exercise/2014/11/11/20-element-search.html\n",
        "#\n",
        "# Write a function that takes an ordered list of numbers (a list where the elements are in order from smallest to largest)\n",
        "# and another number. The function decides whether or not the given number is inside the list and returns (then prints)\n",
        "# an appropriate boolean.\n",
        "\n",
        "# find is a function that takes an ordered list of numbers and another number,\n",
        "# returning true or false whether the element appears in the list\n",
        "#\n",
        "# l is a list ordered from smallest to largest\n",
        "# element is the number to find in the original list\n",
        "def find(ordered_list, element_to_find):\n",
        "  for element in ordered_list:\n",
        "    if element == element_to_find:\n",
        "      return True\n",
        "  return False\n",
        "\n",
        "if __name__==\"__main__\":\n",
        "  l = [2, 4, 6, 8, 10]\n",
        "  print(find(l, 5)) # prints False\n",
        "  print(find(l, 10)) # prints True\n",
        "  print(find(l, -1)) # prints False\n",
        "  print(find(l, 2)) # prints True"
      ],
      "execution_count": null,
      "outputs": []
    },
    {
      "cell_type": "markdown",
      "metadata": {
        "id": "CReSIHBXNJwb"
      },
      "source": [
        "# **Additional Resources (Best Free Coding Practice Platforms)**"
      ]
    },
    {
      "cell_type": "markdown",
      "metadata": {
        "id": "AGoapZT7NP9H"
      },
      "source": [
        "10 best free resources to make your coding preperarion : https://ganapathikakkirala.medium.com/10-free-platforms-to-brush-up-your-coding-skills-before-interviews-774feee935ba"
      ]
    }
  ]
}